{
 "cells": [
  {
   "cell_type": "markdown",
   "metadata": {
    "heading_collapsed": true
   },
   "source": [
    "# Todos"
   ]
  },
  {
   "cell_type": "markdown",
   "metadata": {
    "heading_collapsed": true,
    "hidden": true
   },
   "source": [
    "## General\n",
    "\n",
    "- bale ta ballast trips apo ships tensor pisw sto ships df ❌\n",
    "- ananewne ka8w fora ta contracts_df kai ships_df me oti allagh ginetai stous contracts_tensor kai ships_tensor\n"
   ]
  },
  {
   "cell_type": "markdown",
   "metadata": {
    "hidden": true
   },
   "source": [
    "## Step"
   ]
  },
  {
   "cell_type": "markdown",
   "metadata": {
    "hidden": true
   },
   "source": [
    "### Allakse to state otan allazei h mera ❌"
   ]
  },
  {
   "cell_type": "markdown",
   "metadata": {
    "hidden": true
   },
   "source": [
    "afou looparw se ola ta available ships shmainei oti h mera allazei\n",
    "\n",
    "   #### - diamorfwse katallhla to ships log ❌\n",
    "   \n",
    "          * to ships log prepei na exei values >= 0 ❌\n",
    "          * apo mh mhdenika ships log values afairese 1 epeidh perase mia mera ❌\n",
    "          * an prokypsoun ships_log[ship] = 0 tote kane to `ship_availability` autou tou ship 1 ❌\n",
    "          * osa ships einai available (exoun ships_log[ship] == 0) bainoun se lista `available_ships` pou 8a thn allazeis ka8e mera. ❌\n",
    "           \n",
    "\n",
    "   #### -  kane generate 4 nea contracts ❌"
   ]
  },
  {
   "cell_type": "markdown",
   "metadata": {
    "heading_collapsed": true,
    "hidden": true
   },
   "source": [
    "### Pws ypologizw to `reward` apo to action  ✅\n",
    "    "
   ]
  },
  {
   "cell_type": "markdown",
   "metadata": {
    "hidden": true
   },
   "source": [
    "   #### - Value of contract ✅\n",
    "   #### - CII ✅\n",
    "   #### - Lateness ✅\n",
    "   #### - Ftiakse sugentrwtiko `calculate_reward(selected_ship_idx,selected_contract,selected_speed)` function ✅"
   ]
  },
  {
   "cell_type": "markdown",
   "metadata": {
    "heading_collapsed": true,
    "hidden": true
   },
   "source": [
    "### Pws na kanw swsta update to `state`  ✅\n",
    "  "
   ]
  },
  {
   "cell_type": "markdown",
   "metadata": {
    "hidden": true
   },
   "source": [
    "      \n",
    "   #### - contract tensor ✅\n",
    "   #### - ship tensor ✅\n",
    "   #### - contract mask ✅\n",
    "   #### - ship mask ✅\n",
    "   #### - ship_log ✅\n",
    "        "
   ]
  },
  {
   "cell_type": "markdown",
   "metadata": {
    "heading_collapsed": true,
    "hidden": true
   },
   "source": [
    "## Train \n",
    "\n",
    "ti einai ta `advantages`, `returns` kai giati xrhsimopoioyntai:\n",
    "        \n",
    "- ❌ sthn baseline_net.update(observations, returns) gia to update to baselineNet\n",
    "- ❌ sthn PolicyGradient.update_policy(observations, actions, advantages)gia to update ths policygradient "
   ]
  },
  {
   "cell_type": "markdown",
   "metadata": {},
   "source": [
    "# Code"
   ]
  },
  {
   "cell_type": "code",
   "execution_count": 1,
   "metadata": {},
   "outputs": [],
   "source": [
    "# autoreloading modules that i change in vscode\n",
    "%load_ext autoreload\n",
    "%autoreload 2"
   ]
  },
  {
   "cell_type": "code",
   "execution_count": 2,
   "metadata": {},
   "outputs": [],
   "source": [
    "import gym\n",
    "import tensorflow as tf\n",
    "import tensorflow_probability as tfp\n",
    "import numpy as np\n",
    "import pandas as pd\n",
    "import matplotlib.pyplot as plt\n",
    "import sys"
   ]
  },
  {
   "cell_type": "code",
   "execution_count": 169,
   "metadata": {
    "code_folding": [
     0
    ]
   },
   "outputs": [],
   "source": [
    "# run this cell when needing to reload the classes CarbonEnv, BaselineNet, PolicyNet\n",
    "\n",
    "del sys.modules['models.models']\n",
    "del sys.modules['env.env']\n",
    "del sys.modules['training.training_functions']\n",
    "del sys.modules['utils.utils']\n",
    "\n",
    "from env.env import CarbonEnv\n",
    "from models.models import BaselineNet, PolicyNet, CarbonModel\n",
    "from training.training_functions import PolicyGradient"
   ]
  },
  {
   "cell_type": "code",
   "execution_count": 170,
   "metadata": {},
   "outputs": [],
   "source": [
    "from env.env import CarbonEnv\n",
    "from models.models import BaselineNet, PolicyNet, CarbonModel\n",
    "from training.training_functions import PolicyGradient"
   ]
  },
  {
   "cell_type": "code",
   "execution_count": null,
   "metadata": {},
   "outputs": [],
   "source": [
    "envo = CarbonEnv()"
   ]
  },
  {
   "cell_type": "code",
   "execution_count": 5,
   "metadata": {},
   "outputs": [],
   "source": [
    "model = PolicyGradient(envo)"
   ]
  },
  {
   "cell_type": "code",
   "execution_count": 6,
   "metadata": {
    "scrolled": true
   },
   "outputs": [
    {
     "name": "stdout",
     "output_type": "stream",
     "text": [
      "Ksekina to year: 0\n",
      "Xronia: 1 kai mera: 0\n",
      "Ta available ships einai [1, 2, 3, 4]\n",
      "Phra contract gia to available ship 1\n",
      "Den phra contract gia to available ship 2 \n",
      "Den phra contract gia to available ship 3 \n",
      "Den phra contract gia to available ship 4 \n",
      "Xronia: 1 kai mera: 1\n",
      "Ta available ships einai [2, 3, 4]\n",
      "Phra contract gia to available ship 2\n",
      "Den phra contract gia to available ship 3 \n",
      "Den phra contract gia to available ship 4 \n",
      "Xronia: 1 kai mera: 2\n",
      "Ta available ships einai [2, 3, 4]\n",
      "Phra contract gia to available ship 2\n",
      "Den phra contract gia to available ship 3 \n",
      "Den phra contract gia to available ship 4 \n",
      "Xronia: 1 kai mera: 3\n",
      "Ta available ships einai [2, 3, 4]\n",
      "Phra contract gia to available ship 2\n",
      "Den phra contract gia to available ship 3 \n",
      "Den phra contract gia to available ship 4 \n",
      "Xronia: 1 kai mera: 4\n",
      "Ta available ships einai [2, 3, 4]\n",
      "Phra contract gia to available ship 2\n",
      "Den phra contract gia to available ship 3 \n",
      "Den phra contract gia to available ship 4 \n",
      "Xronia: 0, sunolo apo steps: 16 \n"
     ]
    }
   ],
   "source": [
    "year_data, num_steps = model.train()"
   ]
  },
  {
   "cell_type": "code",
   "execution_count": 171,
   "metadata": {},
   "outputs": [],
   "source": [
    "baseline_net = BaselineNet(128,1)\n",
    "policy_net = PolicyNet(128,13)"
   ]
  },
  {
   "cell_type": "code",
   "execution_count": 8,
   "metadata": {},
   "outputs": [],
   "source": [
    "rewards_array = year_data['reward']"
   ]
  },
  {
   "cell_type": "code",
   "execution_count": 9,
   "metadata": {},
   "outputs": [],
   "source": [
    "states_array = year_data['states']"
   ]
  },
  {
   "cell_type": "code",
   "execution_count": 10,
   "metadata": {},
   "outputs": [],
   "source": [
    "actions_array = year_data['action']"
   ]
  },
  {
   "cell_type": "code",
   "execution_count": 27,
   "metadata": {},
   "outputs": [],
   "source": [
    "list_of_states = [list(state.values()) for state in states_array ]"
   ]
  },
  {
   "cell_type": "code",
   "execution_count": 34,
   "metadata": {},
   "outputs": [],
   "source": [
    "a = list_of_states[0]"
   ]
  },
  {
   "cell_type": "code",
   "execution_count": 35,
   "metadata": {},
   "outputs": [],
   "source": [
    "b = list_of_states[1]"
   ]
  },
  {
   "cell_type": "code",
   "execution_count": 44,
   "metadata": {},
   "outputs": [],
   "source": [
    "list_of_states_0 = tf.stack([state[0] for state in list_of_states],0)"
   ]
  },
  {
   "cell_type": "code",
   "execution_count": 45,
   "metadata": {},
   "outputs": [],
   "source": [
    "list_of_states_1 = tf.stack([state[1] for state in list_of_states],0)"
   ]
  },
  {
   "cell_type": "code",
   "execution_count": 49,
   "metadata": {},
   "outputs": [],
   "source": [
    "dict_of_states = {\"contracts_state\":list_of_states_0,\n",
    "                  \"ships_state\":list_of_states_1}"
   ]
  },
  {
   "cell_type": "code",
   "execution_count": 172,
   "metadata": {},
   "outputs": [],
   "source": [
    "def get_returns(rewards_array):\n",
    "        T = len(rewards_array)\n",
    "        discounts = np.logspace(0, T, num=T, base=0.99, endpoint=False)\n",
    "        returns = np.array([np.sum(discounts[: T - t] * rewards_array[t:]) for t in range(T)])\n",
    "        return returns"
   ]
  },
  {
   "cell_type": "code",
   "execution_count": 173,
   "metadata": {},
   "outputs": [],
   "source": [
    "returns = get_returns(rewards_array)"
   ]
  },
  {
   "cell_type": "code",
   "execution_count": 155,
   "metadata": {},
   "outputs": [
    {
     "data": {
      "text/plain": [
       "array([-10100.11362652, -10224.55359376,  -9317.73090279,  -8401.74838665,\n",
       "        -7476.51352187,  -7567.91914613,  -6634.26176377,  -5691.17349876,\n",
       "        -5764.46315942,  -4812.58904992,  -3851.10005042,  -3905.72088461,\n",
       "        -2935.07160061,  -1954.6177784 ,  -1990.        ,  -1000.        ])"
      ]
     },
     "execution_count": 155,
     "metadata": {},
     "output_type": "execute_result"
    }
   ],
   "source": [
    "returns"
   ]
  },
  {
   "cell_type": "code",
   "execution_count": 174,
   "metadata": {},
   "outputs": [
    {
     "data": {
      "text/plain": [
       "<tf.Tensor: shape=(1,), dtype=float32, numpy=array([-355.66592], dtype=float32)>"
      ]
     },
     "execution_count": 174,
     "metadata": {},
     "output_type": "execute_result"
    }
   ],
   "source": [
    "baseline_net.forward(states_array[0])"
   ]
  },
  {
   "cell_type": "code",
   "execution_count": 177,
   "metadata": {},
   "outputs": [],
   "source": [
    "def get_advantage(returns, states):\n",
    "    value_array = np.array([])\n",
    "    for state in states:\n",
    "        value = baseline_net.forward(state).numpy()\n",
    "        value_array = np.append(value_array,value)\n",
    "    advantages = returns - value_array\n",
    "    advantages = (advantages - np.mean(advantages)) / np.sqrt(np.sum(advantages ** 2))\n",
    "    return advantages"
   ]
  },
  {
   "cell_type": "code",
   "execution_count": 178,
   "metadata": {},
   "outputs": [],
   "source": [
    "advantages = get_advantage(returns,states_array)"
   ]
  },
  {
   "cell_type": "code",
   "execution_count": 179,
   "metadata": {},
   "outputs": [
    {
     "data": {
      "text/plain": [
       "array([-0.1794018 , -0.18450652, -0.14730726, -0.10973225, -0.07177956,\n",
       "       -0.07552916, -0.0372291 ,  0.00145785, -0.0015486 ,  0.03749874,\n",
       "        0.0769405 ,  0.07469987,  0.1145174 ,  0.15473714,  0.15328571,\n",
       "        0.19389703])"
      ]
     },
     "execution_count": 179,
     "metadata": {},
     "output_type": "execute_result"
    }
   ],
   "source": [
    "advantages"
   ]
  },
  {
   "cell_type": "code",
   "execution_count": 185,
   "metadata": {},
   "outputs": [
    {
     "data": {
      "text/plain": [
       "array([-10100.11362652, -10224.55359376,  -9317.73090279,  -8401.74838665,\n",
       "        -7476.51352187,  -7567.91914613,  -6634.26176377,  -5691.17349876,\n",
       "        -5764.46315942,  -4812.58904992,  -3851.10005042,  -3905.72088461,\n",
       "        -2935.07160061,  -1954.6177784 ,  -1990.        ,  -1000.        ])"
      ]
     },
     "execution_count": 185,
     "metadata": {},
     "output_type": "execute_result"
    }
   ],
   "source": [
    "returns"
   ]
  },
  {
   "cell_type": "code",
   "execution_count": 219,
   "metadata": {},
   "outputs": [
    {
     "data": {
      "text/plain": [
       "<tf.Tensor: shape=(16,), dtype=float32, numpy=\n",
       "array([-355.66592, -355.66592, -355.66592, -355.66592, -355.6204 ,\n",
       "       -355.6204 , -355.6204 , -355.62103, -355.62103, -355.62103,\n",
       "       -355.62134, -355.62134, -355.62134, -355.6219 , -355.6219 ,\n",
       "       -355.6219 ], dtype=float32)>"
      ]
     },
     "execution_count": 219,
     "metadata": {},
     "output_type": "execute_result"
    }
   ],
   "source": [
    "preds = tf.concat([baseline_net.model(state) for state in states_array],axis=0)\n",
    "preds"
   ]
  },
  {
   "cell_type": "code",
   "execution_count": 223,
   "metadata": {},
   "outputs": [
    {
     "data": {
      "text/plain": [
       "<tf.Tensor: shape=(), dtype=float32, numpy=37141220.0>"
      ]
     },
     "execution_count": 223,
     "metadata": {},
     "output_type": "execute_result"
    }
   ],
   "source": [
    "tf.keras.losses.mean_squared_error(y_true=returns,y_pred=preds)"
   ]
  },
  {
   "cell_type": "code",
   "execution_count": 222,
   "metadata": {},
   "outputs": [
    {
     "data": {
      "text/plain": [
       "array([-10100.11362652, -10224.55359376,  -9317.73090279,  -8401.74838665,\n",
       "        -7476.51352187,  -7567.91914613,  -6634.26176377,  -5691.17349876,\n",
       "        -5764.46315942,  -4812.58904992,  -3851.10005042,  -3905.72088461,\n",
       "        -2935.07160061,  -1954.6177784 ,  -1990.        ,  -1000.        ])"
      ]
     },
     "execution_count": 222,
     "metadata": {},
     "output_type": "execute_result"
    }
   ],
   "source": [
    "returns"
   ]
  },
  {
   "cell_type": "code",
   "execution_count": null,
   "metadata": {},
   "outputs": [],
   "source": []
  },
  {
   "cell_type": "code",
   "execution_count": 224,
   "metadata": {},
   "outputs": [
    {
     "data": {
      "text/plain": [
       "[{'contracts_state': <tf.Tensor: shape=(4, 10), dtype=float32, numpy=\n",
       "  array([[3.0000e+00, 6.0000e+00, 1.0000e+00, 0.0000e+00, 7.0000e+00,\n",
       "          4.3747e+04, 8.0000e+00, 1.0000e+00, 8.4600e+02, 5.0000e+00],\n",
       "         [9.0000e+00, 2.0000e+00, 3.0000e+00, 0.0000e+00, 1.5000e+01,\n",
       "          6.1231e+04, 1.6000e+01, 0.0000e+00, 2.7640e+03, 1.1000e+01],\n",
       "         [7.0000e+00, 5.0000e+00, 4.0000e+00, 0.0000e+00, 8.0000e+00,\n",
       "          7.5258e+04, 9.0000e+00, 1.0000e+00, 1.2230e+03, 1.0000e+01],\n",
       "         [2.0000e+00, 3.0000e+00, 3.0000e+00, 0.0000e+00, 1.0000e+01,\n",
       "          6.4033e+04, 1.1000e+01, 1.0000e+00, 1.6530e+03, 1.0000e+01]],\n",
       "        dtype=float32)>,\n",
       "  'ships_state': <tf.Tensor: shape=(4, 11), dtype=float32, numpy=\n",
       "  array([[1.0000000e+00, 5.0000000e+04, 5.3851833e+00, 1.9075143e-01,\n",
       "          2.0000000e+00, 1.4000000e+01, 0.0000000e+00, 5.8500000e+02,\n",
       "          6.9600000e+02, 4.9200000e+02, 2.2370000e+03],\n",
       "         [2.0000000e+00, 6.0000000e+04, 4.8078370e+00, 0.0000000e+00,\n",
       "          2.0000000e+00, 0.0000000e+00, 1.0000000e+00, 1.6530000e+03,\n",
       "          2.7640000e+03, 2.5030000e+03, 0.0000000e+00],\n",
       "         [3.0000000e+00, 7.0000000e+04, 4.3682637e+00, 0.0000000e+00,\n",
       "          2.0000000e+00, 0.0000000e+00, 1.0000000e+00, 1.6530000e+03,\n",
       "          2.7640000e+03, 2.5030000e+03, 0.0000000e+00],\n",
       "         [4.0000000e+00, 8.0000000e+04, 4.0201092e+00, 0.0000000e+00,\n",
       "          4.0000000e+00, 0.0000000e+00, 1.0000000e+00, 1.0020000e+03,\n",
       "          1.9800000e+02, 5.4300000e+02, 2.6190000e+03]], dtype=float32)>},\n",
       " {'contracts_state': <tf.Tensor: shape=(4, 10), dtype=float32, numpy=\n",
       "  array([[3.0000e+00, 6.0000e+00, 1.0000e+00, 0.0000e+00, 7.0000e+00,\n",
       "          4.3747e+04, 8.0000e+00, 1.0000e+00, 8.4600e+02, 5.0000e+00],\n",
       "         [9.0000e+00, 2.0000e+00, 3.0000e+00, 0.0000e+00, 1.5000e+01,\n",
       "          6.1231e+04, 1.6000e+01, 0.0000e+00, 2.7640e+03, 1.1000e+01],\n",
       "         [7.0000e+00, 5.0000e+00, 4.0000e+00, 0.0000e+00, 8.0000e+00,\n",
       "          7.5258e+04, 9.0000e+00, 1.0000e+00, 1.2230e+03, 1.0000e+01],\n",
       "         [2.0000e+00, 3.0000e+00, 3.0000e+00, 0.0000e+00, 1.0000e+01,\n",
       "          6.4033e+04, 1.1000e+01, 1.0000e+00, 1.6530e+03, 1.0000e+01]],\n",
       "        dtype=float32)>,\n",
       "  'ships_state': <tf.Tensor: shape=(4, 11), dtype=float32, numpy=\n",
       "  array([[1.0000000e+00, 5.0000000e+04, 5.3851833e+00, 1.9075143e-01,\n",
       "          2.0000000e+00, 1.4000000e+01, 0.0000000e+00, 5.8500000e+02,\n",
       "          6.9600000e+02, 4.9200000e+02, 2.2370000e+03],\n",
       "         [2.0000000e+00, 6.0000000e+04, 4.8078370e+00, 0.0000000e+00,\n",
       "          2.0000000e+00, 0.0000000e+00, 1.0000000e+00, 1.6530000e+03,\n",
       "          2.7640000e+03, 2.5030000e+03, 0.0000000e+00],\n",
       "         [3.0000000e+00, 7.0000000e+04, 4.3682637e+00, 0.0000000e+00,\n",
       "          2.0000000e+00, 0.0000000e+00, 1.0000000e+00, 1.6530000e+03,\n",
       "          2.7640000e+03, 2.5030000e+03, 0.0000000e+00],\n",
       "         [4.0000000e+00, 8.0000000e+04, 4.0201092e+00, 0.0000000e+00,\n",
       "          4.0000000e+00, 0.0000000e+00, 1.0000000e+00, 1.0020000e+03,\n",
       "          1.9800000e+02, 5.4300000e+02, 2.6190000e+03]], dtype=float32)>},\n",
       " {'contracts_state': <tf.Tensor: shape=(4, 10), dtype=float32, numpy=\n",
       "  array([[3.0000e+00, 6.0000e+00, 1.0000e+00, 0.0000e+00, 7.0000e+00,\n",
       "          4.3747e+04, 8.0000e+00, 1.0000e+00, 8.4600e+02, 5.0000e+00],\n",
       "         [9.0000e+00, 2.0000e+00, 3.0000e+00, 0.0000e+00, 1.5000e+01,\n",
       "          6.1231e+04, 1.6000e+01, 0.0000e+00, 2.7640e+03, 1.1000e+01],\n",
       "         [7.0000e+00, 5.0000e+00, 4.0000e+00, 0.0000e+00, 8.0000e+00,\n",
       "          7.5258e+04, 9.0000e+00, 1.0000e+00, 1.2230e+03, 1.0000e+01],\n",
       "         [2.0000e+00, 3.0000e+00, 3.0000e+00, 0.0000e+00, 1.0000e+01,\n",
       "          6.4033e+04, 1.1000e+01, 1.0000e+00, 1.6530e+03, 1.0000e+01]],\n",
       "        dtype=float32)>,\n",
       "  'ships_state': <tf.Tensor: shape=(4, 11), dtype=float32, numpy=\n",
       "  array([[1.0000000e+00, 5.0000000e+04, 5.3851833e+00, 1.9075143e-01,\n",
       "          2.0000000e+00, 1.4000000e+01, 0.0000000e+00, 5.8500000e+02,\n",
       "          6.9600000e+02, 4.9200000e+02, 2.2370000e+03],\n",
       "         [2.0000000e+00, 6.0000000e+04, 4.8078370e+00, 0.0000000e+00,\n",
       "          2.0000000e+00, 0.0000000e+00, 1.0000000e+00, 1.6530000e+03,\n",
       "          2.7640000e+03, 2.5030000e+03, 0.0000000e+00],\n",
       "         [3.0000000e+00, 7.0000000e+04, 4.3682637e+00, 0.0000000e+00,\n",
       "          2.0000000e+00, 0.0000000e+00, 1.0000000e+00, 1.6530000e+03,\n",
       "          2.7640000e+03, 2.5030000e+03, 0.0000000e+00],\n",
       "         [4.0000000e+00, 8.0000000e+04, 4.0201092e+00, 0.0000000e+00,\n",
       "          4.0000000e+00, 0.0000000e+00, 1.0000000e+00, 1.0020000e+03,\n",
       "          1.9800000e+02, 5.4300000e+02, 2.6190000e+03]], dtype=float32)>},\n",
       " {'contracts_state': <tf.Tensor: shape=(4, 10), dtype=float32, numpy=\n",
       "  array([[3.0000e+00, 6.0000e+00, 1.0000e+00, 0.0000e+00, 7.0000e+00,\n",
       "          4.3747e+04, 8.0000e+00, 1.0000e+00, 8.4600e+02, 5.0000e+00],\n",
       "         [9.0000e+00, 2.0000e+00, 3.0000e+00, 0.0000e+00, 1.5000e+01,\n",
       "          6.1231e+04, 1.6000e+01, 0.0000e+00, 2.7640e+03, 1.1000e+01],\n",
       "         [7.0000e+00, 5.0000e+00, 4.0000e+00, 0.0000e+00, 8.0000e+00,\n",
       "          7.5258e+04, 9.0000e+00, 1.0000e+00, 1.2230e+03, 1.0000e+01],\n",
       "         [2.0000e+00, 3.0000e+00, 3.0000e+00, 0.0000e+00, 1.0000e+01,\n",
       "          6.4033e+04, 1.1000e+01, 1.0000e+00, 1.6530e+03, 1.0000e+01]],\n",
       "        dtype=float32)>,\n",
       "  'ships_state': <tf.Tensor: shape=(4, 11), dtype=float32, numpy=\n",
       "  array([[1.0000000e+00, 5.0000000e+04, 5.3851833e+00, 1.9075143e-01,\n",
       "          2.0000000e+00, 1.4000000e+01, 0.0000000e+00, 5.8500000e+02,\n",
       "          6.9600000e+02, 4.9200000e+02, 2.2370000e+03],\n",
       "         [2.0000000e+00, 6.0000000e+04, 4.8078370e+00, 0.0000000e+00,\n",
       "          2.0000000e+00, 0.0000000e+00, 1.0000000e+00, 1.6530000e+03,\n",
       "          2.7640000e+03, 2.5030000e+03, 0.0000000e+00],\n",
       "         [3.0000000e+00, 7.0000000e+04, 4.3682637e+00, 0.0000000e+00,\n",
       "          2.0000000e+00, 0.0000000e+00, 1.0000000e+00, 1.6530000e+03,\n",
       "          2.7640000e+03, 2.5030000e+03, 0.0000000e+00],\n",
       "         [4.0000000e+00, 8.0000000e+04, 4.0201092e+00, 0.0000000e+00,\n",
       "          4.0000000e+00, 0.0000000e+00, 1.0000000e+00, 1.0020000e+03,\n",
       "          1.9800000e+02, 5.4300000e+02, 2.6190000e+03]], dtype=float32)>},\n",
       " {'contracts_state': <tf.Tensor: shape=(4, 10), dtype=float32, numpy=\n",
       "  array([[3.0000e+00, 6.0000e+00, 1.0000e+00, 0.0000e+00, 7.0000e+00,\n",
       "          4.3747e+04, 8.0000e+00, 1.0000e+00, 8.4600e+02, 5.0000e+00],\n",
       "         [9.0000e+00, 2.0000e+00, 3.0000e+00, 0.0000e+00, 1.5000e+01,\n",
       "          6.1231e+04, 1.6000e+01, 0.0000e+00, 2.7640e+03, 1.1000e+01],\n",
       "         [7.0000e+00, 5.0000e+00, 4.0000e+00, 0.0000e+00, 8.0000e+00,\n",
       "          7.5258e+04, 9.0000e+00, 1.0000e+00, 1.2230e+03, 1.0000e+01],\n",
       "         [2.0000e+00, 3.0000e+00, 3.0000e+00, 0.0000e+00, 1.0000e+01,\n",
       "          6.4033e+04, 1.1000e+01, 1.0000e+00, 1.6530e+03, 1.0000e+01]],\n",
       "        dtype=float32)>,\n",
       "  'ships_state': <tf.Tensor: shape=(4, 11), dtype=float32, numpy=\n",
       "  array([[1.0000000e+00, 5.0000000e+04, 5.3851833e+00, 1.9075143e-01,\n",
       "          2.0000000e+00, 1.4000000e+01, 0.0000000e+00, 5.8500000e+02,\n",
       "          6.9600000e+02, 4.9200000e+02, 2.2370000e+03],\n",
       "         [2.0000000e+00, 6.0000000e+04, 4.8078370e+00, 8.1403702e-02,\n",
       "          2.0000000e+00, 1.4000000e+01, 0.0000000e+00, 1.6530000e+03,\n",
       "          2.7640000e+03, 2.5030000e+03, 0.0000000e+00],\n",
       "         [3.0000000e+00, 7.0000000e+04, 4.3682637e+00, 0.0000000e+00,\n",
       "          2.0000000e+00, 0.0000000e+00, 1.0000000e+00, 1.6530000e+03,\n",
       "          2.7640000e+03, 2.5030000e+03, 0.0000000e+00],\n",
       "         [4.0000000e+00, 8.0000000e+04, 4.0201092e+00, 0.0000000e+00,\n",
       "          4.0000000e+00, 0.0000000e+00, 1.0000000e+00, 1.0020000e+03,\n",
       "          1.9800000e+02, 5.4300000e+02, 2.6190000e+03]], dtype=float32)>},\n",
       " {'contracts_state': <tf.Tensor: shape=(4, 10), dtype=float32, numpy=\n",
       "  array([[3.0000e+00, 6.0000e+00, 1.0000e+00, 0.0000e+00, 7.0000e+00,\n",
       "          4.3747e+04, 8.0000e+00, 1.0000e+00, 8.4600e+02, 5.0000e+00],\n",
       "         [9.0000e+00, 2.0000e+00, 3.0000e+00, 0.0000e+00, 1.5000e+01,\n",
       "          6.1231e+04, 1.6000e+01, 0.0000e+00, 2.7640e+03, 1.1000e+01],\n",
       "         [7.0000e+00, 5.0000e+00, 4.0000e+00, 0.0000e+00, 8.0000e+00,\n",
       "          7.5258e+04, 9.0000e+00, 1.0000e+00, 1.2230e+03, 1.0000e+01],\n",
       "         [2.0000e+00, 3.0000e+00, 3.0000e+00, 0.0000e+00, 1.0000e+01,\n",
       "          6.4033e+04, 1.1000e+01, 1.0000e+00, 1.6530e+03, 1.0000e+01]],\n",
       "        dtype=float32)>,\n",
       "  'ships_state': <tf.Tensor: shape=(4, 11), dtype=float32, numpy=\n",
       "  array([[1.0000000e+00, 5.0000000e+04, 5.3851833e+00, 1.9075143e-01,\n",
       "          2.0000000e+00, 1.4000000e+01, 0.0000000e+00, 5.8500000e+02,\n",
       "          6.9600000e+02, 4.9200000e+02, 2.2370000e+03],\n",
       "         [2.0000000e+00, 6.0000000e+04, 4.8078370e+00, 8.1403702e-02,\n",
       "          2.0000000e+00, 1.4000000e+01, 0.0000000e+00, 1.6530000e+03,\n",
       "          2.7640000e+03, 2.5030000e+03, 0.0000000e+00],\n",
       "         [3.0000000e+00, 7.0000000e+04, 4.3682637e+00, 0.0000000e+00,\n",
       "          2.0000000e+00, 0.0000000e+00, 1.0000000e+00, 1.6530000e+03,\n",
       "          2.7640000e+03, 2.5030000e+03, 0.0000000e+00],\n",
       "         [4.0000000e+00, 8.0000000e+04, 4.0201092e+00, 0.0000000e+00,\n",
       "          4.0000000e+00, 0.0000000e+00, 1.0000000e+00, 1.0020000e+03,\n",
       "          1.9800000e+02, 5.4300000e+02, 2.6190000e+03]], dtype=float32)>},\n",
       " {'contracts_state': <tf.Tensor: shape=(4, 10), dtype=float32, numpy=\n",
       "  array([[3.0000e+00, 6.0000e+00, 1.0000e+00, 0.0000e+00, 7.0000e+00,\n",
       "          4.3747e+04, 8.0000e+00, 1.0000e+00, 8.4600e+02, 5.0000e+00],\n",
       "         [9.0000e+00, 2.0000e+00, 3.0000e+00, 0.0000e+00, 1.5000e+01,\n",
       "          6.1231e+04, 1.6000e+01, 0.0000e+00, 2.7640e+03, 1.1000e+01],\n",
       "         [7.0000e+00, 5.0000e+00, 4.0000e+00, 0.0000e+00, 8.0000e+00,\n",
       "          7.5258e+04, 9.0000e+00, 1.0000e+00, 1.2230e+03, 1.0000e+01],\n",
       "         [2.0000e+00, 3.0000e+00, 3.0000e+00, 0.0000e+00, 1.0000e+01,\n",
       "          6.4033e+04, 1.1000e+01, 1.0000e+00, 1.6530e+03, 1.0000e+01]],\n",
       "        dtype=float32)>,\n",
       "  'ships_state': <tf.Tensor: shape=(4, 11), dtype=float32, numpy=\n",
       "  array([[1.0000000e+00, 5.0000000e+04, 5.3851833e+00, 1.9075143e-01,\n",
       "          2.0000000e+00, 1.4000000e+01, 0.0000000e+00, 5.8500000e+02,\n",
       "          6.9600000e+02, 4.9200000e+02, 2.2370000e+03],\n",
       "         [2.0000000e+00, 6.0000000e+04, 4.8078370e+00, 8.1403702e-02,\n",
       "          2.0000000e+00, 1.4000000e+01, 0.0000000e+00, 1.6530000e+03,\n",
       "          2.7640000e+03, 2.5030000e+03, 0.0000000e+00],\n",
       "         [3.0000000e+00, 7.0000000e+04, 4.3682637e+00, 0.0000000e+00,\n",
       "          2.0000000e+00, 0.0000000e+00, 1.0000000e+00, 1.6530000e+03,\n",
       "          2.7640000e+03, 2.5030000e+03, 0.0000000e+00],\n",
       "         [4.0000000e+00, 8.0000000e+04, 4.0201092e+00, 0.0000000e+00,\n",
       "          4.0000000e+00, 0.0000000e+00, 1.0000000e+00, 1.0020000e+03,\n",
       "          1.9800000e+02, 5.4300000e+02, 2.6190000e+03]], dtype=float32)>},\n",
       " {'contracts_state': <tf.Tensor: shape=(4, 10), dtype=float32, numpy=\n",
       "  array([[3.0000e+00, 6.0000e+00, 1.0000e+00, 0.0000e+00, 7.0000e+00,\n",
       "          4.3747e+04, 8.0000e+00, 1.0000e+00, 8.4600e+02, 5.0000e+00],\n",
       "         [9.0000e+00, 2.0000e+00, 3.0000e+00, 0.0000e+00, 1.5000e+01,\n",
       "          6.1231e+04, 1.6000e+01, 0.0000e+00, 2.7640e+03, 1.1000e+01],\n",
       "         [7.0000e+00, 5.0000e+00, 4.0000e+00, 0.0000e+00, 8.0000e+00,\n",
       "          7.5258e+04, 9.0000e+00, 1.0000e+00, 1.2230e+03, 1.0000e+01],\n",
       "         [2.0000e+00, 3.0000e+00, 3.0000e+00, 0.0000e+00, 1.0000e+01,\n",
       "          6.4033e+04, 1.1000e+01, 1.0000e+00, 1.6530e+03, 1.0000e+01]],\n",
       "        dtype=float32)>,\n",
       "  'ships_state': <tf.Tensor: shape=(4, 11), dtype=float32, numpy=\n",
       "  array([[1.0000000e+00, 5.0000000e+04, 5.3851833e+00, 1.9075143e-01,\n",
       "          2.0000000e+00, 1.4000000e+01, 0.0000000e+00, 5.8500000e+02,\n",
       "          6.9600000e+02, 4.9200000e+02, 2.2370000e+03],\n",
       "         [2.0000000e+00, 6.0000000e+04, 4.8078370e+00, 1.6280740e-01,\n",
       "          2.0000000e+00, 1.4000000e+01, 0.0000000e+00, 1.6530000e+03,\n",
       "          2.7640000e+03, 2.5030000e+03, 0.0000000e+00],\n",
       "         [3.0000000e+00, 7.0000000e+04, 4.3682637e+00, 0.0000000e+00,\n",
       "          2.0000000e+00, 0.0000000e+00, 1.0000000e+00, 1.6530000e+03,\n",
       "          2.7640000e+03, 2.5030000e+03, 0.0000000e+00],\n",
       "         [4.0000000e+00, 8.0000000e+04, 4.0201092e+00, 0.0000000e+00,\n",
       "          4.0000000e+00, 0.0000000e+00, 1.0000000e+00, 1.0020000e+03,\n",
       "          1.9800000e+02, 5.4300000e+02, 2.6190000e+03]], dtype=float32)>},\n",
       " {'contracts_state': <tf.Tensor: shape=(4, 10), dtype=float32, numpy=\n",
       "  array([[3.0000e+00, 6.0000e+00, 1.0000e+00, 0.0000e+00, 7.0000e+00,\n",
       "          4.3747e+04, 8.0000e+00, 1.0000e+00, 8.4600e+02, 5.0000e+00],\n",
       "         [9.0000e+00, 2.0000e+00, 3.0000e+00, 0.0000e+00, 1.5000e+01,\n",
       "          6.1231e+04, 1.6000e+01, 0.0000e+00, 2.7640e+03, 1.1000e+01],\n",
       "         [7.0000e+00, 5.0000e+00, 4.0000e+00, 0.0000e+00, 8.0000e+00,\n",
       "          7.5258e+04, 9.0000e+00, 1.0000e+00, 1.2230e+03, 1.0000e+01],\n",
       "         [2.0000e+00, 3.0000e+00, 3.0000e+00, 0.0000e+00, 1.0000e+01,\n",
       "          6.4033e+04, 1.1000e+01, 1.0000e+00, 1.6530e+03, 1.0000e+01]],\n",
       "        dtype=float32)>,\n",
       "  'ships_state': <tf.Tensor: shape=(4, 11), dtype=float32, numpy=\n",
       "  array([[1.0000000e+00, 5.0000000e+04, 5.3851833e+00, 1.9075143e-01,\n",
       "          2.0000000e+00, 1.4000000e+01, 0.0000000e+00, 5.8500000e+02,\n",
       "          6.9600000e+02, 4.9200000e+02, 2.2370000e+03],\n",
       "         [2.0000000e+00, 6.0000000e+04, 4.8078370e+00, 1.6280740e-01,\n",
       "          2.0000000e+00, 1.4000000e+01, 0.0000000e+00, 1.6530000e+03,\n",
       "          2.7640000e+03, 2.5030000e+03, 0.0000000e+00],\n",
       "         [3.0000000e+00, 7.0000000e+04, 4.3682637e+00, 0.0000000e+00,\n",
       "          2.0000000e+00, 0.0000000e+00, 1.0000000e+00, 1.6530000e+03,\n",
       "          2.7640000e+03, 2.5030000e+03, 0.0000000e+00],\n",
       "         [4.0000000e+00, 8.0000000e+04, 4.0201092e+00, 0.0000000e+00,\n",
       "          4.0000000e+00, 0.0000000e+00, 1.0000000e+00, 1.0020000e+03,\n",
       "          1.9800000e+02, 5.4300000e+02, 2.6190000e+03]], dtype=float32)>},\n",
       " {'contracts_state': <tf.Tensor: shape=(4, 10), dtype=float32, numpy=\n",
       "  array([[3.0000e+00, 6.0000e+00, 1.0000e+00, 0.0000e+00, 7.0000e+00,\n",
       "          4.3747e+04, 8.0000e+00, 1.0000e+00, 8.4600e+02, 5.0000e+00],\n",
       "         [9.0000e+00, 2.0000e+00, 3.0000e+00, 0.0000e+00, 1.5000e+01,\n",
       "          6.1231e+04, 1.6000e+01, 0.0000e+00, 2.7640e+03, 1.1000e+01],\n",
       "         [7.0000e+00, 5.0000e+00, 4.0000e+00, 0.0000e+00, 8.0000e+00,\n",
       "          7.5258e+04, 9.0000e+00, 1.0000e+00, 1.2230e+03, 1.0000e+01],\n",
       "         [2.0000e+00, 3.0000e+00, 3.0000e+00, 0.0000e+00, 1.0000e+01,\n",
       "          6.4033e+04, 1.1000e+01, 1.0000e+00, 1.6530e+03, 1.0000e+01]],\n",
       "        dtype=float32)>,\n",
       "  'ships_state': <tf.Tensor: shape=(4, 11), dtype=float32, numpy=\n",
       "  array([[1.0000000e+00, 5.0000000e+04, 5.3851833e+00, 1.9075143e-01,\n",
       "          2.0000000e+00, 1.4000000e+01, 0.0000000e+00, 5.8500000e+02,\n",
       "          6.9600000e+02, 4.9200000e+02, 2.2370000e+03],\n",
       "         [2.0000000e+00, 6.0000000e+04, 4.8078370e+00, 1.6280740e-01,\n",
       "          2.0000000e+00, 1.4000000e+01, 0.0000000e+00, 1.6530000e+03,\n",
       "          2.7640000e+03, 2.5030000e+03, 0.0000000e+00],\n",
       "         [3.0000000e+00, 7.0000000e+04, 4.3682637e+00, 0.0000000e+00,\n",
       "          2.0000000e+00, 0.0000000e+00, 1.0000000e+00, 1.6530000e+03,\n",
       "          2.7640000e+03, 2.5030000e+03, 0.0000000e+00],\n",
       "         [4.0000000e+00, 8.0000000e+04, 4.0201092e+00, 0.0000000e+00,\n",
       "          4.0000000e+00, 0.0000000e+00, 1.0000000e+00, 1.0020000e+03,\n",
       "          1.9800000e+02, 5.4300000e+02, 2.6190000e+03]], dtype=float32)>},\n",
       " {'contracts_state': <tf.Tensor: shape=(4, 10), dtype=float32, numpy=\n",
       "  array([[3.0000e+00, 6.0000e+00, 1.0000e+00, 0.0000e+00, 7.0000e+00,\n",
       "          4.3747e+04, 8.0000e+00, 1.0000e+00, 8.4600e+02, 5.0000e+00],\n",
       "         [9.0000e+00, 2.0000e+00, 3.0000e+00, 0.0000e+00, 1.5000e+01,\n",
       "          6.1231e+04, 1.6000e+01, 0.0000e+00, 2.7640e+03, 1.1000e+01],\n",
       "         [7.0000e+00, 5.0000e+00, 4.0000e+00, 0.0000e+00, 8.0000e+00,\n",
       "          7.5258e+04, 9.0000e+00, 1.0000e+00, 1.2230e+03, 1.0000e+01],\n",
       "         [2.0000e+00, 3.0000e+00, 3.0000e+00, 0.0000e+00, 1.0000e+01,\n",
       "          6.4033e+04, 1.1000e+01, 1.0000e+00, 1.6530e+03, 1.0000e+01]],\n",
       "        dtype=float32)>,\n",
       "  'ships_state': <tf.Tensor: shape=(4, 11), dtype=float32, numpy=\n",
       "  array([[1.0000000e+00, 5.0000000e+04, 5.3851833e+00, 1.9075143e-01,\n",
       "          2.0000000e+00, 1.4000000e+01, 0.0000000e+00, 5.8500000e+02,\n",
       "          6.9600000e+02, 4.9200000e+02, 2.2370000e+03],\n",
       "         [2.0000000e+00, 6.0000000e+04, 4.8078370e+00, 2.4421111e-01,\n",
       "          2.0000000e+00, 1.4000000e+01, 0.0000000e+00, 1.6530000e+03,\n",
       "          2.7640000e+03, 2.5030000e+03, 0.0000000e+00],\n",
       "         [3.0000000e+00, 7.0000000e+04, 4.3682637e+00, 0.0000000e+00,\n",
       "          2.0000000e+00, 0.0000000e+00, 1.0000000e+00, 1.6530000e+03,\n",
       "          2.7640000e+03, 2.5030000e+03, 0.0000000e+00],\n",
       "         [4.0000000e+00, 8.0000000e+04, 4.0201092e+00, 0.0000000e+00,\n",
       "          4.0000000e+00, 0.0000000e+00, 1.0000000e+00, 1.0020000e+03,\n",
       "          1.9800000e+02, 5.4300000e+02, 2.6190000e+03]], dtype=float32)>},\n",
       " {'contracts_state': <tf.Tensor: shape=(4, 10), dtype=float32, numpy=\n",
       "  array([[3.0000e+00, 6.0000e+00, 1.0000e+00, 0.0000e+00, 7.0000e+00,\n",
       "          4.3747e+04, 8.0000e+00, 1.0000e+00, 8.4600e+02, 5.0000e+00],\n",
       "         [9.0000e+00, 2.0000e+00, 3.0000e+00, 0.0000e+00, 1.5000e+01,\n",
       "          6.1231e+04, 1.6000e+01, 0.0000e+00, 2.7640e+03, 1.1000e+01],\n",
       "         [7.0000e+00, 5.0000e+00, 4.0000e+00, 0.0000e+00, 8.0000e+00,\n",
       "          7.5258e+04, 9.0000e+00, 1.0000e+00, 1.2230e+03, 1.0000e+01],\n",
       "         [2.0000e+00, 3.0000e+00, 3.0000e+00, 0.0000e+00, 1.0000e+01,\n",
       "          6.4033e+04, 1.1000e+01, 1.0000e+00, 1.6530e+03, 1.0000e+01]],\n",
       "        dtype=float32)>,\n",
       "  'ships_state': <tf.Tensor: shape=(4, 11), dtype=float32, numpy=\n",
       "  array([[1.0000000e+00, 5.0000000e+04, 5.3851833e+00, 1.9075143e-01,\n",
       "          2.0000000e+00, 1.4000000e+01, 0.0000000e+00, 5.8500000e+02,\n",
       "          6.9600000e+02, 4.9200000e+02, 2.2370000e+03],\n",
       "         [2.0000000e+00, 6.0000000e+04, 4.8078370e+00, 2.4421111e-01,\n",
       "          2.0000000e+00, 1.4000000e+01, 0.0000000e+00, 1.6530000e+03,\n",
       "          2.7640000e+03, 2.5030000e+03, 0.0000000e+00],\n",
       "         [3.0000000e+00, 7.0000000e+04, 4.3682637e+00, 0.0000000e+00,\n",
       "          2.0000000e+00, 0.0000000e+00, 1.0000000e+00, 1.6530000e+03,\n",
       "          2.7640000e+03, 2.5030000e+03, 0.0000000e+00],\n",
       "         [4.0000000e+00, 8.0000000e+04, 4.0201092e+00, 0.0000000e+00,\n",
       "          4.0000000e+00, 0.0000000e+00, 1.0000000e+00, 1.0020000e+03,\n",
       "          1.9800000e+02, 5.4300000e+02, 2.6190000e+03]], dtype=float32)>},\n",
       " {'contracts_state': <tf.Tensor: shape=(4, 10), dtype=float32, numpy=\n",
       "  array([[3.0000e+00, 6.0000e+00, 1.0000e+00, 0.0000e+00, 7.0000e+00,\n",
       "          4.3747e+04, 8.0000e+00, 1.0000e+00, 8.4600e+02, 5.0000e+00],\n",
       "         [9.0000e+00, 2.0000e+00, 3.0000e+00, 0.0000e+00, 1.5000e+01,\n",
       "          6.1231e+04, 1.6000e+01, 0.0000e+00, 2.7640e+03, 1.1000e+01],\n",
       "         [7.0000e+00, 5.0000e+00, 4.0000e+00, 0.0000e+00, 8.0000e+00,\n",
       "          7.5258e+04, 9.0000e+00, 1.0000e+00, 1.2230e+03, 1.0000e+01],\n",
       "         [2.0000e+00, 3.0000e+00, 3.0000e+00, 0.0000e+00, 1.0000e+01,\n",
       "          6.4033e+04, 1.1000e+01, 1.0000e+00, 1.6530e+03, 1.0000e+01]],\n",
       "        dtype=float32)>,\n",
       "  'ships_state': <tf.Tensor: shape=(4, 11), dtype=float32, numpy=\n",
       "  array([[1.0000000e+00, 5.0000000e+04, 5.3851833e+00, 1.9075143e-01,\n",
       "          2.0000000e+00, 1.4000000e+01, 0.0000000e+00, 5.8500000e+02,\n",
       "          6.9600000e+02, 4.9200000e+02, 2.2370000e+03],\n",
       "         [2.0000000e+00, 6.0000000e+04, 4.8078370e+00, 2.4421111e-01,\n",
       "          2.0000000e+00, 1.4000000e+01, 0.0000000e+00, 1.6530000e+03,\n",
       "          2.7640000e+03, 2.5030000e+03, 0.0000000e+00],\n",
       "         [3.0000000e+00, 7.0000000e+04, 4.3682637e+00, 0.0000000e+00,\n",
       "          2.0000000e+00, 0.0000000e+00, 1.0000000e+00, 1.6530000e+03,\n",
       "          2.7640000e+03, 2.5030000e+03, 0.0000000e+00],\n",
       "         [4.0000000e+00, 8.0000000e+04, 4.0201092e+00, 0.0000000e+00,\n",
       "          4.0000000e+00, 0.0000000e+00, 1.0000000e+00, 1.0020000e+03,\n",
       "          1.9800000e+02, 5.4300000e+02, 2.6190000e+03]], dtype=float32)>},\n",
       " {'contracts_state': <tf.Tensor: shape=(4, 10), dtype=float32, numpy=\n",
       "  array([[3.0000e+00, 6.0000e+00, 1.0000e+00, 0.0000e+00, 7.0000e+00,\n",
       "          4.3747e+04, 8.0000e+00, 1.0000e+00, 8.4600e+02, 5.0000e+00],\n",
       "         [9.0000e+00, 2.0000e+00, 3.0000e+00, 0.0000e+00, 1.5000e+01,\n",
       "          6.1231e+04, 1.6000e+01, 0.0000e+00, 2.7640e+03, 1.1000e+01],\n",
       "         [7.0000e+00, 5.0000e+00, 4.0000e+00, 0.0000e+00, 8.0000e+00,\n",
       "          7.5258e+04, 9.0000e+00, 1.0000e+00, 1.2230e+03, 1.0000e+01],\n",
       "         [2.0000e+00, 3.0000e+00, 3.0000e+00, 0.0000e+00, 1.0000e+01,\n",
       "          6.4033e+04, 1.1000e+01, 1.0000e+00, 1.6530e+03, 1.0000e+01]],\n",
       "        dtype=float32)>,\n",
       "  'ships_state': <tf.Tensor: shape=(4, 11), dtype=float32, numpy=\n",
       "  array([[1.0000000e+00, 5.0000000e+04, 5.3851833e+00, 1.9075143e-01,\n",
       "          2.0000000e+00, 1.4000000e+01, 0.0000000e+00, 5.8500000e+02,\n",
       "          6.9600000e+02, 4.9200000e+02, 2.2370000e+03],\n",
       "         [2.0000000e+00, 6.0000000e+04, 4.8078370e+00, 3.2561481e-01,\n",
       "          2.0000000e+00, 1.4000000e+01, 0.0000000e+00, 1.6530000e+03,\n",
       "          2.7640000e+03, 2.5030000e+03, 0.0000000e+00],\n",
       "         [3.0000000e+00, 7.0000000e+04, 4.3682637e+00, 0.0000000e+00,\n",
       "          2.0000000e+00, 0.0000000e+00, 1.0000000e+00, 1.6530000e+03,\n",
       "          2.7640000e+03, 2.5030000e+03, 0.0000000e+00],\n",
       "         [4.0000000e+00, 8.0000000e+04, 4.0201092e+00, 0.0000000e+00,\n",
       "          4.0000000e+00, 0.0000000e+00, 1.0000000e+00, 1.0020000e+03,\n",
       "          1.9800000e+02, 5.4300000e+02, 2.6190000e+03]], dtype=float32)>},\n",
       " {'contracts_state': <tf.Tensor: shape=(4, 10), dtype=float32, numpy=\n",
       "  array([[3.0000e+00, 6.0000e+00, 1.0000e+00, 0.0000e+00, 7.0000e+00,\n",
       "          4.3747e+04, 8.0000e+00, 1.0000e+00, 8.4600e+02, 5.0000e+00],\n",
       "         [9.0000e+00, 2.0000e+00, 3.0000e+00, 0.0000e+00, 1.5000e+01,\n",
       "          6.1231e+04, 1.6000e+01, 0.0000e+00, 2.7640e+03, 1.1000e+01],\n",
       "         [7.0000e+00, 5.0000e+00, 4.0000e+00, 0.0000e+00, 8.0000e+00,\n",
       "          7.5258e+04, 9.0000e+00, 1.0000e+00, 1.2230e+03, 1.0000e+01],\n",
       "         [2.0000e+00, 3.0000e+00, 3.0000e+00, 0.0000e+00, 1.0000e+01,\n",
       "          6.4033e+04, 1.1000e+01, 1.0000e+00, 1.6530e+03, 1.0000e+01]],\n",
       "        dtype=float32)>,\n",
       "  'ships_state': <tf.Tensor: shape=(4, 11), dtype=float32, numpy=\n",
       "  array([[1.0000000e+00, 5.0000000e+04, 5.3851833e+00, 1.9075143e-01,\n",
       "          2.0000000e+00, 1.4000000e+01, 0.0000000e+00, 5.8500000e+02,\n",
       "          6.9600000e+02, 4.9200000e+02, 2.2370000e+03],\n",
       "         [2.0000000e+00, 6.0000000e+04, 4.8078370e+00, 3.2561481e-01,\n",
       "          2.0000000e+00, 1.4000000e+01, 0.0000000e+00, 1.6530000e+03,\n",
       "          2.7640000e+03, 2.5030000e+03, 0.0000000e+00],\n",
       "         [3.0000000e+00, 7.0000000e+04, 4.3682637e+00, 0.0000000e+00,\n",
       "          2.0000000e+00, 0.0000000e+00, 1.0000000e+00, 1.6530000e+03,\n",
       "          2.7640000e+03, 2.5030000e+03, 0.0000000e+00],\n",
       "         [4.0000000e+00, 8.0000000e+04, 4.0201092e+00, 0.0000000e+00,\n",
       "          4.0000000e+00, 0.0000000e+00, 1.0000000e+00, 1.0020000e+03,\n",
       "          1.9800000e+02, 5.4300000e+02, 2.6190000e+03]], dtype=float32)>},\n",
       " {'contracts_state': <tf.Tensor: shape=(4, 10), dtype=float32, numpy=\n",
       "  array([[3.0000e+00, 6.0000e+00, 1.0000e+00, 0.0000e+00, 7.0000e+00,\n",
       "          4.3747e+04, 8.0000e+00, 1.0000e+00, 8.4600e+02, 5.0000e+00],\n",
       "         [9.0000e+00, 2.0000e+00, 3.0000e+00, 0.0000e+00, 1.5000e+01,\n",
       "          6.1231e+04, 1.6000e+01, 0.0000e+00, 2.7640e+03, 1.1000e+01],\n",
       "         [7.0000e+00, 5.0000e+00, 4.0000e+00, 0.0000e+00, 8.0000e+00,\n",
       "          7.5258e+04, 9.0000e+00, 1.0000e+00, 1.2230e+03, 1.0000e+01],\n",
       "         [2.0000e+00, 3.0000e+00, 3.0000e+00, 0.0000e+00, 1.0000e+01,\n",
       "          6.4033e+04, 1.1000e+01, 1.0000e+00, 1.6530e+03, 1.0000e+01]],\n",
       "        dtype=float32)>,\n",
       "  'ships_state': <tf.Tensor: shape=(4, 11), dtype=float32, numpy=\n",
       "  array([[1.0000000e+00, 5.0000000e+04, 5.3851833e+00, 1.9075143e-01,\n",
       "          2.0000000e+00, 1.4000000e+01, 0.0000000e+00, 5.8500000e+02,\n",
       "          6.9600000e+02, 4.9200000e+02, 2.2370000e+03],\n",
       "         [2.0000000e+00, 6.0000000e+04, 4.8078370e+00, 3.2561481e-01,\n",
       "          2.0000000e+00, 1.4000000e+01, 0.0000000e+00, 1.6530000e+03,\n",
       "          2.7640000e+03, 2.5030000e+03, 0.0000000e+00],\n",
       "         [3.0000000e+00, 7.0000000e+04, 4.3682637e+00, 0.0000000e+00,\n",
       "          2.0000000e+00, 0.0000000e+00, 1.0000000e+00, 1.6530000e+03,\n",
       "          2.7640000e+03, 2.5030000e+03, 0.0000000e+00],\n",
       "         [4.0000000e+00, 8.0000000e+04, 4.0201092e+00, 0.0000000e+00,\n",
       "          4.0000000e+00, 0.0000000e+00, 1.0000000e+00, 1.0020000e+03,\n",
       "          1.9800000e+02, 5.4300000e+02, 2.6190000e+03]], dtype=float32)>}]"
      ]
     },
     "execution_count": 224,
     "metadata": {},
     "output_type": "execute_result"
    }
   ],
   "source": [
    "states_array"
   ]
  },
  {
   "cell_type": "code",
   "execution_count": 225,
   "metadata": {},
   "outputs": [
    {
     "data": {
      "text/plain": [
       "[5, 12, 12, 12, 5, 12, 12, 5, 12, 12, 5, 12, 12, 5, 12, 12]"
      ]
     },
     "execution_count": 225,
     "metadata": {},
     "output_type": "execute_result"
    }
   ],
   "source": [
    "actions_array"
   ]
  },
  {
   "cell_type": "code",
   "execution_count": 226,
   "metadata": {},
   "outputs": [
    {
     "data": {
      "text/plain": [
       "array([-0.1794018 , -0.18450652, -0.14730726, -0.10973225, -0.07177956,\n",
       "       -0.07552916, -0.0372291 ,  0.00145785, -0.0015486 ,  0.03749874,\n",
       "        0.0769405 ,  0.07469987,  0.1145174 ,  0.15473714,  0.15328571,\n",
       "        0.19389703])"
      ]
     },
     "execution_count": 226,
     "metadata": {},
     "output_type": "execute_result"
    }
   ],
   "source": [
    "advantages"
   ]
  },
  {
   "cell_type": "code",
   "execution_count": null,
   "metadata": {},
   "outputs": [],
   "source": []
  },
  {
   "cell_type": "code",
   "execution_count": 229,
   "metadata": {},
   "outputs": [],
   "source": [
    "log_probs = tf.concat([self.policy_net.action_distribution(state)[1].log_prob(action) for state, action in zip(states_array,actions_array)],axis=0)"
   ]
  },
  {
   "cell_type": "code",
   "execution_count": 239,
   "metadata": {},
   "outputs": [
    {
     "data": {
      "text/plain": [
       "5"
      ]
     },
     "execution_count": 239,
     "metadata": {},
     "output_type": "execute_result"
    }
   ],
   "source": [
    "actions_array[0]"
   ]
  },
  {
   "cell_type": "code",
   "execution_count": 244,
   "metadata": {},
   "outputs": [
    {
     "data": {
      "text/plain": [
       "<tf.Tensor: shape=(), dtype=float32, numpy=-inf>"
      ]
     },
     "execution_count": 244,
     "metadata": {},
     "output_type": "execute_result"
    }
   ],
   "source": [
    "policy_net.action_distribution(states_array[0])[1].log_prob(actions_array[0])"
   ]
  },
  {
   "cell_type": "code",
   "execution_count": 238,
   "metadata": {},
   "outputs": [
    {
     "data": {
      "text/plain": [
       "<tf.Tensor: shape=(16,), dtype=float32, numpy=\n",
       "array([      -inf, -3515.7136, -3515.7136, -3515.7136,       -inf,\n",
       "       -3515.673 , -3515.673 ,       -inf, -3515.6736, -3515.6736,\n",
       "             -inf, -3515.6743, -3515.6743,       -inf, -3515.675 ,\n",
       "       -3515.675 ], dtype=float32)>"
      ]
     },
     "execution_count": 238,
     "metadata": {},
     "output_type": "execute_result"
    }
   ],
   "source": [
    "log_probs"
   ]
  },
  {
   "cell_type": "code",
   "execution_count": 254,
   "metadata": {},
   "outputs": [],
   "source": [
    "minimum_val = tf.reduce_min(tf.boolean_mask(log_probs, tf.math.is_finite(log_probs)))"
   ]
  },
  {
   "cell_type": "code",
   "execution_count": 258,
   "metadata": {},
   "outputs": [],
   "source": [
    "log_probs_no_inf = tf.where(tf.math.is_inf(log_probs), 1000 * minimum_val, log_probs)"
   ]
  },
  {
   "cell_type": "code",
   "execution_count": 259,
   "metadata": {},
   "outputs": [],
   "source": [
    "entropies = tf.concat([policy_net.action_distribution(state)[1].entropy() for state in states_array],axis=0)"
   ]
  },
  {
   "cell_type": "code",
   "execution_count": 260,
   "metadata": {},
   "outputs": [
    {
     "data": {
      "text/plain": [
       "<tf.Tensor: shape=(), dtype=float32, numpy=-3961.2852>"
      ]
     },
     "execution_count": 260,
     "metadata": {},
     "output_type": "execute_result"
    }
   ],
   "source": [
    "-tf.math.reduce_mean(log_probs_no_inf * tf.cast(advantages, tf.float32) + 0.001 * entropies, )"
   ]
  },
  {
   "cell_type": "code",
   "execution_count": null,
   "metadata": {},
   "outputs": [],
   "source": [
    "def update_policy(states_array, one_action, one_advantage):\n",
    "    #one_state is already a tensor\n",
    "    one_action = tf.convert_to_tensor(one_action)\n",
    "    one_advantage = tf.convert_to_tensor(one_advantage)\n",
    "    with tf.GradientTape() as tape:\n",
    "        log_prob = policy_net.action_distribution(one_state)[1].log_prob(one_action)\n",
    "        loss = -tf.math.reduce_mean(log_prob * tf.cast(one_advantage, tf.float32))\n",
    "    grads = tape.gradient(loss, policy_net.policy_model.trainable_weights)\n",
    "    optimizer.apply_gradients(zip(grads, policy_net.policy_model.trainable_weights))"
   ]
  },
  {
   "cell_type": "code",
   "execution_count": null,
   "metadata": {},
   "outputs": [],
   "source": []
  },
  {
   "cell_type": "code",
   "execution_count": null,
   "metadata": {},
   "outputs": [],
   "source": [
    "each_year_actions_list = np.load('results_all/results_3/actions.npy',allow_pickle=True)"
   ]
  },
  {
   "cell_type": "code",
   "execution_count": null,
   "metadata": {},
   "outputs": [],
   "source": [
    "each_year_baseline_loss_list = np.load('results_all/results_3/baseline_loss.npy',allow_pickle=True)"
   ]
  },
  {
   "cell_type": "code",
   "execution_count": null,
   "metadata": {},
   "outputs": [],
   "source": [
    "each_year_policynet_loss_list = np.load('results_all/results_3/policynet_loss.npy',allow_pickle=True)"
   ]
  },
  {
   "cell_type": "code",
   "execution_count": null,
   "metadata": {},
   "outputs": [],
   "source": [
    "each_year_avg_reward_list = np.load('results_all/results_3/avg_rewards.npy',allow_pickle=True)"
   ]
  },
  {
   "cell_type": "code",
   "execution_count": null,
   "metadata": {},
   "outputs": [],
   "source": [
    "each_year_reward_list = np.load('results_all/results_3/rewards.npy',allow_pickle=True)"
   ]
  },
  {
   "cell_type": "code",
   "execution_count": null,
   "metadata": {},
   "outputs": [],
   "source": [
    "print(each_year_actions_list[0])"
   ]
  },
  {
   "cell_type": "code",
   "execution_count": null,
   "metadata": {},
   "outputs": [],
   "source": []
  },
  {
   "cell_type": "code",
   "execution_count": null,
   "metadata": {},
   "outputs": [],
   "source": []
  },
  {
   "cell_type": "code",
   "execution_count": null,
   "metadata": {},
   "outputs": [],
   "source": []
  },
  {
   "cell_type": "markdown",
   "metadata": {
    "heading_collapsed": true
   },
   "source": [
    "### Tensorflow Tip\n",
    "\n",
    "Assign values to a tensor at specific indices"
   ]
  },
  {
   "cell_type": "code",
   "execution_count": null,
   "metadata": {
    "hidden": true
   },
   "outputs": [],
   "source": [
    "input_array = np.array([2, 4, 7, 11, 3, 8, 9, 19, 11, 7])\n",
    "inplace_array = np.array([10, 20])\n",
    "indices_array = np.array([0, 0, 1, 0, 0, 0, 1, 0, 0, 0])\n",
    "\n",
    "# [[2], [6]] \n",
    "indices = tf.cast(tf.where(tf.equal(indices_array,1)),tf.int32)\n",
    "print(indices)\n",
    "\n",
    "# [0, 0, 10, 0, 0, 0, 20, 0, 0, 0]\n",
    "scatter = tf.scatter_nd(indices, inplace_array, shape=tf.shape(input_array))\n",
    "print(scatter)\n",
    "\n",
    "# [1, 1, 0, 1, 1, 1, 0, 1, 1, 1]\n",
    "inverse_mask = tf.cast(tf.math.logical_not(indices_array), tf.int32)\n",
    "print(inverse_mask)\n",
    "\n",
    "# [2, 4, 0, 11, 3, 8, 0, 19, 11, 7]\n",
    "input_array_zero_out = tf.multiply(inverse_mask, input_array)\n",
    "print(input_array_zero_out)\n",
    "\n",
    "# [2, 4, 10, 11, 3, 8, 20, 19, 11, 7]\n",
    "output = tf.add(input_array_zero_out, tf.cast(scatter, tf.int32))\n",
    "print(output)"
   ]
  },
  {
   "cell_type": "code",
   "execution_count": null,
   "metadata": {
    "hidden": true
   },
   "outputs": [],
   "source": []
  },
  {
   "cell_type": "code",
   "execution_count": null,
   "metadata": {
    "hidden": true
   },
   "outputs": [],
   "source": [
    "# [[2], [6]] \n",
    "indices = tf.cast(tf.where(tf.equal(indices_array,1)),tf.int32)\n",
    "print(indices)"
   ]
  },
  {
   "cell_type": "code",
   "execution_count": null,
   "metadata": {
    "hidden": true
   },
   "outputs": [],
   "source": [
    "# [0, 0, 10, 0, 0, 0, 20, 0, 0, 0]\n",
    "scatter = tf.scatter_nd(indices, inplace_array, shape=tf.shape(input_array))\n",
    "print(scatter)"
   ]
  },
  {
   "cell_type": "code",
   "execution_count": null,
   "metadata": {
    "hidden": true
   },
   "outputs": [],
   "source": [
    "# [1, 1, 0, 1, 1, 1, 0, 1, 1, 1]\n",
    "inverse_mask = tf.cast(tf.math.logical_not(indices_array), tf.int32)\n",
    "print(inverse_mask)"
   ]
  },
  {
   "cell_type": "code",
   "execution_count": null,
   "metadata": {
    "hidden": true
   },
   "outputs": [],
   "source": [
    "# [2, 4, 0, 11, 3, 8, 0, 19, 11, 7]\n",
    "input_array_zero_out = tf.multiply(inverse_mask, input_array)\n",
    "print(input_array_zero_out)"
   ]
  },
  {
   "cell_type": "code",
   "execution_count": null,
   "metadata": {
    "hidden": true
   },
   "outputs": [],
   "source": [
    "# [2, 4, 10, 11, 3, 8, 20, 19, 11, 7]\n",
    "output = tf.add(input_array_zero_out, tf.cast(scatter, tf.int32))\n",
    "print(output)"
   ]
  },
  {
   "cell_type": "code",
   "execution_count": null,
   "metadata": {
    "hidden": true
   },
   "outputs": [],
   "source": []
  },
  {
   "cell_type": "code",
   "execution_count": null,
   "metadata": {
    "hidden": true
   },
   "outputs": [],
   "source": []
  },
  {
   "cell_type": "code",
   "execution_count": null,
   "metadata": {
    "hidden": true
   },
   "outputs": [],
   "source": []
  },
  {
   "cell_type": "code",
   "execution_count": null,
   "metadata": {
    "hidden": true
   },
   "outputs": [],
   "source": []
  },
  {
   "cell_type": "code",
   "execution_count": null,
   "metadata": {
    "hidden": true
   },
   "outputs": [],
   "source": [
    "# encoder mlp\n",
    "\n",
    "# see https://keras.io/examples/structured_data/structured_data_classification_from_scratch/\n",
    "# see https://www.tensorflow.org/tutorials/generative/autoencoder\n",
    "# Create an Integer Categorical Feature for contract_type"
   ]
  },
  {
   "cell_type": "code",
   "execution_count": null,
   "metadata": {
    "hidden": true
   },
   "outputs": [],
   "source": []
  },
  {
   "cell_type": "code",
   "execution_count": null,
   "metadata": {
    "hidden": true
   },
   "outputs": [],
   "source": []
  }
 ],
 "metadata": {
  "interpreter": {
   "hash": "b0ef8fd9461b8a7174e04371100f893194f575b4895c82467862fe3595d34e0f"
  },
  "kernelspec": {
   "display_name": "Python 3.9.7 64-bit ('rl': conda)",
   "language": "python",
   "name": "python397jvsc74a57bd0aab302a361633d0f4220ac63331fe65e9bd63faf3f5b6c8e967bb743dd0eb01b"
  },
  "language_info": {
   "codemirror_mode": {
    "name": "ipython",
    "version": 3
   },
   "file_extension": ".py",
   "mimetype": "text/x-python",
   "name": "python",
   "nbconvert_exporter": "python",
   "pygments_lexer": "ipython3",
   "version": "3.9.7"
  },
  "latex_envs": {
   "LaTeX_envs_menu_present": true,
   "autoclose": false,
   "autocomplete": true,
   "bibliofile": "biblio.bib",
   "cite_by": "apalike",
   "current_citInitial": 1,
   "eqLabelWithNumbers": true,
   "eqNumInitial": 1,
   "hotkeys": {
    "equation": "Ctrl-E",
    "itemize": "Ctrl-I"
   },
   "labels_anchors": false,
   "latex_user_defs": false,
   "report_style_numbering": false,
   "user_envs_cfg": false
  },
  "toc": {
   "base_numbering": 1,
   "nav_menu": {
    "height": "114px",
    "width": "231px"
   },
   "number_sections": false,
   "sideBar": true,
   "skip_h1_title": false,
   "title_cell": "Table of Contents",
   "title_sidebar": "Contents",
   "toc_cell": false,
   "toc_position": {
    "height": "calc(100% - 180px)",
    "left": "10px",
    "top": "150px",
    "width": "165px"
   },
   "toc_section_display": true,
   "toc_window_display": false
  },
  "varInspector": {
   "cols": {
    "lenName": 16,
    "lenType": 16,
    "lenVar": 40
   },
   "kernels_config": {
    "python": {
     "delete_cmd_postfix": "",
     "delete_cmd_prefix": "del ",
     "library": "var_list.py",
     "varRefreshCmd": "print(var_dic_list())"
    },
    "r": {
     "delete_cmd_postfix": ") ",
     "delete_cmd_prefix": "rm(",
     "library": "var_list.r",
     "varRefreshCmd": "cat(var_dic_list()) "
    }
   },
   "types_to_exclude": [
    "module",
    "function",
    "builtin_function_or_method",
    "instance",
    "_Feature"
   ],
   "window_display": false
  }
 },
 "nbformat": 4,
 "nbformat_minor": 2
}
