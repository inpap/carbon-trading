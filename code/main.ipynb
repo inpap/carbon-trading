{
 "cells": [
  {
   "cell_type": "code",
   "execution_count": 1,
   "metadata": {},
   "outputs": [],
   "source": [
    "import gym\n",
    "import tensorflow as tf\n",
    "from tensorflow import keras\n",
    "import numpy as np\n",
    "import pandas as pd\n",
    "import matplotlib.pyplot as plt\n",
    "import pprint\n"
   ]
  },
  {
   "cell_type": "code",
   "execution_count": null,
   "metadata": {},
   "outputs": [],
   "source": [
    "ports = pd.read_csv('data/ports_10.csv')\n"
   ]
  },
  {
   "cell_type": "code",
   "execution_count": null,
   "metadata": {},
   "outputs": [],
   "source": [
    "# ports_df\n",
    "\n",
    "port = index,Port,Country,Region,Code,Position,Latitude,Longitude,Location"
   ]
  },
  {
   "cell_type": "code",
   "execution_count": null,
   "metadata": {},
   "outputs": [],
   "source": [
    "# distance matrix\n",
    "\n",
    "dm = pd.read_csv('data/distance_matrix.csv')"
   ]
  },
  {
   "cell_type": "code",
   "execution_count": null,
   "metadata": {},
   "outputs": [],
   "source": [
    "# fleet_df\n",
    "\n",
    "vessel = vessel_name,vessel_type,dwt,cii_required,cii_attained,current_port,current_speed"
   ]
  },
  {
   "cell_type": "code",
   "execution_count": null,
   "metadata": {},
   "outputs": [],
   "source": [
    "# contracts_df\n",
    "\n",
    "contract = {contract_id, volume, value, start_port, end_port, start_date, end_date}"
   ]
  },
  {
   "cell_type": "code",
   "execution_count": null,
   "metadata": {},
   "outputs": [],
   "source": [
    "def cii_required(vessel, dwt, year=2023):\n",
    "    \"\"\"\n",
    "    a function calculating the annual required cii of a vessel given a year\n",
    "    \"\"\"\n",
    "    alpha = 4745\n",
    "    c = 0.622\n",
    "    z = {2023:5, 2024:7, 2025:9, 2026:8}\n",
    "    cii_ref = a * dwt ** (-c)\n",
    "    cii_required = ((100 - z[year])/100) * cii_ref\n",
    "    return cii_required\n",
    "\n"
   ]
  },
  {
   "cell_type": "code",
   "execution_count": null,
   "metadata": {},
   "outputs": [],
   "source": [
    "def cii_attained(dwt, distance_sailed, co2_emissions):\n",
    "    \"\"\"\n",
    "    a function calculating the annual attained cii of a vessel\n",
    "    \"\"\"\n",
    "    cii_attained = (co2_emissions * 1_000_000)/(dwt*distance_sailed)\n",
    "    return cii_attained"
   ]
  },
  {
   "cell_type": "code",
   "execution_count": null,
   "metadata": {},
   "outputs": [],
   "source": [
    "def cii_rating(attained_cii, required_cii):\n",
    "    \"\"\"\n",
    "    a function calculating the cii rating of a vessel\n",
    "    \"\"\"\n",
    "    d1, d2, d3, d4 = 0.86, 0.94, 1.06, 1.18\n",
    "    rating = attained_cii / required_cii\n",
    "    if rating <= d1 :\n",
    "        return \"Rating A\"\n",
    "    elif rating <= d2 :\n",
    "        return \"Rating B\"\n",
    "    elif rating <= d3 :\n",
    "        return \"Rating C\"\n",
    "    elif rating <= d4 :\n",
    "        return \"Rating D\"\n",
    "    else:\n",
    "        return \"Rating E\"\n"
   ]
  },
  {
   "cell_type": "code",
   "execution_count": null,
   "metadata": {},
   "outputs": [],
   "source": [
    "def can_reach(vessel_location, vessel_set_of_speeds, start_port, start_time, free, previous_end_port):\n",
    "    \"\"\"\n",
    "    function checking if a vessel can reach a start port on time\n",
    "    \"\"\"\n",
    "    # if the vessel is free\n",
    "    the vessel has to reach the new start port on time\n",
    "    u = Dx / Dt \n",
    "\n",
    "\n",
    "    # if the vessel is not free \n",
    "    the vessel has to reach the previous end port on time # use set of speeds \n",
    "\n",
    "    u = Dx / Dt \n",
    "    and then\n",
    "    the vessel has to reach the new start port on time\n",
    "\n",
    "\n",
    "    pass"
   ]
  },
  {
   "cell_type": "code",
   "execution_count": null,
   "metadata": {},
   "outputs": [],
   "source": [
    "def can_serve(vessels_df, contract_df, ports_df):\n",
    "    \"\"\"\n",
    "    function checking if a vessel meets the conditions to serve a contract \n",
    "    \"\"\"\n",
    "    # Check if vessel has the capacity to transport the cargo\n",
    "    vessel_capacity >= cargo_volume\n",
    "    \n",
    "        # If it does then check if it is free or already serving a cargo\n",
    "        vessel_free == Yes:\n",
    "\n",
    "            # Check if the vessel can reach the start port at start_time\n",
    "            can_reach()    \n",
    "\n",
    "\n",
    "\n",
    "\n",
    "\n",
    "    pass"
   ]
  },
  {
   "cell_type": "code",
   "execution_count": 3,
   "metadata": {},
   "outputs": [],
   "source": [
    "from gym import spaces\n",
    "\n",
    "\n",
    "\n",
    "class CarbonEmissionEnv(gym.Env):\n",
    "    \"\"\"\n",
    "    A custom environment for the Carbon emission problem.\n",
    "    Follows the openai gym logic \n",
    "    \"\"\"\n",
    "\n",
    "    metadata = {'render.modes':['human']}\n",
    "\n",
    "    def __init__(self,fleet,contracts,ports,distance_matrix):\n",
    "        super().__init__()\n",
    "\n",
    "        self.fleet = fleet \n",
    "        # a df containing info about the fleet \n",
    "        # vessels_df needs to be updated overtime to showcase fleet availability\n",
    "\n",
    "\n",
    "\n",
    "        self.contracts = contracts  \n",
    "        # a df containing info about the cargo contracts\n",
    "        # contracts_df needs to be updated while new contracts spawn\n",
    "\n",
    "        self.fleet_required_cii  = sum of required cii for each vessel taken from vessels_df\n",
    "\n",
    "\n",
    "\n",
    "\n",
    "        # Define the action and observation space\n",
    "       \n",
    "        \n",
    "        # Observation space\n",
    "        # Example using a dictionary of simpler spaces as input\n",
    "        \n",
    "\n",
    "        self.observation_space = spaces.Dict({\"contracts\": spaces.Discrete(2), \"velocity\": spaces.Discrete(3)}) \n",
    "\n",
    "        # Action space\n",
    "        # Example using discrete actions:\n",
    "        self.action_space = spaces.Discrete(N_DISCRETE_ACTIONS)\n",
    "\n",
    "\n",
    "\n",
    "\n",
    "\n",
    "    def step(self, action):\n",
    "        # Execute one time step in the environment\n",
    "        pass\n",
    "\n",
    "    def reset(self):\n",
    "        # Reset the state of the environment to an initial state\n",
    "        pass\n",
    "\n",
    "    def update_state(self):\n",
    "        # \n",
    "    \n",
    "    def render(self, mode='human', close=False):\n",
    "        # Render the environment to the screen\n",
    "        pass"
   ]
  },
  {
   "cell_type": "code",
   "execution_count": null,
   "metadata": {},
   "outputs": [],
   "source": []
  }
 ],
 "metadata": {
  "interpreter": {
   "hash": "aab302a361633d0f4220ac63331fe65e9bd63faf3f5b6c8e967bb743dd0eb01b"
  },
  "kernelspec": {
   "display_name": "Python 3.9.6 64-bit ('rl': conda)",
   "name": "python3"
  },
  "language_info": {
   "codemirror_mode": {
    "name": "ipython",
    "version": 3
   },
   "file_extension": ".py",
   "mimetype": "text/x-python",
   "name": "python",
   "nbconvert_exporter": "python",
   "pygments_lexer": "ipython3",
   "version": "3.9.6"
  },
  "orig_nbformat": 4
 },
 "nbformat": 4,
 "nbformat_minor": 2
}
