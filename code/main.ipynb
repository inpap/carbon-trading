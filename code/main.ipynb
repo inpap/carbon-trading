{
 "cells": [
  {
   "cell_type": "markdown",
   "metadata": {},
   "source": [
    "# Todos\n",
    "\n",
    "\n",
    "\n",
    "## Step\n",
    "    \n",
    "**Pws ypologizw to reward apo to `action`**\n",
    "    \n",
    "- [ ] Value of state from baselinenet\n",
    "- [ ] Value of contract\n",
    "- [ ] CII\n",
    "- [ ] Lateness\n",
    "        \n",
    "**Pws na kanw swsta update to state**\n",
    "        \n",
    "- [ ] contract tensor\n",
    "- [ ] ship tensor\n",
    "- [ ] contract mask\n",
    "- [ ] ship mask\n",
    "- [ ] ship_log\n",
    "        \n",
    "\n",
    "## Train \n",
    "\n",
    "ti einai ta `advantages`, `returns` kai giati xrhsimopoioyntai:\n",
    "        \n",
    "- [ ] sthn baseline_net.update(observations, returns) gia to update to baselineNet\n",
    "- [ ] sthn PolicyGradient.update_policy(observations, actions, advantages)gia to update ths policygradient "
   ]
  },
  {
   "cell_type": "markdown",
   "metadata": {},
   "source": [
    "# Code"
   ]
  },
  {
   "cell_type": "code",
   "execution_count": 1,
   "metadata": {},
   "outputs": [],
   "source": [
    "# autoreloading modules that i change in vscode\n",
    "%load_ext autoreload\n",
    "%autoreload 2"
   ]
  },
  {
   "cell_type": "code",
   "execution_count": 2,
   "metadata": {},
   "outputs": [],
   "source": [
    "import gym\n",
    "import tensorflow as tf\n",
    "import tensorflow_probability as tfp\n",
    "import numpy as np\n",
    "import pandas as pd\n",
    "import matplotlib.pyplot as plt\n",
    "import sys"
   ]
  },
  {
   "cell_type": "code",
   "execution_count": 3,
   "metadata": {},
   "outputs": [],
   "source": [
    "# load data\n",
    "data_dict = {\n",
    "    \"fleet_path\": \"data/fleet_small.csv\",\n",
    "    \"ports_path\": \"data/ports_10.csv\",\n",
    "    \"dm_path\": \"data/distance_matrix.csv\",\n",
    "}\n",
    "\n",
    "\n",
    "ports_df = pd.read_csv(data_dict[\"ports_path\"])\n",
    "fleet_df = pd.read_csv(data_dict[\"fleet_path\"])\n",
    "distance_matrix = pd.read_csv(data_dict[\"dm_path\"])"
   ]
  },
  {
   "cell_type": "code",
   "execution_count": 4,
   "metadata": {},
   "outputs": [],
   "source": [
    "from env.env import CarbonEnv\n",
    "from models.models import BaselineNet, PolicyNet, CarbonModel"
   ]
  },
  {
   "cell_type": "code",
   "execution_count": null,
   "metadata": {
    "code_folding": [
     0
    ]
   },
   "outputs": [],
   "source": [
    "# run this cell when needing to reload the classes CarbonEnv, BaselineNet, PolicyNet\n",
    "\n",
    "del sys.modules['models.models']\n",
    "del sys.modules['env.env']\n",
    "\n",
    "from env.env import CarbonEnv\n",
    "from models.models import BaselineNet, PolicyNet, CarbonModel"
   ]
  },
  {
   "cell_type": "code",
   "execution_count": 5,
   "metadata": {
    "scrolled": true
   },
   "outputs": [
    {
     "name": "stderr",
     "output_type": "stream",
     "text": [
      "2021-11-09 15:01:52.071531: I tensorflow/core/platform/cpu_feature_guard.cc:142] This TensorFlow binary is optimized with oneAPI Deep Neural Network Library (oneDNN) to use the following CPU instructions in performance-critical operations:  SSE4.1 SSE4.2 AVX\n",
      "To enable them in other operations, rebuild TensorFlow with the appropriate compiler flags.\n",
      "2021-11-09 15:01:52.072695: I tensorflow/core/common_runtime/process_util.cc:146] Creating new thread pool with default inter op setting: 2. Tune using inter_op_parallelism_threads for best performance.\n"
     ]
    }
   ],
   "source": [
    "envo = CarbonEnv()"
   ]
  },
  {
   "cell_type": "code",
   "execution_count": 6,
   "metadata": {},
   "outputs": [
    {
     "data": {
      "text/plain": [
       "13"
      ]
     },
     "execution_count": 6,
     "metadata": {},
     "output_type": "execute_result"
    }
   ],
   "source": [
    "envo.action_space_dim[0]"
   ]
  },
  {
   "cell_type": "code",
   "execution_count": 30,
   "metadata": {},
   "outputs": [
    {
     "data": {
      "text/plain": [
       "{'contracts_state': <tf.Tensor: shape=(4, 10), dtype=float32, numpy=\n",
       " array([[9.0000e+00, 3.0000e+00, 1.0000e+00, 0.0000e+00, 8.0000e+00,\n",
       "         4.6560e+04, 9.0000e+00, 1.0000e+00, 1.1470e+03, 6.0000e+00],\n",
       "        [7.0000e+00, 5.0000e+00, 3.0000e+00, 0.0000e+00, 8.0000e+00,\n",
       "         6.1445e+04, 9.0000e+00, 1.0000e+00, 1.2230e+03, 8.0000e+00],\n",
       "        [2.0000e+00, 6.0000e+00, 2.0000e+00, 0.0000e+00, 1.3000e+01,\n",
       "         5.9396e+04, 1.4000e+01, 1.0000e+00, 2.4630e+03, 1.0000e+01],\n",
       "        [2.0000e+00, 7.0000e+00, 3.0000e+00, 0.0000e+00, 1.3000e+01,\n",
       "         6.3993e+04, 1.4000e+01, 1.0000e+00, 2.5030e+03, 1.1000e+01]],\n",
       "       dtype=float32)>,\n",
       " 'ships_state': <tf.Tensor: shape=(4, 11), dtype=float32, numpy=\n",
       " array([[1.0000000e+00, 5.0000000e+04, 5.3851833e+00, 0.0000000e+00,\n",
       "         9.0000000e+00, 0.0000000e+00, 1.0000000e+00, 0.0000000e+00,\n",
       "         6.8800000e+02, 2.7640000e+03, 2.7640000e+03],\n",
       "        [2.0000000e+00, 6.0000000e+04, 4.8078370e+00, 0.0000000e+00,\n",
       "         8.0000000e+00, 0.0000000e+00, 1.0000000e+00, 2.8700000e+02,\n",
       "         1.1400000e+03, 1.4600000e+03, 1.4600000e+03],\n",
       "        [3.0000000e+00, 7.0000000e+04, 4.3682637e+00, 0.0000000e+00,\n",
       "         6.0000000e+00, 0.0000000e+00, 1.0000000e+00, 4.1200000e+02,\n",
       "         5.0200000e+02, 2.4630000e+03, 2.4630000e+03],\n",
       "        [4.0000000e+00, 8.0000000e+04, 4.0201092e+00, 0.0000000e+00,\n",
       "         1.0000000e+01, 0.0000000e+00, 1.0000000e+00, 1.1740000e+03,\n",
       "         9.0800000e+02, 1.6210000e+03, 1.6210000e+03]], dtype=float32)>,\n",
       " 'contracts_mask': <tf.Tensor: shape=(4, 1), dtype=float32, numpy=\n",
       " array([[0.],\n",
       "        [1.],\n",
       "        [0.],\n",
       "        [1.]], dtype=float32)>,\n",
       " 'ships_mask': <tf.Tensor: shape=(4, 1), dtype=float32, numpy=\n",
       " array([[1.],\n",
       "        [1.],\n",
       "        [1.],\n",
       "        [1.]], dtype=float32)>}"
      ]
     },
     "execution_count": 30,
     "metadata": {},
     "output_type": "execute_result"
    }
   ],
   "source": [
    "envo.state"
   ]
  },
  {
   "cell_type": "code",
   "execution_count": null,
   "metadata": {
    "code_folding": [
     0
    ]
   },
   "outputs": [],
   "source": [
    "# something\n",
    "s = np.array([[0], [0], [0], [1]])\n",
    "\n",
    "\n",
    "k = np.where(s==0,3*[False],3*[True])\n",
    "\n",
    "k\n",
    "\n",
    "k.ravel()\n",
    "\n",
    "st = tf.convert_to_tensor(s)\n",
    "st\n",
    "\n",
    "bm = tf.equal(st,0)\n",
    "\n",
    "\n",
    "skou = tf.where(bm,tf.repeat(tf.constant(False),3),tf.repeat(tf.constant(True),3))\n",
    "skou\n",
    "\n",
    "skou = tf.reshape(skou,[-1])\n",
    "skou\n",
    "\n",
    "skou = tf.expand_dims(skou,axis=1)\n",
    "skou\n",
    "\n",
    "bol = tf.constant(False,shape=(1,1))\n",
    "\n",
    "tf.concat((skou,bol),axis=0)"
   ]
  },
  {
   "cell_type": "code",
   "execution_count": 8,
   "metadata": {},
   "outputs": [],
   "source": [
    "initial_state = envo.state"
   ]
  },
  {
   "cell_type": "code",
   "execution_count": 9,
   "metadata": {},
   "outputs": [],
   "source": [
    "baseline_net = BaselineNet(embedding_size=envo.embedding_size)"
   ]
  },
  {
   "cell_type": "code",
   "execution_count": 10,
   "metadata": {},
   "outputs": [],
   "source": [
    "policy_net = PolicyNet(embedding_size=envo.embedding_size,output_size=envo.action_space_dim[0])"
   ]
  },
  {
   "cell_type": "code",
   "execution_count": 11,
   "metadata": {},
   "outputs": [],
   "source": [
    "action = policy_net.sample_action(initial_state)"
   ]
  },
  {
   "cell_type": "code",
   "execution_count": 12,
   "metadata": {},
   "outputs": [
    {
     "data": {
      "text/plain": [
       "4"
      ]
     },
     "execution_count": 12,
     "metadata": {},
     "output_type": "execute_result"
    }
   ],
   "source": [
    "action"
   ]
  },
  {
   "cell_type": "code",
   "execution_count": 26,
   "metadata": {},
   "outputs": [
    {
     "name": "stdout",
     "output_type": "stream",
     "text": [
      "The contract is contract_1 and the speed for ship 1 is 12 knots\n"
     ]
    }
   ],
   "source": [
    "envo.step(action,ship=1)"
   ]
  },
  {
   "cell_type": "code",
   "execution_count": 27,
   "metadata": {},
   "outputs": [
    {
     "name": "stdout",
     "output_type": "stream",
     "text": [
      "The contract is contract_0 and the speed for ship 2 is 10 knots\n"
     ]
    }
   ],
   "source": [
    "envo.step(0,2)"
   ]
  },
  {
   "cell_type": "code",
   "execution_count": 20,
   "metadata": {},
   "outputs": [
    {
     "data": {
      "text/plain": [
       "<tf.Tensor: shape=(4,), dtype=float32, numpy=array([1., 2., 3., 4.], dtype=float32)>"
      ]
     },
     "execution_count": 20,
     "metadata": {},
     "output_type": "execute_result"
    }
   ],
   "source": [
    "envo.ships_tensor[:,0]"
   ]
  },
  {
   "cell_type": "code",
   "execution_count": 31,
   "metadata": {},
   "outputs": [
    {
     "name": "stderr",
     "output_type": "stream",
     "text": [
      "[autoreload of utils.utils failed: Traceback (most recent call last):\n",
      "  File \"/home/pristakos/anaconda3/envs/rl/lib/python3.9/site-packages/IPython/extensions/autoreload.py\", line 245, in check\n",
      "    superreload(m, reload, self.old_objects)\n",
      "  File \"/home/pristakos/anaconda3/envs/rl/lib/python3.9/site-packages/IPython/extensions/autoreload.py\", line 394, in superreload\n",
      "    module = reload(module)\n",
      "  File \"/home/pristakos/anaconda3/envs/rl/lib/python3.9/imp.py\", line 314, in reload\n",
      "    return importlib.reload(module)\n",
      "  File \"/home/pristakos/anaconda3/envs/rl/lib/python3.9/importlib/__init__.py\", line 169, in reload\n",
      "    _bootstrap._exec(spec, module)\n",
      "  File \"<frozen importlib._bootstrap>\", line 613, in _exec\n",
      "  File \"<frozen importlib._bootstrap_external>\", line 846, in exec_module\n",
      "  File \"<frozen importlib._bootstrap_external>\", line 983, in get_code\n",
      "  File \"<frozen importlib._bootstrap_external>\", line 913, in source_to_code\n",
      "  File \"<frozen importlib._bootstrap>\", line 228, in _call_with_frames_removed\n",
      "  File \"/home/pristakos/Desktop/carbon-trading/code/utils/utils.py\", line 36\n",
      "    co2_emissions =\n",
      "                   ^\n",
      "SyntaxError: invalid syntax\n",
      "]\n"
     ]
    },
    {
     "data": {
      "text/plain": [
       "<tf.Tensor: shape=(4, 11), dtype=float32, numpy=\n",
       "array([[1.0000000e+00, 5.0000000e+04, 5.3851833e+00, 0.0000000e+00,\n",
       "        9.0000000e+00, 0.0000000e+00, 1.0000000e+00, 0.0000000e+00,\n",
       "        6.8800000e+02, 2.7640000e+03, 2.7640000e+03],\n",
       "       [2.0000000e+00, 6.0000000e+04, 4.8078370e+00, 0.0000000e+00,\n",
       "        8.0000000e+00, 0.0000000e+00, 1.0000000e+00, 2.8700000e+02,\n",
       "        1.1400000e+03, 1.4600000e+03, 1.4600000e+03],\n",
       "       [3.0000000e+00, 7.0000000e+04, 4.3682637e+00, 0.0000000e+00,\n",
       "        6.0000000e+00, 0.0000000e+00, 1.0000000e+00, 4.1200000e+02,\n",
       "        5.0200000e+02, 2.4630000e+03, 2.4630000e+03],\n",
       "       [4.0000000e+00, 8.0000000e+04, 4.0201092e+00, 0.0000000e+00,\n",
       "        1.0000000e+01, 0.0000000e+00, 1.0000000e+00, 1.1740000e+03,\n",
       "        9.0800000e+02, 1.6210000e+03, 1.6210000e+03]], dtype=float32)>"
      ]
     },
     "execution_count": 31,
     "metadata": {},
     "output_type": "execute_result"
    }
   ],
   "source": [
    "envo.ships_tensor"
   ]
  },
  {
   "cell_type": "code",
   "execution_count": 42,
   "metadata": {},
   "outputs": [
    {
     "data": {
      "text/plain": [
       "0"
      ]
     },
     "execution_count": 42,
     "metadata": {},
     "output_type": "execute_result"
    }
   ],
   "source": [
    "0 % 4 + 7"
   ]
  },
  {
   "cell_type": "code",
   "execution_count": 43,
   "metadata": {},
   "outputs": [
    {
     "data": {
      "text/plain": [
       "1"
      ]
     },
     "execution_count": 43,
     "metadata": {},
     "output_type": "execute_result"
    }
   ],
   "source": [
    "1 % 4 + 7"
   ]
  },
  {
   "cell_type": "code",
   "execution_count": 44,
   "metadata": {},
   "outputs": [
    {
     "data": {
      "text/plain": [
       "2"
      ]
     },
     "execution_count": 44,
     "metadata": {},
     "output_type": "execute_result"
    }
   ],
   "source": [
    "2 % 4"
   ]
  },
  {
   "cell_type": "code",
   "execution_count": 45,
   "metadata": {},
   "outputs": [
    {
     "data": {
      "text/plain": [
       "3"
      ]
     },
     "execution_count": 45,
     "metadata": {},
     "output_type": "execute_result"
    }
   ],
   "source": [
    "3 % 4"
   ]
  },
  {
   "cell_type": "code",
   "execution_count": null,
   "metadata": {},
   "outputs": [],
   "source": []
  },
  {
   "cell_type": "code",
   "execution_count": null,
   "metadata": {},
   "outputs": [],
   "source": []
  },
  {
   "cell_type": "code",
   "execution_count": 29,
   "metadata": {},
   "outputs": [
    {
     "data": {
      "text/plain": [
       "<tf.Tensor: shape=(11,), dtype=float32, numpy=\n",
       "array([1.0000000e+00, 5.0000000e+04, 5.3851833e+00, 0.0000000e+00,\n",
       "       9.0000000e+00, 0.0000000e+00, 1.0000000e+00, 0.0000000e+00,\n",
       "       6.8800000e+02, 2.7640000e+03, 2.7640000e+03], dtype=float32)>"
      ]
     },
     "execution_count": 29,
     "metadata": {},
     "output_type": "execute_result"
    }
   ],
   "source": [
    "envo.ships_tensor[0,:]"
   ]
  },
  {
   "cell_type": "code",
   "execution_count": null,
   "metadata": {},
   "outputs": [],
   "source": []
  },
  {
   "cell_type": "code",
   "execution_count": null,
   "metadata": {},
   "outputs": [],
   "source": []
  },
  {
   "cell_type": "code",
   "execution_count": null,
   "metadata": {},
   "outputs": [],
   "source": []
  },
  {
   "cell_type": "code",
   "execution_count": null,
   "metadata": {},
   "outputs": [],
   "source": []
  },
  {
   "cell_type": "code",
   "execution_count": null,
   "metadata": {},
   "outputs": [],
   "source": []
  },
  {
   "cell_type": "code",
   "execution_count": null,
   "metadata": {},
   "outputs": [],
   "source": []
  },
  {
   "cell_type": "code",
   "execution_count": null,
   "metadata": {},
   "outputs": [],
   "source": []
  },
  {
   "cell_type": "code",
   "execution_count": null,
   "metadata": {},
   "outputs": [],
   "source": []
  },
  {
   "cell_type": "code",
   "execution_count": null,
   "metadata": {},
   "outputs": [],
   "source": []
  },
  {
   "cell_type": "code",
   "execution_count": null,
   "metadata": {},
   "outputs": [],
   "source": []
  },
  {
   "cell_type": "code",
   "execution_count": null,
   "metadata": {},
   "outputs": [],
   "source": []
  },
  {
   "cell_type": "code",
   "execution_count": null,
   "metadata": {},
   "outputs": [],
   "source": []
  },
  {
   "cell_type": "code",
   "execution_count": null,
   "metadata": {},
   "outputs": [],
   "source": [
    "for i in range(0, 8):\n",
    "\n",
    "    day = i // 4\n",
    "    print(day)"
   ]
  },
  {
   "cell_type": "code",
   "execution_count": null,
   "metadata": {},
   "outputs": [],
   "source": [
    "# encoder mlp\n",
    "\n",
    "# see https://keras.io/examples/structured_data/structured_data_classification_from_scratch/\n",
    "# see https://www.tensorflow.org/tutorials/generative/autoencoder\n",
    "# Create an Integer Categorical Feature for contract_type"
   ]
  },
  {
   "cell_type": "code",
   "execution_count": null,
   "metadata": {
    "code_folding": [
     0
    ]
   },
   "outputs": [],
   "source": [
    "# Delay\n",
    "\n",
    "contracts = create_contrs(seed=56)\n",
    "agent_speed = 10\n",
    "agent_ship = 2\n",
    "ship_current_port = 4\n",
    "contract = contracts.loc[0]\n",
    "start_port_number = contract.start_port_number\n",
    "end_port_number = contract.end_port_number\n",
    "trip_1_hours = find_distance(ship_current_port,start_port_number) / agent_speed\n",
    "print(dt_1_hours)\n",
    "trip_2_hours = find_distance(start_port_number,end_port_number) / agent_speed\n",
    "print(dt_2_hours)\n",
    "trip_total_hours = trip_1_hours + trip_2_hours\n",
    "\n",
    "\n",
    "trip_total_days = round(trip_total_hours / 24)\n",
    "print(trip_total_days)\n",
    "\n",
    "contract_duration = contract.contract_duration\n",
    "delay = trip_total_days - contract_duration\n",
    "delay_penalty_factor_per_day = 10\n",
    "\n",
    "reward = 0\n",
    "penalty = 0 \n",
    "if delay <= 0:\n",
    "    # I arrived on time\n",
    "    # provide a constant reward > 0 \n",
    "    reward = 10\n",
    "    # \n",
    "else:\n",
    "    # I arrived late \n",
    "    # penalty < 0\n",
    "    delay_in_days = -delay\n",
    "    penalty = delay_penalty_factor_per_day * delay_in_days\n",
    "\n",
    "print(f\"The delay is {delay} days\")\n",
    "print(f\"The reward is {reward}\")\n",
    "print(f\"The penalty is {penalty}\")\n",
    "\n",
    "# cargo_size vs ship_shize\n",
    "\n",
    "contracts = create_contrs(seed=56)\n",
    "\n",
    "# gia ka8e contract se spawned contracts\n",
    "\n",
    "contract = contracts.loc[0]\n",
    "\n",
    "fleet_df\n",
    "# elegxw ka8e ploio pou einai available dhladh exei availability 1 \n",
    "mask_of_available_ships = fleet_df['ship_availability'] == 1\n",
    "\n",
    "available_ships = fleet_df[mask_of_available_ships]\n",
    "\n",
    "available_ships_numbers = available_ships.ship_number\n",
    "\n",
    "available_ships_numbers\n",
    "\n",
    "\n",
    "\n",
    "# checkare sto masking an kaneis mask out tous assous h ta mhdenika\n",
    "\n",
    "# gia ka8e tetoio ploio\n",
    "\n",
    "\n",
    "# get ship_number\n",
    "\n",
    "ship_numbers = \n",
    "agent_ship_selection = 2\n",
    "\n",
    "# get ship info\n",
    "ship_mask = fleet_df['ship_number'] == agent_ship_selection\n",
    "\n",
    "ship_info = fleet_df[ship_mask]\n",
    "print(ship_info)\n",
    "\n",
    "ship_current_port = ship_info.current_port\n",
    "print(ship_current_port)\n",
    "\n",
    "\n",
    "\n",
    "\n",
    "\n",
    "\n",
    "start_port_number = contract.start_port_number\n",
    "end_port_number = contract.end_port_number\n",
    "trip_1_distance = find_distance(ship_current_port,start_port_number)\n",
    "print(trip_1_distance)\n",
    "trip_2_distance = find_distance(start_port_number,end_port_number)\n",
    "print(trip_2_distance)\n",
    "trip_total_distance = trip_1_distance + trip_2_distance\n",
    "\n",
    "\n",
    "\n",
    "\n",
    "trip_total_days = round(trip_total_hours / 24)\n",
    "print(trip_total_days)\n",
    "\n",
    "contract_duration = contract.contract_duration\n",
    "delay = trip_total_days - contract_duration\n",
    "delay_penalty_factor_per_day = 10\n",
    "\n",
    "reward = 0\n",
    "penalty = 0 \n",
    "if delay <= 0:\n",
    "    # I arrived on time\n",
    "    # provide a constant reward > 0 \n",
    "    reward = 10\n",
    "    # \n",
    "else:\n",
    "    # I arrived late \n",
    "    # penalty < 0\n",
    "    delay_in_days = -delay\n",
    "    penalty = delay_penalty_factor_per_day * delay_in_days\n",
    "\n",
    "print(f\"The delay is {delay} days\")\n",
    "print(f\"The reward is {reward}\")\n",
    "print(f\"The penalty is {penalty}\")\n"
   ]
  },
  {
   "cell_type": "code",
   "execution_count": null,
   "metadata": {},
   "outputs": [],
   "source": []
  },
  {
   "cell_type": "code",
   "execution_count": null,
   "metadata": {},
   "outputs": [],
   "source": []
  }
 ],
 "metadata": {
  "interpreter": {
   "hash": "b0ef8fd9461b8a7174e04371100f893194f575b4895c82467862fe3595d34e0f"
  },
  "kernelspec": {
   "display_name": "Python 3.9.7 64-bit ('rl': conda)",
   "language": "python",
   "name": "python397jvsc74a57bd0aab302a361633d0f4220ac63331fe65e9bd63faf3f5b6c8e967bb743dd0eb01b"
  },
  "language_info": {
   "codemirror_mode": {
    "name": "ipython",
    "version": 3
   },
   "file_extension": ".py",
   "mimetype": "text/x-python",
   "name": "python",
   "nbconvert_exporter": "python",
   "pygments_lexer": "ipython3",
   "version": "3.9.7"
  },
  "latex_envs": {
   "LaTeX_envs_menu_present": true,
   "autoclose": false,
   "autocomplete": true,
   "bibliofile": "biblio.bib",
   "cite_by": "apalike",
   "current_citInitial": 1,
   "eqLabelWithNumbers": true,
   "eqNumInitial": 1,
   "hotkeys": {
    "equation": "Ctrl-E",
    "itemize": "Ctrl-I"
   },
   "labels_anchors": false,
   "latex_user_defs": false,
   "report_style_numbering": false,
   "user_envs_cfg": false
  },
  "toc": {
   "base_numbering": 1,
   "nav_menu": {
    "height": "114px",
    "width": "231px"
   },
   "number_sections": false,
   "sideBar": true,
   "skip_h1_title": false,
   "title_cell": "Table of Contents",
   "title_sidebar": "Contents",
   "toc_cell": false,
   "toc_position": {
    "height": "calc(100% - 180px)",
    "left": "10px",
    "top": "150px",
    "width": "165px"
   },
   "toc_section_display": true,
   "toc_window_display": false
  },
  "varInspector": {
   "cols": {
    "lenName": 16,
    "lenType": 16,
    "lenVar": 40
   },
   "kernels_config": {
    "python": {
     "delete_cmd_postfix": "",
     "delete_cmd_prefix": "del ",
     "library": "var_list.py",
     "varRefreshCmd": "print(var_dic_list())"
    },
    "r": {
     "delete_cmd_postfix": ") ",
     "delete_cmd_prefix": "rm(",
     "library": "var_list.r",
     "varRefreshCmd": "cat(var_dic_list()) "
    }
   },
   "types_to_exclude": [
    "module",
    "function",
    "builtin_function_or_method",
    "instance",
    "_Feature"
   ],
   "window_display": false
  }
 },
 "nbformat": 4,
 "nbformat_minor": 2
}
