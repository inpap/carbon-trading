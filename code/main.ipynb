{
 "cells": [
  {
   "cell_type": "code",
   "execution_count": 1,
   "metadata": {},
   "outputs": [],
   "source": [
    "# autoreloading modules that i change in vscode\n",
    "%load_ext autoreload\n",
    "%autoreload 2"
   ]
  },
  {
   "cell_type": "code",
   "execution_count": 2,
   "metadata": {},
   "outputs": [],
   "source": [
    "import gym\n",
    "import tensorflow as tf\n",
    "import numpy as np\n",
    "import pandas as pd\n",
    "import matplotlib.pyplot as plt\n",
    "import sys"
   ]
  },
  {
   "cell_type": "code",
   "execution_count": 3,
   "metadata": {},
   "outputs": [],
   "source": [
    "# load data\n",
    "data_dict = {\n",
    "    \"fleet_path\": \"data/fleet_small.csv\",\n",
    "    \"ports_path\": \"data/ports_10.csv\",\n",
    "    \"dm_path\": \"data/distance_matrix.csv\",\n",
    "}\n",
    "\n",
    "\n",
    "ports_df = pd.read_csv(data_dict[\"ports_path\"])\n",
    "fleet_df = pd.read_csv(data_dict[\"fleet_path\"])\n",
    "distance_matrix = pd.read_csv(data_dict[\"dm_path\"])"
   ]
  },
  {
   "cell_type": "code",
   "execution_count": 8,
   "metadata": {},
   "outputs": [],
   "source": [
    "from env.env import CarbonEnv\n",
    "from models.models import BaselineNet, PolicyNet, CarbonModel"
   ]
  },
  {
   "cell_type": "code",
   "execution_count": 59,
   "metadata": {
    "code_folding": []
   },
   "outputs": [],
   "source": [
    "# run this cell when needing to reload the classes CarbonEnv, BaselineNet, PolicyNet\n",
    "\n",
    "del sys.modules['models.models']\n",
    "del sys.modules['env.env']\n",
    "\n",
    "from env.env import CarbonEnv\n",
    "from models.models import BaselineNet, PolicyNet, CarbonModel"
   ]
  },
  {
   "cell_type": "code",
   "execution_count": 53,
   "metadata": {
    "scrolled": true
   },
   "outputs": [],
   "source": [
    "envo = CarbonEnv()"
   ]
  },
  {
   "cell_type": "code",
   "execution_count": 47,
   "metadata": {},
   "outputs": [
    {
     "data": {
      "text/plain": [
       "13"
      ]
     },
     "execution_count": 47,
     "metadata": {},
     "output_type": "execute_result"
    }
   ],
   "source": [
    "envo.action_space_dim[0]"
   ]
  },
  {
   "cell_type": "code",
   "execution_count": 34,
   "metadata": {},
   "outputs": [
    {
     "data": {
      "text/plain": [
       "128"
      ]
     },
     "execution_count": 34,
     "metadata": {},
     "output_type": "execute_result"
    }
   ],
   "source": [
    "envo.embedding_size"
   ]
  },
  {
   "cell_type": "code",
   "execution_count": 50,
   "metadata": {
    "code_folding": [
     0
    ]
   },
   "outputs": [],
   "source": [
    "# something\n",
    "s = np.array([[0], [0], [0], [1]])\n",
    "\n",
    "\n",
    "k = np.where(s==0,3*[False],3*[True])\n",
    "\n",
    "k\n",
    "\n",
    "k.ravel()\n",
    "\n",
    "st = tf.convert_to_tensor(s)\n",
    "st\n",
    "\n",
    "bm = tf.equal(st,0)\n",
    "\n",
    "\n",
    "skou = tf.where(bm,tf.repeat(tf.constant(False),3),tf.repeat(tf.constant(True),3))\n",
    "skou\n",
    "\n",
    "skou = tf.reshape(skou,[-1])\n",
    "skou\n",
    "\n",
    "skou = tf.expand_dims(skou,axis=1)\n",
    "skou\n",
    "\n",
    "bol = tf.constant(False,shape=(1,1))\n",
    "\n",
    "tf.concat((skou,bol),axis=0)"
   ]
  },
  {
   "cell_type": "code",
   "execution_count": 66,
   "metadata": {},
   "outputs": [
    {
     "ename": "AttributeError",
     "evalue": "'TensorShape' object has no attribute 'to_list'",
     "output_type": "error",
     "traceback": [
      "\u001b[0;31m---------------------------------------------------------------------------\u001b[0m",
      "\u001b[0;31mAttributeError\u001b[0m                            Traceback (most recent call last)",
      "\u001b[0;32m/tmp/ipykernel_41852/3635594163.py\u001b[0m in \u001b[0;36m<module>\u001b[0;34m\u001b[0m\n\u001b[0;32m----> 1\u001b[0;31m \u001b[0menvo\u001b[0m\u001b[0;34m.\u001b[0m\u001b[0mstate\u001b[0m\u001b[0;34m[\u001b[0m\u001b[0;34m'ships_state'\u001b[0m\u001b[0;34m]\u001b[0m\u001b[0;34m.\u001b[0m\u001b[0mshape\u001b[0m\u001b[0;34m.\u001b[0m\u001b[0mto_list\u001b[0m\u001b[0;34m(\u001b[0m\u001b[0;34m)\u001b[0m\u001b[0;34m\u001b[0m\u001b[0;34m\u001b[0m\u001b[0m\n\u001b[0m",
      "\u001b[0;31mAttributeError\u001b[0m: 'TensorShape' object has no attribute 'to_list'"
     ]
    }
   ],
   "source": [
    "envo.state['ships_state'].shape"
   ]
  },
  {
   "cell_type": "code",
   "execution_count": 55,
   "metadata": {},
   "outputs": [],
   "source": [
    "initial_state = envo.state"
   ]
  },
  {
   "cell_type": "code",
   "execution_count": 56,
   "metadata": {},
   "outputs": [],
   "source": [
    "baseline_net = BaselineNet(embedding_size=envo.embedding_size)"
   ]
  },
  {
   "cell_type": "code",
   "execution_count": 57,
   "metadata": {},
   "outputs": [],
   "source": [
    "policy_net = PolicyNet(embedding_size=envo.embedding_size,output_size=envo.action_space_dim[0])"
   ]
  },
  {
   "cell_type": "code",
   "execution_count": 58,
   "metadata": {},
   "outputs": [
    {
     "name": "stdout",
     "output_type": "stream",
     "text": [
      "To shape tou context einai (4, 64)\n",
      "To shape twn logits prepei na einai 13 kai einai (1, 13)\n",
      "bhka sto if\n",
      "to boolean mask tou contracts einai [[ True]\n",
      " [False]\n",
      " [ True]\n",
      " [False]]\n",
      "to shape tou boolean mask einai (4, 1)\n",
      "to boolean mask tou actions einai [[False False False]\n",
      " [ True  True  True]\n",
      " [False False False]\n",
      " [ True  True  True]]\n",
      "ekana flatten thn bm tou actions\n",
      "to boolean mask tou actions twra einai [False False False  True  True  True False False False  True  True  True]\n",
      "ebala mia akoma diastash sthn bm tou actions\n",
      "to boolean mask tou actions twra einai [[False]\n",
      " [False]\n",
      " [False]\n",
      " [ True]\n",
      " [ True]\n",
      " [ True]\n",
      " [False]\n",
      " [False]\n",
      " [False]\n",
      " [ True]\n",
      " [ True]\n",
      " [ True]]\n",
      "ebala ena teleutaio true sth bm tou actions\n",
      "to boolean mask tou actions twra einai [[False]\n",
      " [False]\n",
      " [False]\n",
      " [ True]\n",
      " [ True]\n",
      " [ True]\n",
      " [False]\n",
      " [False]\n",
      " [False]\n",
      " [ True]\n",
      " [ True]\n",
      " [ True]\n",
      " [ True]]\n",
      "ta logits einai [[ -673.02783 -1256.9597  -5206.2695  -5164.1777   -172.67989  2979.1226\n",
      "   -310.80475   135.60168 -1139.7727   3974.5583    721.7954  -3895.299\n",
      "   1648.6608 ]\n",
      " [ -673.02783 -1256.9597  -5206.2695  -5164.1777   -172.67989  2979.1226\n",
      "   -310.80475   135.60168 -1139.7727   3974.5583    721.7954  -3895.299\n",
      "   1648.6608 ]\n",
      " [ -673.02783 -1256.9597  -5206.2695  -5164.1777   -172.67989  2979.1226\n",
      "   -310.80475   135.60168 -1139.7727   3974.5583    721.7954  -3895.299\n",
      "   1648.6608 ]\n",
      " [       -inf        -inf        -inf        -inf        -inf        -inf\n",
      "         -inf        -inf        -inf        -inf        -inf        -inf\n",
      "         -inf]\n",
      " [       -inf        -inf        -inf        -inf        -inf        -inf\n",
      "         -inf        -inf        -inf        -inf        -inf        -inf\n",
      "         -inf]\n",
      " [       -inf        -inf        -inf        -inf        -inf        -inf\n",
      "         -inf        -inf        -inf        -inf        -inf        -inf\n",
      "         -inf]\n",
      " [ -673.02783 -1256.9597  -5206.2695  -5164.1777   -172.67989  2979.1226\n",
      "   -310.80475   135.60168 -1139.7727   3974.5583    721.7954  -3895.299\n",
      "   1648.6608 ]\n",
      " [ -673.02783 -1256.9597  -5206.2695  -5164.1777   -172.67989  2979.1226\n",
      "   -310.80475   135.60168 -1139.7727   3974.5583    721.7954  -3895.299\n",
      "   1648.6608 ]\n",
      " [ -673.02783 -1256.9597  -5206.2695  -5164.1777   -172.67989  2979.1226\n",
      "   -310.80475   135.60168 -1139.7727   3974.5583    721.7954  -3895.299\n",
      "   1648.6608 ]\n",
      " [       -inf        -inf        -inf        -inf        -inf        -inf\n",
      "         -inf        -inf        -inf        -inf        -inf        -inf\n",
      "         -inf]\n",
      " [       -inf        -inf        -inf        -inf        -inf        -inf\n",
      "         -inf        -inf        -inf        -inf        -inf        -inf\n",
      "         -inf]\n",
      " [       -inf        -inf        -inf        -inf        -inf        -inf\n",
      "         -inf        -inf        -inf        -inf        -inf        -inf\n",
      "         -inf]\n",
      " [       -inf        -inf        -inf        -inf        -inf        -inf\n",
      "         -inf        -inf        -inf        -inf        -inf        -inf\n",
      "         -inf]]\n"
     ]
    }
   ],
   "source": [
    "logits, categorical_dist = policy_net.action_distribution(initial_state)"
   ]
  },
  {
   "cell_type": "code",
   "execution_count": 64,
   "metadata": {},
   "outputs": [
    {
     "data": {
      "text/plain": [
       "<tf.Tensor: shape=(4, 13), dtype=float32, numpy=\n",
       "array([[       -inf,        -inf,        -inf,        -inf,        -inf,\n",
       "               -inf,        -inf,        -inf,        -inf,        -inf,\n",
       "               -inf,        -inf,        -inf],\n",
       "       [       -inf,        -inf,        -inf,        -inf,        -inf,\n",
       "               -inf,        -inf,        -inf,        -inf,        -inf,\n",
       "               -inf,        -inf,        -inf],\n",
       "       [       -inf,        -inf,        -inf,        -inf,        -inf,\n",
       "               -inf,        -inf,        -inf,        -inf,        -inf,\n",
       "               -inf,        -inf,        -inf],\n",
       "       [ -313.3099 ,  1267.9999 ,  -758.8125 ,  1239.5056 , -1898.6394 ,\n",
       "        -1773.07   , -1779.9456 ,  1001.9906 ,    64.24872, -1404.1523 ,\n",
       "        -3782.7876 , -1144.2429 , -3108.5317 ]], dtype=float32)>"
      ]
     },
     "execution_count": 64,
     "metadata": {},
     "output_type": "execute_result"
    }
   ],
   "source": [
    "logits"
   ]
  },
  {
   "cell_type": "code",
   "execution_count": 70,
   "metadata": {},
   "outputs": [],
   "source": [
    "d = np.reshape(np.arange(1,13),(3,4))\n",
    "d = tf.convert_to_tensor(d)"
   ]
  },
  {
   "cell_type": "code",
   "execution_count": 73,
   "metadata": {},
   "outputs": [
    {
     "data": {
      "text/plain": [
       "<tf.Tensor: shape=(3, 4), dtype=int64, numpy=\n",
       "array([[ 1,  2,  3,  4],\n",
       "       [ 5,  6,  7,  8],\n",
       "       [ 9, 10, 11, 12]])>"
      ]
     },
     "execution_count": 73,
     "metadata": {},
     "output_type": "execute_result"
    }
   ],
   "source": [
    "d"
   ]
  },
  {
   "cell_type": "code",
   "execution_count": null,
   "metadata": {},
   "outputs": [],
   "source": []
  },
  {
   "cell_type": "code",
   "execution_count": null,
   "metadata": {},
   "outputs": [],
   "source": []
  },
  {
   "cell_type": "code",
   "execution_count": null,
   "metadata": {},
   "outputs": [],
   "source": []
  },
  {
   "cell_type": "code",
   "execution_count": null,
   "metadata": {},
   "outputs": [],
   "source": []
  },
  {
   "cell_type": "code",
   "execution_count": null,
   "metadata": {},
   "outputs": [],
   "source": []
  },
  {
   "cell_type": "code",
   "execution_count": null,
   "metadata": {},
   "outputs": [],
   "source": []
  },
  {
   "cell_type": "code",
   "execution_count": null,
   "metadata": {},
   "outputs": [],
   "source": []
  },
  {
   "cell_type": "code",
   "execution_count": null,
   "metadata": {},
   "outputs": [],
   "source": []
  },
  {
   "cell_type": "code",
   "execution_count": 72,
   "metadata": {},
   "outputs": [
    {
     "data": {
      "text/plain": [
       "<tf.Tensor: shape=(4,), dtype=int64, numpy=array([5, 6, 7, 8])>"
      ]
     },
     "execution_count": 72,
     "metadata": {},
     "output_type": "execute_result"
    }
   ],
   "source": [
    "tf.math.reduce_mean(d,axis=0)"
   ]
  },
  {
   "cell_type": "code",
   "execution_count": 65,
   "metadata": {},
   "outputs": [
    {
     "data": {
      "text/plain": [
       "<tf.Tensor: shape=(4,), dtype=int32, numpy=array([13, 13, 13,  1], dtype=int32)>"
      ]
     },
     "execution_count": 65,
     "metadata": {},
     "output_type": "execute_result"
    }
   ],
   "source": [
    "categorical_dist.sample()"
   ]
  },
  {
   "cell_type": "code",
   "execution_count": null,
   "metadata": {},
   "outputs": [],
   "source": [
    "initial_state"
   ]
  },
  {
   "cell_type": "code",
   "execution_count": null,
   "metadata": {},
   "outputs": [],
   "source": [
    "value = baseline_net.forward(initial_state)"
   ]
  },
  {
   "cell_type": "code",
   "execution_count": null,
   "metadata": {},
   "outputs": [],
   "source": []
  },
  {
   "cell_type": "code",
   "execution_count": null,
   "metadata": {},
   "outputs": [],
   "source": [
    "baseline_net = BaselineNet()"
   ]
  },
  {
   "cell_type": "code",
   "execution_count": null,
   "metadata": {},
   "outputs": [],
   "source": [
    "envo.observation_space_dim"
   ]
  },
  {
   "cell_type": "code",
   "execution_count": null,
   "metadata": {},
   "outputs": [],
   "source": [
    "envo.action_space_dim"
   ]
  },
  {
   "cell_type": "code",
   "execution_count": null,
   "metadata": {},
   "outputs": [],
   "source": [
    "envo.action_space[\"actions\"].shape"
   ]
  },
  {
   "cell_type": "code",
   "execution_count": null,
   "metadata": {},
   "outputs": [],
   "source": [
    "envo.observation_space[\"contracts_state\"].shape"
   ]
  },
  {
   "cell_type": "code",
   "execution_count": null,
   "metadata": {},
   "outputs": [],
   "source": [
    "envo.observation_space[\"ships_state\"].shape"
   ]
  },
  {
   "cell_type": "code",
   "execution_count": null,
   "metadata": {},
   "outputs": [],
   "source": [
    "envo.observation_space[\"contracts_mask\"].shape"
   ]
  },
  {
   "cell_type": "code",
   "execution_count": null,
   "metadata": {},
   "outputs": [],
   "source": [
    "envo.observation_space[\"ships_mask\"].shape"
   ]
  },
  {
   "cell_type": "code",
   "execution_count": null,
   "metadata": {},
   "outputs": [],
   "source": [
    "ships = envo.create_contracts_tensor()"
   ]
  },
  {
   "cell_type": "code",
   "execution_count": null,
   "metadata": {},
   "outputs": [],
   "source": [
    "ships[0]"
   ]
  },
  {
   "cell_type": "code",
   "execution_count": null,
   "metadata": {},
   "outputs": [],
   "source": [
    "ships[1][:, 4] - 1"
   ]
  },
  {
   "cell_type": "code",
   "execution_count": null,
   "metadata": {},
   "outputs": [],
   "source": []
  },
  {
   "cell_type": "code",
   "execution_count": null,
   "metadata": {},
   "outputs": [],
   "source": []
  },
  {
   "cell_type": "code",
   "execution_count": null,
   "metadata": {},
   "outputs": [],
   "source": [
    "for i in range(0, 8):\n",
    "\n",
    "    day = i // 4\n",
    "    print(day)"
   ]
  },
  {
   "cell_type": "code",
   "execution_count": null,
   "metadata": {},
   "outputs": [],
   "source": []
  },
  {
   "cell_type": "code",
   "execution_count": null,
   "metadata": {},
   "outputs": [],
   "source": []
  },
  {
   "cell_type": "code",
   "execution_count": null,
   "metadata": {},
   "outputs": [],
   "source": []
  },
  {
   "cell_type": "code",
   "execution_count": null,
   "metadata": {},
   "outputs": [],
   "source": []
  },
  {
   "cell_type": "code",
   "execution_count": null,
   "metadata": {},
   "outputs": [],
   "source": []
  },
  {
   "cell_type": "code",
   "execution_count": null,
   "metadata": {},
   "outputs": [],
   "source": []
  },
  {
   "cell_type": "code",
   "execution_count": null,
   "metadata": {},
   "outputs": [],
   "source": []
  },
  {
   "cell_type": "code",
   "execution_count": null,
   "metadata": {},
   "outputs": [],
   "source": []
  },
  {
   "cell_type": "code",
   "execution_count": null,
   "metadata": {},
   "outputs": [],
   "source": [
    "# encoder mlp\n",
    "\n",
    "# see https://keras.io/examples/structured_data/structured_data_classification_from_scratch/\n",
    "# see https://www.tensorflow.org/tutorials/generative/autoencoder\n",
    "# Create an Integer Categorical Feature for contract_type"
   ]
  },
  {
   "cell_type": "code",
   "execution_count": null,
   "metadata": {
    "code_folding": [
     0
    ]
   },
   "outputs": [],
   "source": [
    "# Delay\n",
    "\n",
    "contracts = create_contrs(seed=56)\n",
    "agent_speed = 10\n",
    "agent_ship = 2\n",
    "ship_current_port = 4\n",
    "contract = contracts.loc[0]\n",
    "start_port_number = contract.start_port_number\n",
    "end_port_number = contract.end_port_number\n",
    "trip_1_hours = find_distance(ship_current_port,start_port_number) / agent_speed\n",
    "print(dt_1_hours)\n",
    "trip_2_hours = find_distance(start_port_number,end_port_number) / agent_speed\n",
    "print(dt_2_hours)\n",
    "trip_total_hours = trip_1_hours + trip_2_hours\n",
    "\n",
    "\n",
    "trip_total_days = round(trip_total_hours / 24)\n",
    "print(trip_total_days)\n",
    "\n",
    "contract_duration = contract.contract_duration\n",
    "delay = trip_total_days - contract_duration\n",
    "delay_penalty_factor_per_day = 10\n",
    "\n",
    "reward = 0\n",
    "penalty = 0 \n",
    "if delay <= 0:\n",
    "    # I arrived on time\n",
    "    # provide a constant reward > 0 \n",
    "    reward = 10\n",
    "    # \n",
    "else:\n",
    "    # I arrived late \n",
    "    # penalty < 0\n",
    "    delay_in_days = -delay\n",
    "    penalty = delay_penalty_factor_per_day * delay_in_days\n",
    "\n",
    "print(f\"The delay is {delay} days\")\n",
    "print(f\"The reward is {reward}\")\n",
    "print(f\"The penalty is {penalty}\")\n",
    "\n",
    "# cargo_size vs ship_shize\n",
    "\n",
    "contracts = create_contrs(seed=56)\n",
    "\n",
    "# gia ka8e contract se spawned contracts\n",
    "\n",
    "contract = contracts.loc[0]\n",
    "\n",
    "fleet_df\n",
    "# elegxw ka8e ploio pou einai available dhladh exei availability 1 \n",
    "mask_of_available_ships = fleet_df['ship_availability'] == 1\n",
    "\n",
    "available_ships = fleet_df[mask_of_available_ships]\n",
    "\n",
    "available_ships_numbers = available_ships.ship_number\n",
    "\n",
    "available_ships_numbers\n",
    "\n",
    "\n",
    "\n",
    "# checkare sto masking an kaneis mask out tous assous h ta mhdenika\n",
    "\n",
    "# gia ka8e tetoio ploio\n",
    "\n",
    "\n",
    "# get ship_number\n",
    "\n",
    "ship_numbers = \n",
    "agent_ship_selection = 2\n",
    "\n",
    "# get ship info\n",
    "ship_mask = fleet_df['ship_number'] == agent_ship_selection\n",
    "\n",
    "ship_info = fleet_df[ship_mask]\n",
    "print(ship_info)\n",
    "\n",
    "ship_current_port = ship_info.current_port\n",
    "print(ship_current_port)\n",
    "\n",
    "\n",
    "\n",
    "\n",
    "\n",
    "\n",
    "start_port_number = contract.start_port_number\n",
    "end_port_number = contract.end_port_number\n",
    "trip_1_distance = find_distance(ship_current_port,start_port_number)\n",
    "print(trip_1_distance)\n",
    "trip_2_distance = find_distance(start_port_number,end_port_number)\n",
    "print(trip_2_distance)\n",
    "trip_total_distance = trip_1_distance + trip_2_distance\n",
    "\n",
    "\n",
    "\n",
    "\n",
    "trip_total_days = round(trip_total_hours / 24)\n",
    "print(trip_total_days)\n",
    "\n",
    "contract_duration = contract.contract_duration\n",
    "delay = trip_total_days - contract_duration\n",
    "delay_penalty_factor_per_day = 10\n",
    "\n",
    "reward = 0\n",
    "penalty = 0 \n",
    "if delay <= 0:\n",
    "    # I arrived on time\n",
    "    # provide a constant reward > 0 \n",
    "    reward = 10\n",
    "    # \n",
    "else:\n",
    "    # I arrived late \n",
    "    # penalty < 0\n",
    "    delay_in_days = -delay\n",
    "    penalty = delay_penalty_factor_per_day * delay_in_days\n",
    "\n",
    "print(f\"The delay is {delay} days\")\n",
    "print(f\"The reward is {reward}\")\n",
    "print(f\"The penalty is {penalty}\")\n"
   ]
  },
  {
   "cell_type": "code",
   "execution_count": null,
   "metadata": {},
   "outputs": [],
   "source": []
  },
  {
   "cell_type": "code",
   "execution_count": null,
   "metadata": {},
   "outputs": [],
   "source": []
  }
 ],
 "metadata": {
  "interpreter": {
   "hash": "b0ef8fd9461b8a7174e04371100f893194f575b4895c82467862fe3595d34e0f"
  },
  "kernelspec": {
   "display_name": "Python 3.9.7 64-bit ('rl': conda)",
   "language": "python",
   "name": "python397jvsc74a57bd0aab302a361633d0f4220ac63331fe65e9bd63faf3f5b6c8e967bb743dd0eb01b"
  },
  "language_info": {
   "codemirror_mode": {
    "name": "ipython",
    "version": 3
   },
   "file_extension": ".py",
   "mimetype": "text/x-python",
   "name": "python",
   "nbconvert_exporter": "python",
   "pygments_lexer": "ipython3",
   "version": "3.9.7"
  },
  "latex_envs": {
   "LaTeX_envs_menu_present": true,
   "autoclose": false,
   "autocomplete": true,
   "bibliofile": "biblio.bib",
   "cite_by": "apalike",
   "current_citInitial": 1,
   "eqLabelWithNumbers": true,
   "eqNumInitial": 1,
   "hotkeys": {
    "equation": "Ctrl-E",
    "itemize": "Ctrl-I"
   },
   "labels_anchors": false,
   "latex_user_defs": false,
   "report_style_numbering": false,
   "user_envs_cfg": false
  },
  "toc": {
   "base_numbering": 1,
   "nav_menu": {
    "height": "114px",
    "width": "231px"
   },
   "number_sections": false,
   "sideBar": true,
   "skip_h1_title": false,
   "title_cell": "Table of Contents",
   "title_sidebar": "Contents",
   "toc_cell": false,
   "toc_position": {
    "height": "calc(100% - 180px)",
    "left": "10px",
    "top": "150px",
    "width": "165px"
   },
   "toc_section_display": true,
   "toc_window_display": false
  },
  "varInspector": {
   "cols": {
    "lenName": 16,
    "lenType": 16,
    "lenVar": 40
   },
   "kernels_config": {
    "python": {
     "delete_cmd_postfix": "",
     "delete_cmd_prefix": "del ",
     "library": "var_list.py",
     "varRefreshCmd": "print(var_dic_list())"
    },
    "r": {
     "delete_cmd_postfix": ") ",
     "delete_cmd_prefix": "rm(",
     "library": "var_list.r",
     "varRefreshCmd": "cat(var_dic_list()) "
    }
   },
   "types_to_exclude": [
    "module",
    "function",
    "builtin_function_or_method",
    "instance",
    "_Feature"
   ],
   "window_display": false
  }
 },
 "nbformat": 4,
 "nbformat_minor": 2
}
