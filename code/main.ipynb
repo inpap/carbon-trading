{
 "cells": [
  {
   "cell_type": "code",
   "execution_count": 1,
   "source": [
    "import gym\n",
    "import tensorflow as tf\n",
    "from tensorflow import keras\n",
    "import numpy as np\n",
    "import pandas as pd\n",
    "import matplotlib.pyplot as plt\n",
    "import pprint\n"
   ],
   "outputs": [],
   "metadata": {}
  },
  {
   "cell_type": "code",
   "execution_count": null,
   "source": [
    "# set up vessels_df\n",
    "\n",
    "single_vessel = {vessel_id:[capacity, longitude, latitude, list_of_sailing_speeds, attained_cii, required_cii]}\n"
   ],
   "outputs": [],
   "metadata": {}
  },
  {
   "cell_type": "code",
   "execution_count": null,
   "source": [
    "# set up contracts_df\n",
    "\n",
    "single_contract = {contract_id, volume, value, start_port, end_port, start_time, end_time}"
   ],
   "outputs": [],
   "metadata": {}
  },
  {
   "cell_type": "code",
   "execution_count": null,
   "source": [
    "def can_reach(vessel_location, vessel_set_of_speeds, start_port, start_time, free):\n",
    "    \"\"\"\n",
    "    function checking if a vessel can reach a start port on time\n",
    "    \"\"\"\n",
    "    # if the vessel is free\n",
    "    the vessel has to reach the new start port on time\n",
    "    u = Dx / Dt \n",
    "\n",
    "\n",
    "    # if the vessel is not free \n",
    "    the vessel has to reach the previous end port on time # use set of speeds \n",
    "\n",
    "    u = Dx / Dt \n",
    "    and then\n",
    "    the vessel has to reach the new start port on time\n",
    "\n",
    "\n",
    "    pass"
   ],
   "outputs": [],
   "metadata": {}
  },
  {
   "cell_type": "code",
   "execution_count": null,
   "source": [
    "def is_candidate(vessels_df_line, contract_df_line):\n",
    "    \"\"\"\n",
    "    function checking if a vessel meets the conditions to serve a contract \n",
    "    \"\"\"\n",
    "    # Check if vessel has the capacity to transport the cargo\n",
    "    vessel_capacity >= cargo_volume\n",
    "    \n",
    "        # If it does then check if it is free or already serving a cargo\n",
    "        vessel_free == Yes:\n",
    "\n",
    "            # Check if the vessel can reach the start port at start_time\n",
    "            can_reach()    \n",
    "\n",
    "\n",
    "\n",
    "\n",
    "\n",
    "    pass"
   ],
   "outputs": [],
   "metadata": {}
  },
  {
   "cell_type": "code",
   "execution_count": 3,
   "source": [
    "import gym\n",
    "from gym import spaces\n",
    "\n",
    "\n",
    "\n",
    "class CarbonEmissionEnv(gym.Env):\n",
    "    \"\"\"\n",
    "    A custom environment regarding the carbon emissions of a fleet.\n",
    "    Following the openai gym interface \n",
    "    \"\"\"\n",
    "\n",
    "    metadata = {'render.modes':['human']}\n",
    "\n",
    "    def __init__(self, vessels_df, contracts_df):\n",
    "        super(CarbonEmissionEnv, self).__init__()\n",
    "\n",
    "        self.vessels_df = vessels_df \n",
    "        # a df containing info about the fleet \n",
    "        # vessels_df needs to be updated overtime to showcase fleet availability\n",
    "\n",
    "\n",
    "\n",
    "        self.contracts_df = contracts_df \n",
    "        # a df containing info about the cargo contracts\n",
    "        # contracts_df needs to be updated while new contracts spawn\n",
    "\n",
    "        self.fleet_required_cii  = sum of required cii for each vessel taken from vessels_df  \n",
    "    \n",
    "\n",
    "\n",
    "\n",
    "\n",
    "        # Define the action and observation space\n",
    "        # They must be gym.spaces objects\n",
    "\n",
    "        # Action space\n",
    "        # Example using discrete actions:\n",
    "        self.action_space = spaces.Discrete(N_DISCRETE_ACTIONS)\n",
    "\n",
    "        # Observation space\n",
    "        # Example using a dictionary of simpler spaces as input\n",
    "        self.observation_space = spaces.Dict({\"position\": spaces.Discrete(2), \"velocity\": spaces.Discrete(3)}) \n",
    "\n",
    "\n",
    "\n",
    "    def step(self, action):\n",
    "        # Execute one time step in the environment\n",
    "        pass\n",
    "\n",
    "    def reset(self):\n",
    "        # Reset the state of the environment to an initial state\n",
    "        pass\n",
    "\n",
    "    def render(self, mode='human', close=False):\n",
    "        # Render the environment to the screen\n",
    "        pass\n",
    "\n",
    "\n",
    "\n",
    "\n",
    "\n",
    "\n"
   ],
   "outputs": [],
   "metadata": {}
  }
 ],
 "metadata": {
  "orig_nbformat": 4,
  "language_info": {
   "name": "python",
   "version": "3.9.6",
   "mimetype": "text/x-python",
   "codemirror_mode": {
    "name": "ipython",
    "version": 3
   },
   "pygments_lexer": "ipython3",
   "nbconvert_exporter": "python",
   "file_extension": ".py"
  },
  "kernelspec": {
   "name": "python3",
   "display_name": "Python 3.9.6 64-bit ('rl': conda)"
  },
  "interpreter": {
   "hash": "f25a44bb9afbfbe9df0c5624ffc836a9bf1b99b9b521caa5092898b2d21a7381"
  }
 },
 "nbformat": 4,
 "nbformat_minor": 2
}