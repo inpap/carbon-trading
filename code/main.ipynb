{
 "cells": [
  {
   "cell_type": "markdown",
   "metadata": {
    "heading_collapsed": true
   },
   "source": [
    "# Todos"
   ]
  },
  {
   "cell_type": "markdown",
   "metadata": {
    "heading_collapsed": true,
    "hidden": true
   },
   "source": [
    "## General\n",
    "\n",
    "- ✅ bale ta ballast trips apo ships tensor pisw sto ships df\n",
    "- ✅ tsekare me mock random data oti ta functions gia cii calculation apo speed trexoun komple"
   ]
  },
  {
   "cell_type": "markdown",
   "metadata": {
    "heading_collapsed": true,
    "hidden": true
   },
   "source": [
    "## Step\n",
    "    \n",
    "**Pws ypologizw to `reward` apo to action**\n",
    "    \n",
    "- ✅ Value of contract\n",
    "- ✅ CII\n",
    "- ✅ Lateness\n",
    "- ✅ Ftiakse sugentrwtiko `calculate_reward(selected_ship_idx,selected_contract,selected_speed)` function\n",
    "        \n",
    "**Pws na kanw swsta update to `state`**\n",
    "        \n",
    "- ❌ contract tensor\n",
    "- ❌ ship tensor\n",
    "- ❌ contract mask\n",
    "- ❌ ship mask\n",
    "- ❌ ship_log\n",
    "        "
   ]
  },
  {
   "cell_type": "markdown",
   "metadata": {
    "heading_collapsed": true,
    "hidden": true
   },
   "source": [
    "## Train \n",
    "\n",
    "ti einai ta `advantages`, `returns` kai giati xrhsimopoioyntai:\n",
    "        \n",
    "- ❌ sthn baseline_net.update(observations, returns) gia to update to baselineNet\n",
    "- ❌ sthn PolicyGradient.update_policy(observations, actions, advantages)gia to update ths policygradient "
   ]
  },
  {
   "cell_type": "markdown",
   "metadata": {},
   "source": [
    "# Code"
   ]
  },
  {
   "cell_type": "code",
   "execution_count": 1,
   "metadata": {},
   "outputs": [],
   "source": [
    "# autoreloading modules that i change in vscode\n",
    "%load_ext autoreload\n",
    "%autoreload 2"
   ]
  },
  {
   "cell_type": "code",
   "execution_count": 2,
   "metadata": {},
   "outputs": [],
   "source": [
    "import gym\n",
    "import tensorflow as tf\n",
    "import tensorflow_probability as tfp\n",
    "import numpy as np\n",
    "import pandas as pd\n",
    "import matplotlib.pyplot as plt\n",
    "import sys"
   ]
  },
  {
   "cell_type": "code",
   "execution_count": 3,
   "metadata": {},
   "outputs": [],
   "source": [
    "# load data\n",
    "data_dict = {\n",
    "    \"fleet_path\": \"data/fleet_small.csv\",\n",
    "    \"ports_path\": \"data/ports_10.csv\",\n",
    "    \"dm_path\": \"data/distance_matrix.csv\",\n",
    "}\n",
    "\n",
    "\n",
    "ports_df = pd.read_csv(data_dict[\"ports_path\"])\n",
    "fleet_df = pd.read_csv(data_dict[\"fleet_path\"])\n",
    "distance_matrix = pd.read_csv(data_dict[\"dm_path\"])"
   ]
  },
  {
   "cell_type": "code",
   "execution_count": 4,
   "metadata": {},
   "outputs": [],
   "source": [
    "from env.env import CarbonEnv\n",
    "from models.models import BaselineNet, PolicyNet, CarbonModel\n",
    "from utils.utils import map_action"
   ]
  },
  {
   "cell_type": "code",
   "execution_count": null,
   "metadata": {
    "code_folding": [
     0
    ]
   },
   "outputs": [],
   "source": [
    "# run this cell when needing to reload the classes CarbonEnv, BaselineNet, PolicyNet\n",
    "\n",
    "del sys.modules['models.models']\n",
    "del sys.modules['env.env']\n",
    "\n",
    "from env.env import CarbonEnv\n",
    "from models.models import BaselineNet, PolicyNet, CarbonModel\n",
    "from utils.utils import map_action"
   ]
  },
  {
   "cell_type": "code",
   "execution_count": 27,
   "metadata": {},
   "outputs": [],
   "source": [
    "envo = CarbonEnv()"
   ]
  },
  {
   "cell_type": "code",
   "execution_count": 28,
   "metadata": {},
   "outputs": [
    {
     "data": {
      "text/html": [
       "<div>\n",
       "<style scoped>\n",
       "    .dataframe tbody tr th:only-of-type {\n",
       "        vertical-align: middle;\n",
       "    }\n",
       "\n",
       "    .dataframe tbody tr th {\n",
       "        vertical-align: top;\n",
       "    }\n",
       "\n",
       "    .dataframe thead th {\n",
       "        text-align: right;\n",
       "    }\n",
       "</style>\n",
       "<table border=\"1\" class=\"dataframe\">\n",
       "  <thead>\n",
       "    <tr style=\"text-align: right;\">\n",
       "      <th></th>\n",
       "      <th>start_port_number</th>\n",
       "      <th>end_port_number</th>\n",
       "      <th>contract_type</th>\n",
       "      <th>start_day</th>\n",
       "      <th>end_day</th>\n",
       "      <th>cargo_size</th>\n",
       "      <th>contract_duration</th>\n",
       "      <th>contract_availability</th>\n",
       "      <th>contract_distance</th>\n",
       "      <th>value</th>\n",
       "    </tr>\n",
       "  </thead>\n",
       "  <tbody>\n",
       "    <tr>\n",
       "      <th>0</th>\n",
       "      <td>5.0</td>\n",
       "      <td>10.0</td>\n",
       "      <td>4.0</td>\n",
       "      <td>0.0</td>\n",
       "      <td>4.0</td>\n",
       "      <td>71176.0</td>\n",
       "      <td>5.0</td>\n",
       "      <td>1.0</td>\n",
       "      <td>425.0</td>\n",
       "      <td>6.0</td>\n",
       "    </tr>\n",
       "    <tr>\n",
       "      <th>1</th>\n",
       "      <td>10.0</td>\n",
       "      <td>8.0</td>\n",
       "      <td>4.0</td>\n",
       "      <td>0.0</td>\n",
       "      <td>4.0</td>\n",
       "      <td>72997.0</td>\n",
       "      <td>5.0</td>\n",
       "      <td>1.0</td>\n",
       "      <td>342.0</td>\n",
       "      <td>5.0</td>\n",
       "    </tr>\n",
       "    <tr>\n",
       "      <th>2</th>\n",
       "      <td>7.0</td>\n",
       "      <td>9.0</td>\n",
       "      <td>4.0</td>\n",
       "      <td>0.0</td>\n",
       "      <td>5.0</td>\n",
       "      <td>74859.0</td>\n",
       "      <td>6.0</td>\n",
       "      <td>1.0</td>\n",
       "      <td>688.0</td>\n",
       "      <td>9.0</td>\n",
       "    </tr>\n",
       "    <tr>\n",
       "      <th>3</th>\n",
       "      <td>4.0</td>\n",
       "      <td>10.0</td>\n",
       "      <td>1.0</td>\n",
       "      <td>0.0</td>\n",
       "      <td>7.0</td>\n",
       "      <td>41456.0</td>\n",
       "      <td>8.0</td>\n",
       "      <td>1.0</td>\n",
       "      <td>1029.0</td>\n",
       "      <td>5.0</td>\n",
       "    </tr>\n",
       "  </tbody>\n",
       "</table>\n",
       "</div>"
      ],
      "text/plain": [
       "   start_port_number  end_port_number  contract_type  start_day  end_day  \\\n",
       "0                5.0             10.0            4.0        0.0      4.0   \n",
       "1               10.0              8.0            4.0        0.0      4.0   \n",
       "2                7.0              9.0            4.0        0.0      5.0   \n",
       "3                4.0             10.0            1.0        0.0      7.0   \n",
       "\n",
       "   cargo_size  contract_duration  contract_availability  contract_distance  \\\n",
       "0     71176.0                5.0                    1.0              425.0   \n",
       "1     72997.0                5.0                    1.0              342.0   \n",
       "2     74859.0                6.0                    1.0              688.0   \n",
       "3     41456.0                8.0                    1.0             1029.0   \n",
       "\n",
       "   value  \n",
       "0    6.0  \n",
       "1    5.0  \n",
       "2    9.0  \n",
       "3    5.0  "
      ]
     },
     "execution_count": 28,
     "metadata": {},
     "output_type": "execute_result"
    }
   ],
   "source": [
    "envo.contracts_df"
   ]
  },
  {
   "cell_type": "code",
   "execution_count": 29,
   "metadata": {},
   "outputs": [
    {
     "data": {
      "text/html": [
       "<div>\n",
       "<style scoped>\n",
       "    .dataframe tbody tr th:only-of-type {\n",
       "        vertical-align: middle;\n",
       "    }\n",
       "\n",
       "    .dataframe tbody tr th {\n",
       "        vertical-align: top;\n",
       "    }\n",
       "\n",
       "    .dataframe thead th {\n",
       "        text-align: right;\n",
       "    }\n",
       "</style>\n",
       "<table border=\"1\" class=\"dataframe\">\n",
       "  <thead>\n",
       "    <tr style=\"text-align: right;\">\n",
       "      <th></th>\n",
       "      <th>ship_number</th>\n",
       "      <th>dwt</th>\n",
       "      <th>cii_threshold</th>\n",
       "      <th>cii_attained</th>\n",
       "      <th>current_port</th>\n",
       "      <th>current_speed</th>\n",
       "      <th>ship_availability</th>\n",
       "      <th>ballast_1</th>\n",
       "      <th>ballast_2</th>\n",
       "      <th>ballast_3</th>\n",
       "      <th>ballast_4</th>\n",
       "    </tr>\n",
       "  </thead>\n",
       "  <tbody>\n",
       "    <tr>\n",
       "      <th>0</th>\n",
       "      <td>1</td>\n",
       "      <td>50000</td>\n",
       "      <td>5.385183</td>\n",
       "      <td>0</td>\n",
       "      <td>8</td>\n",
       "      <td>0</td>\n",
       "      <td>1</td>\n",
       "      <td>83.0</td>\n",
       "      <td>342.0</td>\n",
       "      <td>1140.0</td>\n",
       "      <td>1256.0</td>\n",
       "    </tr>\n",
       "    <tr>\n",
       "      <th>1</th>\n",
       "      <td>2</td>\n",
       "      <td>60000</td>\n",
       "      <td>4.807837</td>\n",
       "      <td>0</td>\n",
       "      <td>6</td>\n",
       "      <td>0</td>\n",
       "      <td>1</td>\n",
       "      <td>1183.0</td>\n",
       "      <td>876.0</td>\n",
       "      <td>502.0</td>\n",
       "      <td>356.0</td>\n",
       "    </tr>\n",
       "    <tr>\n",
       "      <th>2</th>\n",
       "      <td>3</td>\n",
       "      <td>70000</td>\n",
       "      <td>4.368264</td>\n",
       "      <td>0</td>\n",
       "      <td>2</td>\n",
       "      <td>0</td>\n",
       "      <td>1</td>\n",
       "      <td>1543.0</td>\n",
       "      <td>1621.0</td>\n",
       "      <td>2503.0</td>\n",
       "      <td>2619.0</td>\n",
       "    </tr>\n",
       "    <tr>\n",
       "      <th>3</th>\n",
       "      <td>4</td>\n",
       "      <td>80000</td>\n",
       "      <td>4.020109</td>\n",
       "      <td>0</td>\n",
       "      <td>9</td>\n",
       "      <td>0</td>\n",
       "      <td>1</td>\n",
       "      <td>1480.0</td>\n",
       "      <td>1174.0</td>\n",
       "      <td>688.0</td>\n",
       "      <td>198.0</td>\n",
       "    </tr>\n",
       "  </tbody>\n",
       "</table>\n",
       "</div>"
      ],
      "text/plain": [
       "   ship_number    dwt  cii_threshold  cii_attained  current_port  \\\n",
       "0            1  50000       5.385183             0             8   \n",
       "1            2  60000       4.807837             0             6   \n",
       "2            3  70000       4.368264             0             2   \n",
       "3            4  80000       4.020109             0             9   \n",
       "\n",
       "   current_speed  ship_availability  ballast_1  ballast_2  ballast_3  \\\n",
       "0              0                  1       83.0      342.0     1140.0   \n",
       "1              0                  1     1183.0      876.0      502.0   \n",
       "2              0                  1     1543.0     1621.0     2503.0   \n",
       "3              0                  1     1480.0     1174.0      688.0   \n",
       "\n",
       "   ballast_4  \n",
       "0     1256.0  \n",
       "1      356.0  \n",
       "2     2619.0  \n",
       "3      198.0  "
      ]
     },
     "execution_count": 29,
     "metadata": {},
     "output_type": "execute_result"
    }
   ],
   "source": [
    "envo.ships"
   ]
  },
  {
   "cell_type": "code",
   "execution_count": null,
   "metadata": {
    "code_folding": [
     0
    ]
   },
   "outputs": [],
   "source": [
    "# something\n",
    "s = np.array([[0], [0], [0], [1]])\n",
    "\n",
    "\n",
    "k = np.where(s==0,3*[False],3*[True])\n",
    "\n",
    "k\n",
    "\n",
    "k.ravel()\n",
    "\n",
    "st = tf.convert_to_tensor(s)\n",
    "st\n",
    "\n",
    "bm = tf.equal(st,0)\n",
    "\n",
    "\n",
    "skou = tf.where(bm,tf.repeat(tf.constant(False),3),tf.repeat(tf.constant(True),3))\n",
    "skou\n",
    "\n",
    "skou = tf.reshape(skou,[-1])\n",
    "skou\n",
    "\n",
    "skou = tf.expand_dims(skou,axis=1)\n",
    "skou\n",
    "\n",
    "bol = tf.constant(False,shape=(1,1))\n",
    "\n",
    "tf.concat((skou,bol),axis=0)"
   ]
  },
  {
   "cell_type": "code",
   "execution_count": 9,
   "metadata": {},
   "outputs": [],
   "source": [
    "initial_state = envo.state"
   ]
  },
  {
   "cell_type": "code",
   "execution_count": 8,
   "metadata": {},
   "outputs": [
    {
     "data": {
      "text/plain": [
       "{1: 0, 2: 0, 3: 0, 4: 0}"
      ]
     },
     "execution_count": 8,
     "metadata": {},
     "output_type": "execute_result"
    }
   ],
   "source": [
    "envo.ship_log"
   ]
  },
  {
   "cell_type": "code",
   "execution_count": null,
   "metadata": {},
   "outputs": [],
   "source": [
    "initial_state['ships_state'][:,-4:].numpy()"
   ]
  },
  {
   "cell_type": "code",
   "execution_count": 10,
   "metadata": {},
   "outputs": [],
   "source": [
    "baseline_net = BaselineNet(embedding_size=envo.embedding_size)"
   ]
  },
  {
   "cell_type": "code",
   "execution_count": 11,
   "metadata": {},
   "outputs": [],
   "source": [
    "policy_net = PolicyNet(embedding_size=envo.embedding_size,output_size=envo.action_space_dim[0])"
   ]
  },
  {
   "cell_type": "code",
   "execution_count": 12,
   "metadata": {},
   "outputs": [],
   "source": [
    "logits, distr = policy_net.action_distribution(initial_state)"
   ]
  },
  {
   "cell_type": "code",
   "execution_count": 13,
   "metadata": {},
   "outputs": [],
   "source": [
    "action = policy_net.sample_action(initial_state)"
   ]
  },
  {
   "cell_type": "code",
   "execution_count": 14,
   "metadata": {},
   "outputs": [
    {
     "data": {
      "text/plain": [
       "3"
      ]
     },
     "execution_count": 14,
     "metadata": {},
     "output_type": "execute_result"
    }
   ],
   "source": [
    "action"
   ]
  },
  {
   "cell_type": "code",
   "execution_count": 15,
   "metadata": {},
   "outputs": [],
   "source": [
    "# estw oti dialegw to ship 1 mesa sth loopa twn ships\n",
    "# h loopa twn ships einai prin to sample_action\n",
    "\n",
    "ship_number = 1\n",
    "ship_idx = ship_number - 1"
   ]
  },
  {
   "cell_type": "code",
   "execution_count": 31,
   "metadata": {},
   "outputs": [
    {
     "data": {
      "text/html": [
       "<div>\n",
       "<style scoped>\n",
       "    .dataframe tbody tr th:only-of-type {\n",
       "        vertical-align: middle;\n",
       "    }\n",
       "\n",
       "    .dataframe tbody tr th {\n",
       "        vertical-align: top;\n",
       "    }\n",
       "\n",
       "    .dataframe thead th {\n",
       "        text-align: right;\n",
       "    }\n",
       "</style>\n",
       "<table border=\"1\" class=\"dataframe\">\n",
       "  <thead>\n",
       "    <tr style=\"text-align: right;\">\n",
       "      <th></th>\n",
       "      <th>ship_number</th>\n",
       "      <th>dwt</th>\n",
       "      <th>cii_threshold</th>\n",
       "      <th>cii_attained</th>\n",
       "      <th>current_port</th>\n",
       "      <th>current_speed</th>\n",
       "      <th>ship_availability</th>\n",
       "      <th>ballast_1</th>\n",
       "      <th>ballast_2</th>\n",
       "      <th>ballast_3</th>\n",
       "      <th>ballast_4</th>\n",
       "    </tr>\n",
       "  </thead>\n",
       "  <tbody>\n",
       "    <tr>\n",
       "      <th>0</th>\n",
       "      <td>1</td>\n",
       "      <td>50000</td>\n",
       "      <td>5.385183</td>\n",
       "      <td>0</td>\n",
       "      <td>8</td>\n",
       "      <td>0</td>\n",
       "      <td>1</td>\n",
       "      <td>83.0</td>\n",
       "      <td>342.0</td>\n",
       "      <td>1140.0</td>\n",
       "      <td>1256.0</td>\n",
       "    </tr>\n",
       "    <tr>\n",
       "      <th>1</th>\n",
       "      <td>2</td>\n",
       "      <td>60000</td>\n",
       "      <td>4.807837</td>\n",
       "      <td>0</td>\n",
       "      <td>6</td>\n",
       "      <td>0</td>\n",
       "      <td>1</td>\n",
       "      <td>1183.0</td>\n",
       "      <td>876.0</td>\n",
       "      <td>502.0</td>\n",
       "      <td>356.0</td>\n",
       "    </tr>\n",
       "    <tr>\n",
       "      <th>2</th>\n",
       "      <td>3</td>\n",
       "      <td>70000</td>\n",
       "      <td>4.368264</td>\n",
       "      <td>0</td>\n",
       "      <td>2</td>\n",
       "      <td>0</td>\n",
       "      <td>1</td>\n",
       "      <td>1543.0</td>\n",
       "      <td>1621.0</td>\n",
       "      <td>2503.0</td>\n",
       "      <td>2619.0</td>\n",
       "    </tr>\n",
       "    <tr>\n",
       "      <th>3</th>\n",
       "      <td>4</td>\n",
       "      <td>80000</td>\n",
       "      <td>4.020109</td>\n",
       "      <td>0</td>\n",
       "      <td>9</td>\n",
       "      <td>0</td>\n",
       "      <td>1</td>\n",
       "      <td>1480.0</td>\n",
       "      <td>1174.0</td>\n",
       "      <td>688.0</td>\n",
       "      <td>198.0</td>\n",
       "    </tr>\n",
       "  </tbody>\n",
       "</table>\n",
       "</div>"
      ],
      "text/plain": [
       "   ship_number    dwt  cii_threshold  cii_attained  current_port  \\\n",
       "0            1  50000       5.385183             0             8   \n",
       "1            2  60000       4.807837             0             6   \n",
       "2            3  70000       4.368264             0             2   \n",
       "3            4  80000       4.020109             0             9   \n",
       "\n",
       "   current_speed  ship_availability  ballast_1  ballast_2  ballast_3  \\\n",
       "0              0                  1       83.0      342.0     1140.0   \n",
       "1              0                  1     1183.0      876.0      502.0   \n",
       "2              0                  1     1543.0     1621.0     2503.0   \n",
       "3              0                  1     1480.0     1174.0      688.0   \n",
       "\n",
       "   ballast_4  \n",
       "0     1256.0  \n",
       "1      356.0  \n",
       "2     2619.0  \n",
       "3      198.0  "
      ]
     },
     "execution_count": 31,
     "metadata": {},
     "output_type": "execute_result"
    }
   ],
   "source": [
    "envo.ships"
   ]
  },
  {
   "cell_type": "code",
   "execution_count": 32,
   "metadata": {},
   "outputs": [
    {
     "data": {
      "text/html": [
       "<div>\n",
       "<style scoped>\n",
       "    .dataframe tbody tr th:only-of-type {\n",
       "        vertical-align: middle;\n",
       "    }\n",
       "\n",
       "    .dataframe tbody tr th {\n",
       "        vertical-align: top;\n",
       "    }\n",
       "\n",
       "    .dataframe thead th {\n",
       "        text-align: right;\n",
       "    }\n",
       "</style>\n",
       "<table border=\"1\" class=\"dataframe\">\n",
       "  <thead>\n",
       "    <tr style=\"text-align: right;\">\n",
       "      <th></th>\n",
       "      <th>start_port_number</th>\n",
       "      <th>end_port_number</th>\n",
       "      <th>contract_type</th>\n",
       "      <th>start_day</th>\n",
       "      <th>end_day</th>\n",
       "      <th>cargo_size</th>\n",
       "      <th>contract_duration</th>\n",
       "      <th>contract_availability</th>\n",
       "      <th>contract_distance</th>\n",
       "      <th>value</th>\n",
       "    </tr>\n",
       "  </thead>\n",
       "  <tbody>\n",
       "    <tr>\n",
       "      <th>0</th>\n",
       "      <td>5.0</td>\n",
       "      <td>10.0</td>\n",
       "      <td>4.0</td>\n",
       "      <td>0.0</td>\n",
       "      <td>4.0</td>\n",
       "      <td>71176.0</td>\n",
       "      <td>5.0</td>\n",
       "      <td>1.0</td>\n",
       "      <td>425.0</td>\n",
       "      <td>6.0</td>\n",
       "    </tr>\n",
       "    <tr>\n",
       "      <th>1</th>\n",
       "      <td>10.0</td>\n",
       "      <td>8.0</td>\n",
       "      <td>4.0</td>\n",
       "      <td>0.0</td>\n",
       "      <td>4.0</td>\n",
       "      <td>72997.0</td>\n",
       "      <td>5.0</td>\n",
       "      <td>1.0</td>\n",
       "      <td>342.0</td>\n",
       "      <td>5.0</td>\n",
       "    </tr>\n",
       "    <tr>\n",
       "      <th>2</th>\n",
       "      <td>7.0</td>\n",
       "      <td>9.0</td>\n",
       "      <td>4.0</td>\n",
       "      <td>0.0</td>\n",
       "      <td>5.0</td>\n",
       "      <td>74859.0</td>\n",
       "      <td>6.0</td>\n",
       "      <td>1.0</td>\n",
       "      <td>688.0</td>\n",
       "      <td>9.0</td>\n",
       "    </tr>\n",
       "    <tr>\n",
       "      <th>3</th>\n",
       "      <td>4.0</td>\n",
       "      <td>10.0</td>\n",
       "      <td>1.0</td>\n",
       "      <td>0.0</td>\n",
       "      <td>7.0</td>\n",
       "      <td>41456.0</td>\n",
       "      <td>8.0</td>\n",
       "      <td>1.0</td>\n",
       "      <td>1029.0</td>\n",
       "      <td>5.0</td>\n",
       "    </tr>\n",
       "  </tbody>\n",
       "</table>\n",
       "</div>"
      ],
      "text/plain": [
       "   start_port_number  end_port_number  contract_type  start_day  end_day  \\\n",
       "0                5.0             10.0            4.0        0.0      4.0   \n",
       "1               10.0              8.0            4.0        0.0      4.0   \n",
       "2                7.0              9.0            4.0        0.0      5.0   \n",
       "3                4.0             10.0            1.0        0.0      7.0   \n",
       "\n",
       "   cargo_size  contract_duration  contract_availability  contract_distance  \\\n",
       "0     71176.0                5.0                    1.0              425.0   \n",
       "1     72997.0                5.0                    1.0              342.0   \n",
       "2     74859.0                6.0                    1.0              688.0   \n",
       "3     41456.0                8.0                    1.0             1029.0   \n",
       "\n",
       "   value  \n",
       "0    6.0  \n",
       "1    5.0  \n",
       "2    9.0  \n",
       "3    5.0  "
      ]
     },
     "execution_count": 32,
     "metadata": {},
     "output_type": "execute_result"
    }
   ],
   "source": [
    "envo.contracts_df"
   ]
  },
  {
   "cell_type": "code",
   "execution_count": 51,
   "metadata": {},
   "outputs": [
    {
     "name": "stdout",
     "output_type": "stream",
     "text": [
      "The contract selected is contract_0 and the speed selected for ship 1 is 10 knots\n",
      "Bhka sto if, phra contract ! :D\n",
      "To reward sthn arxh einai 0\n",
      "To start port tou contract_0 einai to 5.0\n",
      "To end port tou contract_0 einai to 10.0\n",
      "H apostash metaksy twn dyo autwn port einai 425.0 nm\n",
      "To ballast_idx pou epileksame einai to ballast_0 pou einai to feature 7 tou ship_tensor\n",
      "To ploio 1 brisketai sto current port 10.0\n",
      "To ballast distance metaksy current port 10.0 kai start port 5.0 prokyptei 83.0 nm\n",
      "To synoliko distance einai 425.0 nm + 83.0 nm = 508.0 nm\n",
      "To ship 1 8a ftasei 3.0 meres nwritera\n",
      "to distance sailed einai 508.0\n",
      "To dwt einai 50000\n",
      "O c3 speed factor einai 0.00085034\n",
      "O c2 speed factor einai 0.15646258\n",
      "Ta co2 emissions einai 16.496598\n",
      "O ari8mhths einai 16496597.999999998\n",
      "O paronomasths einai 25400000.0\n",
      "The total reward is made up by the contract value 6.0\n",
      "The delay reward is 3.0\n",
      "The cii reward is 3.7010552883148193\n",
      "tf.Tensor(1.2989447, shape=(), dtype=float32)\n",
      "ekana update to state\n",
      "tsekare contract_tensor,contract_mask,ship_tensor,ship_mask\n"
     ]
    }
   ],
   "source": [
    "x = envo.step(action=0,ship_number=1)"
   ]
  },
  {
   "cell_type": "code",
   "execution_count": 45,
   "metadata": {},
   "outputs": [
    {
     "data": {
      "text/plain": [
       "0"
      ]
     },
     "execution_count": 45,
     "metadata": {},
     "output_type": "execute_result"
    }
   ],
   "source": [
    "int(16496597.999999998/ 25400000.0)"
   ]
  },
  {
   "cell_type": "code",
   "execution_count": 49,
   "metadata": {},
   "outputs": [
    {
     "data": {
      "text/plain": [
       "<tf.Tensor: shape=(10,), dtype=float32, numpy=\n",
       "array([5.0000e+00, 1.0000e+01, 4.0000e+00, 0.0000e+00, 4.0000e+00,\n",
       "       7.1176e+04, 5.0000e+00, 0.0000e+00, 4.2500e+02, 6.0000e+00],\n",
       "      dtype=float32)>"
      ]
     },
     "execution_count": 49,
     "metadata": {},
     "output_type": "execute_result"
    }
   ],
   "source": [
    "envo.contracts_tensor[0,:]"
   ]
  },
  {
   "cell_type": "code",
   "execution_count": 40,
   "metadata": {},
   "outputs": [
    {
     "data": {
      "text/plain": [
       "10.0"
      ]
     },
     "execution_count": 40,
     "metadata": {},
     "output_type": "execute_result"
    }
   ],
   "source": [
    "envo.contracts_df.iloc[0,1]"
   ]
  },
  {
   "cell_type": "code",
   "execution_count": 50,
   "metadata": {},
   "outputs": [
    {
     "data": {
      "text/plain": [
       "<tf.Tensor: shape=(4,), dtype=float32, numpy=array([ 0.64947236, 10.        , 10.        ,  0.        ], dtype=float32)>"
      ]
     },
     "execution_count": 50,
     "metadata": {},
     "output_type": "execute_result"
    }
   ],
   "source": [
    "envo.ships_tensor[0,3:7]"
   ]
  },
  {
   "cell_type": "code",
   "execution_count": 18,
   "metadata": {},
   "outputs": [],
   "source": [
    "contract, speed = map_action(selected_action=0)"
   ]
  },
  {
   "cell_type": "code",
   "execution_count": null,
   "metadata": {},
   "outputs": [],
   "source": []
  },
  {
   "cell_type": "code",
   "execution_count": 19,
   "metadata": {},
   "outputs": [
    {
     "data": {
      "text/plain": [
       "(0, 10)"
      ]
     },
     "execution_count": 19,
     "metadata": {},
     "output_type": "execute_result"
    }
   ],
   "source": [
    "contract, speed"
   ]
  },
  {
   "cell_type": "code",
   "execution_count": 24,
   "metadata": {},
   "outputs": [
    {
     "data": {
      "text/plain": [
       "array([5.0000e+00, 1.0000e+01, 4.0000e+00, 0.0000e+00, 4.0000e+00,\n",
       "       7.1176e+04, 5.0000e+00, 1.0000e+00, 4.2500e+02, 6.0000e+00],\n",
       "      dtype=float32)"
      ]
     },
     "execution_count": 24,
     "metadata": {},
     "output_type": "execute_result"
    }
   ],
   "source": [
    "envo.contracts_tensor[0,:].numpy()"
   ]
  },
  {
   "cell_type": "code",
   "execution_count": 53,
   "metadata": {},
   "outputs": [],
   "source": [
    "state_dict = {\n",
    "            \"contracts_state\": envo.contracts_tensor,\n",
    "            \"ships_state\": envo.ships_tensor,\n",
    "            \"contracts_mask\": envo.contracts_mask,\n",
    "            \"ships_mask\": envo.ships_mask,\n",
    "        }\n"
   ]
  },
  {
   "cell_type": "code",
   "execution_count": 76,
   "metadata": {},
   "outputs": [
    {
     "data": {
      "text/plain": [
       "[<tf.Tensor: shape=(4, 10), dtype=float32, numpy=\n",
       " array([[5.0000e+00, 1.0000e+01, 4.0000e+00, 0.0000e+00, 4.0000e+00,\n",
       "         7.1176e+04, 5.0000e+00, 0.0000e+00, 4.2500e+02, 6.0000e+00],\n",
       "        [1.0000e+01, 8.0000e+00, 4.0000e+00, 0.0000e+00, 4.0000e+00,\n",
       "         7.2997e+04, 5.0000e+00, 1.0000e+00, 3.4200e+02, 5.0000e+00],\n",
       "        [7.0000e+00, 9.0000e+00, 4.0000e+00, 0.0000e+00, 5.0000e+00,\n",
       "         7.4859e+04, 6.0000e+00, 1.0000e+00, 6.8800e+02, 9.0000e+00],\n",
       "        [4.0000e+00, 1.0000e+01, 1.0000e+00, 0.0000e+00, 7.0000e+00,\n",
       "         4.1456e+04, 8.0000e+00, 1.0000e+00, 1.0290e+03, 5.0000e+00]],\n",
       "       dtype=float32)>,\n",
       " <tf.Tensor: shape=(4, 11), dtype=float32, numpy=\n",
       " array([[1.0000000e+00, 5.0000000e+04, 5.0000000e+00, 1.2989447e+00,\n",
       "         1.0000000e+01, 1.0000000e+01, 0.0000000e+00, 8.3000000e+01,\n",
       "         3.4200000e+02, 1.1400000e+03, 1.2560000e+03],\n",
       "        [2.0000000e+00, 6.0000000e+04, 4.8078370e+00, 0.0000000e+00,\n",
       "         6.0000000e+00, 0.0000000e+00, 1.0000000e+00, 1.1830000e+03,\n",
       "         8.7600000e+02, 5.0200000e+02, 3.5600000e+02],\n",
       "        [3.0000000e+00, 7.0000000e+04, 4.3682637e+00, 0.0000000e+00,\n",
       "         2.0000000e+00, 0.0000000e+00, 1.0000000e+00, 1.5430000e+03,\n",
       "         1.6210000e+03, 2.5030000e+03, 2.6190000e+03],\n",
       "        [4.0000000e+00, 8.0000000e+04, 4.0201092e+00, 0.0000000e+00,\n",
       "         9.0000000e+00, 0.0000000e+00, 1.0000000e+00, 1.4800000e+03,\n",
       "         1.1740000e+03, 6.8800000e+02, 1.9800000e+02]], dtype=float32)>,\n",
       " <tf.Tensor: shape=(4,), dtype=float32, numpy=array([0., 1., 1., 1.], dtype=float32)>,\n",
       " <tf.Tensor: shape=(4,), dtype=float32, numpy=array([0., 1., 1., 1.], dtype=float32)>]"
      ]
     },
     "execution_count": 76,
     "metadata": {},
     "output_type": "execute_result"
    }
   ],
   "source": [
    "list(state_dict.values())"
   ]
  },
  {
   "cell_type": "code",
   "execution_count": 63,
   "metadata": {},
   "outputs": [
    {
     "data": {
      "text/plain": [
       "{'contracts_state': <tf.Tensor: shape=(4, 10), dtype=float32, numpy=\n",
       " array([[5.0000e+00, 1.0000e+01, 4.0000e+00, 0.0000e+00, 4.0000e+00,\n",
       "         7.1176e+04, 5.0000e+00, 0.0000e+00, 4.2500e+02, 6.0000e+00],\n",
       "        [1.0000e+01, 8.0000e+00, 4.0000e+00, 0.0000e+00, 4.0000e+00,\n",
       "         7.2997e+04, 5.0000e+00, 1.0000e+00, 3.4200e+02, 5.0000e+00],\n",
       "        [7.0000e+00, 9.0000e+00, 4.0000e+00, 0.0000e+00, 5.0000e+00,\n",
       "         7.4859e+04, 6.0000e+00, 1.0000e+00, 6.8800e+02, 9.0000e+00],\n",
       "        [4.0000e+00, 1.0000e+01, 1.0000e+00, 0.0000e+00, 7.0000e+00,\n",
       "         4.1456e+04, 8.0000e+00, 1.0000e+00, 1.0290e+03, 5.0000e+00]],\n",
       "       dtype=float32)>,\n",
       " 'ships_state': <tf.Tensor: shape=(4, 11), dtype=float32, numpy=\n",
       " array([[1.0000000e+00, 5.0000000e+04, 5.0000000e+00, 1.2989447e+00,\n",
       "         1.0000000e+01, 1.0000000e+01, 0.0000000e+00, 8.3000000e+01,\n",
       "         3.4200000e+02, 1.1400000e+03, 1.2560000e+03],\n",
       "        [2.0000000e+00, 6.0000000e+04, 4.8078370e+00, 0.0000000e+00,\n",
       "         6.0000000e+00, 0.0000000e+00, 1.0000000e+00, 1.1830000e+03,\n",
       "         8.7600000e+02, 5.0200000e+02, 3.5600000e+02],\n",
       "        [3.0000000e+00, 7.0000000e+04, 4.3682637e+00, 0.0000000e+00,\n",
       "         2.0000000e+00, 0.0000000e+00, 1.0000000e+00, 1.5430000e+03,\n",
       "         1.6210000e+03, 2.5030000e+03, 2.6190000e+03],\n",
       "        [4.0000000e+00, 8.0000000e+04, 4.0201092e+00, 0.0000000e+00,\n",
       "         9.0000000e+00, 0.0000000e+00, 1.0000000e+00, 1.4800000e+03,\n",
       "         1.1740000e+03, 6.8800000e+02, 1.9800000e+02]], dtype=float32)>,\n",
       " 'contracts_mask': <tf.Tensor: shape=(4,), dtype=float32, numpy=array([0., 1., 1., 1.], dtype=float32)>,\n",
       " 'ships_mask': <tf.Tensor: shape=(4,), dtype=float32, numpy=array([0., 1., 1., 1.], dtype=float32)>}"
      ]
     },
     "execution_count": 63,
     "metadata": {},
     "output_type": "execute_result"
    }
   ],
   "source": [
    "state_dict"
   ]
  },
  {
   "cell_type": "code",
   "execution_count": null,
   "metadata": {},
   "outputs": [],
   "source": []
  },
  {
   "cell_type": "code",
   "execution_count": null,
   "metadata": {},
   "outputs": [],
   "source": []
  },
  {
   "cell_type": "code",
   "execution_count": null,
   "metadata": {},
   "outputs": [],
   "source": []
  },
  {
   "cell_type": "code",
   "execution_count": null,
   "metadata": {},
   "outputs": [],
   "source": []
  },
  {
   "cell_type": "code",
   "execution_count": null,
   "metadata": {},
   "outputs": [],
   "source": [
    "indices_array = np.zeros(11)"
   ]
  },
  {
   "cell_type": "code",
   "execution_count": null,
   "metadata": {},
   "outputs": [],
   "source": [
    "indices_array[[3,4,5,6]] = 1"
   ]
  },
  {
   "cell_type": "code",
   "execution_count": null,
   "metadata": {},
   "outputs": [],
   "source": [
    "indices_array"
   ]
  },
  {
   "cell_type": "code",
   "execution_count": null,
   "metadata": {},
   "outputs": [],
   "source": [
    "selected_contract_tensor[1].numpy()"
   ]
  },
  {
   "cell_type": "code",
   "execution_count": null,
   "metadata": {},
   "outputs": [],
   "source": [
    "selected_ship_tensor = envo.ships_tensor[ship_idx,:]\n",
    "selected_ship_tensor[]"
   ]
  },
  {
   "cell_type": "code",
   "execution_count": null,
   "metadata": {},
   "outputs": [],
   "source": [
    "updates = tf.reshape(selected_ship_tensor, shape = (1, selected_ship_tensor.shape[0]))\n",
    "updates"
   ]
  },
  {
   "cell_type": "code",
   "execution_count": null,
   "metadata": {},
   "outputs": [],
   "source": [
    "tensor = envo.ships_tensor\n",
    "tensor"
   ]
  },
  {
   "cell_type": "code",
   "execution_count": null,
   "metadata": {},
   "outputs": [],
   "source": [
    "indices = tf.constant([[0,1],\n",
    "                       [2,2],\n",
    "                       [3,4]])\n",
    "indices"
   ]
  },
  {
   "cell_type": "code",
   "execution_count": null,
   "metadata": {},
   "outputs": [],
   "source": [
    "num_updates, index_depth = indices.shape.as_list()\n",
    "num_updates, index_depth"
   ]
  },
  {
   "cell_type": "code",
   "execution_count": null,
   "metadata": {},
   "outputs": [],
   "source": [
    "tensor.shape"
   ]
  },
  {
   "cell_type": "code",
   "execution_count": null,
   "metadata": {},
   "outputs": [],
   "source": [
    "outer_shape = tensor.shape[:index_depth]\n",
    "inner_shape = tensor.shape[index_depth:]\n",
    "outer_shape, inner_shape"
   ]
  },
  {
   "cell_type": "code",
   "execution_count": null,
   "metadata": {},
   "outputs": [],
   "source": [
    "tensor.shape\n",
    "\n",
    "# outer_shape = 4\n",
    "# inner_shape = 11"
   ]
  },
  {
   "cell_type": "code",
   "execution_count": null,
   "metadata": {},
   "outputs": [],
   "source": [
    "updates.shape"
   ]
  },
  {
   "cell_type": "code",
   "execution_count": null,
   "metadata": {},
   "outputs": [],
   "source": [
    "num_updates"
   ]
  },
  {
   "cell_type": "code",
   "execution_count": null,
   "metadata": {},
   "outputs": [],
   "source": [
    "inner_shape"
   ]
  },
  {
   "cell_type": "code",
   "execution_count": null,
   "metadata": {},
   "outputs": [],
   "source": []
  },
  {
   "cell_type": "code",
   "execution_count": null,
   "metadata": {},
   "outputs": [],
   "source": [
    "action"
   ]
  },
  {
   "cell_type": "code",
   "execution_count": null,
   "metadata": {},
   "outputs": [],
   "source": [
    "envo.step(action,ship=1)"
   ]
  },
  {
   "cell_type": "code",
   "execution_count": null,
   "metadata": {},
   "outputs": [],
   "source": [
    "envo.step(0,2)"
   ]
  },
  {
   "cell_type": "code",
   "execution_count": null,
   "metadata": {},
   "outputs": [],
   "source": [
    "envo.ships_tensor[:,0]"
   ]
  },
  {
   "cell_type": "code",
   "execution_count": null,
   "metadata": {},
   "outputs": [],
   "source": [
    "envo.ships_tensor"
   ]
  },
  {
   "cell_type": "code",
   "execution_count": null,
   "metadata": {},
   "outputs": [],
   "source": []
  },
  {
   "cell_type": "code",
   "execution_count": null,
   "metadata": {},
   "outputs": [],
   "source": []
  },
  {
   "cell_type": "code",
   "execution_count": null,
   "metadata": {},
   "outputs": [],
   "source": []
  },
  {
   "cell_type": "code",
   "execution_count": null,
   "metadata": {},
   "outputs": [],
   "source": [
    "tensor = tf.zeros([6,3], dtype=tf.int32)\n",
    "indices = tf.constant([[2],[4]])\n",
    "num_updates, index_depth = indices.shape.as_list()\n",
    "print(f\"num_updates == {num_updates}, index_depth == {index_depth}\")\n",
    "print(\"\")\n",
    "\n",
    "print(\"The outer_shape should be 6 and the inner_shape should be 3\")\n",
    "print(\"\")\n",
    "      \n",
    "print(\"If we use the definition of the first code block\")\n",
    "outer_shape_1st = tensor.shape[index_depth:]\n",
    "inner_shape_1st = tensor.shape[:index_depth]\n",
    "print(f\"outer_shape is {outer_shape_1st[0]}, the inner_shape is {inner_shape_1st[0]}\")      \n",
    "print(\"\")\n",
    "\n",
    "\n",
    "print(\"If we use the definition of the forth code block\")\n",
    "outer_shape_4th = tensor.shape[:index_depth]\n",
    "inner_shape_4th = tensor.shape[index_depth:]\n",
    "print(f\"outer_shape is {outer_shape_4th[0]}, the inner_shape is {inner_shape_4th[0]}\")"
   ]
  },
  {
   "cell_type": "code",
   "execution_count": null,
   "metadata": {},
   "outputs": [],
   "source": []
  },
  {
   "cell_type": "code",
   "execution_count": null,
   "metadata": {},
   "outputs": [],
   "source": []
  },
  {
   "cell_type": "code",
   "execution_count": null,
   "metadata": {},
   "outputs": [],
   "source": []
  },
  {
   "cell_type": "code",
   "execution_count": null,
   "metadata": {},
   "outputs": [],
   "source": []
  },
  {
   "cell_type": "code",
   "execution_count": null,
   "metadata": {},
   "outputs": [],
   "source": []
  },
  {
   "cell_type": "code",
   "execution_count": null,
   "metadata": {},
   "outputs": [],
   "source": []
  },
  {
   "cell_type": "code",
   "execution_count": null,
   "metadata": {},
   "outputs": [],
   "source": []
  },
  {
   "cell_type": "code",
   "execution_count": null,
   "metadata": {},
   "outputs": [],
   "source": []
  },
  {
   "cell_type": "code",
   "execution_count": null,
   "metadata": {},
   "outputs": [],
   "source": []
  },
  {
   "cell_type": "code",
   "execution_count": null,
   "metadata": {},
   "outputs": [],
   "source": []
  },
  {
   "cell_type": "code",
   "execution_count": null,
   "metadata": {},
   "outputs": [],
   "source": []
  },
  {
   "cell_type": "code",
   "execution_count": null,
   "metadata": {},
   "outputs": [],
   "source": []
  },
  {
   "cell_type": "code",
   "execution_count": null,
   "metadata": {},
   "outputs": [],
   "source": []
  },
  {
   "cell_type": "code",
   "execution_count": null,
   "metadata": {},
   "outputs": [],
   "source": []
  },
  {
   "cell_type": "code",
   "execution_count": null,
   "metadata": {},
   "outputs": [],
   "source": []
  },
  {
   "cell_type": "code",
   "execution_count": null,
   "metadata": {},
   "outputs": [],
   "source": []
  },
  {
   "cell_type": "code",
   "execution_count": null,
   "metadata": {},
   "outputs": [],
   "source": []
  },
  {
   "cell_type": "code",
   "execution_count": null,
   "metadata": {},
   "outputs": [],
   "source": []
  },
  {
   "cell_type": "markdown",
   "metadata": {
    "heading_collapsed": true
   },
   "source": [
    "### Tensorflow Tip\n",
    "\n",
    "Assign values to a tensor at specific indices"
   ]
  },
  {
   "cell_type": "code",
   "execution_count": null,
   "metadata": {
    "hidden": true
   },
   "outputs": [],
   "source": [
    "input_array = np.array([2, 4, 7, 11, 3, 8, 9, 19, 11, 7])\n",
    "inplace_array = np.array([10, 20])\n",
    "indices_array = np.array([0, 0, 1, 0, 0, 0, 1, 0, 0, 0])\n",
    "\n",
    "# [[2], [6]] \n",
    "indices = tf.cast(tf.where(tf.equal(indices_array,1)),tf.int32)\n",
    "print(indices)\n",
    "\n",
    "# [0, 0, 10, 0, 0, 0, 20, 0, 0, 0]\n",
    "scatter = tf.scatter_nd(indices, inplace_array, shape=tf.shape(input_array))\n",
    "print(scatter)\n",
    "\n",
    "# [1, 1, 0, 1, 1, 1, 0, 1, 1, 1]\n",
    "inverse_mask = tf.cast(tf.math.logical_not(indices_array), tf.int32)\n",
    "print(inverse_mask)\n",
    "\n",
    "# [2, 4, 0, 11, 3, 8, 0, 19, 11, 7]\n",
    "input_array_zero_out = tf.multiply(inverse_mask, input_array)\n",
    "print(input_array_zero_out)\n",
    "\n",
    "# [2, 4, 10, 11, 3, 8, 20, 19, 11, 7]\n",
    "output = tf.add(input_array_zero_out, tf.cast(scatter, tf.int32))\n",
    "print(output)"
   ]
  },
  {
   "cell_type": "code",
   "execution_count": null,
   "metadata": {
    "hidden": true
   },
   "outputs": [],
   "source": []
  },
  {
   "cell_type": "code",
   "execution_count": null,
   "metadata": {
    "hidden": true
   },
   "outputs": [],
   "source": [
    "# [[2], [6]] \n",
    "indices = tf.cast(tf.where(tf.equal(indices_array,1)),tf.int32)\n",
    "print(indices)"
   ]
  },
  {
   "cell_type": "code",
   "execution_count": null,
   "metadata": {
    "hidden": true
   },
   "outputs": [],
   "source": [
    "# [0, 0, 10, 0, 0, 0, 20, 0, 0, 0]\n",
    "scatter = tf.scatter_nd(indices, inplace_array, shape=tf.shape(input_array))\n",
    "print(scatter)"
   ]
  },
  {
   "cell_type": "code",
   "execution_count": null,
   "metadata": {
    "hidden": true
   },
   "outputs": [],
   "source": [
    "# [1, 1, 0, 1, 1, 1, 0, 1, 1, 1]\n",
    "inverse_mask = tf.cast(tf.math.logical_not(indices_array), tf.int32)\n",
    "print(inverse_mask)"
   ]
  },
  {
   "cell_type": "code",
   "execution_count": null,
   "metadata": {
    "hidden": true
   },
   "outputs": [],
   "source": [
    "# [2, 4, 0, 11, 3, 8, 0, 19, 11, 7]\n",
    "input_array_zero_out = tf.multiply(inverse_mask, input_array)\n",
    "print(input_array_zero_out)"
   ]
  },
  {
   "cell_type": "code",
   "execution_count": null,
   "metadata": {
    "hidden": true
   },
   "outputs": [],
   "source": [
    "# [2, 4, 10, 11, 3, 8, 20, 19, 11, 7]\n",
    "output = tf.add(input_array_zero_out, tf.cast(scatter, tf.int32))\n",
    "print(output)"
   ]
  },
  {
   "cell_type": "code",
   "execution_count": null,
   "metadata": {
    "hidden": true
   },
   "outputs": [],
   "source": []
  },
  {
   "cell_type": "code",
   "execution_count": null,
   "metadata": {
    "hidden": true
   },
   "outputs": [],
   "source": []
  },
  {
   "cell_type": "code",
   "execution_count": null,
   "metadata": {
    "hidden": true
   },
   "outputs": [],
   "source": []
  },
  {
   "cell_type": "code",
   "execution_count": null,
   "metadata": {
    "hidden": true
   },
   "outputs": [],
   "source": []
  },
  {
   "cell_type": "code",
   "execution_count": null,
   "metadata": {
    "hidden": true
   },
   "outputs": [],
   "source": [
    "# encoder mlp\n",
    "\n",
    "# see https://keras.io/examples/structured_data/structured_data_classification_from_scratch/\n",
    "# see https://www.tensorflow.org/tutorials/generative/autoencoder\n",
    "# Create an Integer Categorical Feature for contract_type"
   ]
  },
  {
   "cell_type": "code",
   "execution_count": null,
   "metadata": {
    "hidden": true
   },
   "outputs": [],
   "source": []
  },
  {
   "cell_type": "code",
   "execution_count": null,
   "metadata": {
    "hidden": true
   },
   "outputs": [],
   "source": []
  }
 ],
 "metadata": {
  "interpreter": {
   "hash": "b0ef8fd9461b8a7174e04371100f893194f575b4895c82467862fe3595d34e0f"
  },
  "kernelspec": {
   "display_name": "Python 3.9.7 64-bit ('rl': conda)",
   "language": "python",
   "name": "python397jvsc74a57bd0aab302a361633d0f4220ac63331fe65e9bd63faf3f5b6c8e967bb743dd0eb01b"
  },
  "language_info": {
   "codemirror_mode": {
    "name": "ipython",
    "version": 3
   },
   "file_extension": ".py",
   "mimetype": "text/x-python",
   "name": "python",
   "nbconvert_exporter": "python",
   "pygments_lexer": "ipython3",
   "version": "3.9.7"
  },
  "latex_envs": {
   "LaTeX_envs_menu_present": true,
   "autoclose": false,
   "autocomplete": true,
   "bibliofile": "biblio.bib",
   "cite_by": "apalike",
   "current_citInitial": 1,
   "eqLabelWithNumbers": true,
   "eqNumInitial": 1,
   "hotkeys": {
    "equation": "Ctrl-E",
    "itemize": "Ctrl-I"
   },
   "labels_anchors": false,
   "latex_user_defs": false,
   "report_style_numbering": false,
   "user_envs_cfg": false
  },
  "toc": {
   "base_numbering": 1,
   "nav_menu": {
    "height": "114px",
    "width": "231px"
   },
   "number_sections": false,
   "sideBar": true,
   "skip_h1_title": false,
   "title_cell": "Table of Contents",
   "title_sidebar": "Contents",
   "toc_cell": false,
   "toc_position": {
    "height": "calc(100% - 180px)",
    "left": "10px",
    "top": "150px",
    "width": "165px"
   },
   "toc_section_display": true,
   "toc_window_display": false
  },
  "varInspector": {
   "cols": {
    "lenName": 16,
    "lenType": 16,
    "lenVar": 40
   },
   "kernels_config": {
    "python": {
     "delete_cmd_postfix": "",
     "delete_cmd_prefix": "del ",
     "library": "var_list.py",
     "varRefreshCmd": "print(var_dic_list())"
    },
    "r": {
     "delete_cmd_postfix": ") ",
     "delete_cmd_prefix": "rm(",
     "library": "var_list.r",
     "varRefreshCmd": "cat(var_dic_list()) "
    }
   },
   "types_to_exclude": [
    "module",
    "function",
    "builtin_function_or_method",
    "instance",
    "_Feature"
   ],
   "window_display": false
  }
 },
 "nbformat": 4,
 "nbformat_minor": 2
}
