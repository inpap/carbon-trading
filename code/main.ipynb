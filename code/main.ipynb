{
 "cells": [
  {
   "cell_type": "code",
   "execution_count": null,
   "metadata": {},
   "outputs": [],
   "source": [
    "# autoreloading modules that i change in vscode\n",
    "%load_ext autoreload\n",
    "%autoreload 2"
   ]
  },
  {
   "cell_type": "code",
   "execution_count": 1,
   "metadata": {},
   "outputs": [],
   "source": [
    "import gym\n",
    "import tensorflow as tf\n",
    "import numpy as np\n",
    "import pandas as pd\n",
    "import matplotlib.pyplot as plt\n",
    "from importlib import reload\n",
    "import sys"
   ]
  },
  {
   "cell_type": "code",
   "execution_count": 2,
   "metadata": {},
   "outputs": [],
   "source": [
    "# load data\n",
    "data_dict = {\n",
    "    \"fleet_path\": \"data/fleet_small.csv\",\n",
    "    \"ports_path\": \"data/ports_10.csv\",\n",
    "    \"dm_path\": \"data/distance_matrix.csv\",\n",
    "}\n",
    "\n",
    "\n",
    "ports_df = pd.read_csv(data_dict[\"ports_path\"])\n",
    "fleet_df = pd.read_csv(data_dict[\"fleet_path\"])\n",
    "distance_matrix = pd.read_csv(data_dict[\"dm_path\"])"
   ]
  },
  {
   "cell_type": "code",
   "execution_count": 10,
   "metadata": {},
   "outputs": [],
   "source": [
    "from env.env import CarbonEnv\n",
    "from models.models import BaselineNet, PolicyNet"
   ]
  },
  {
   "cell_type": "code",
   "execution_count": 29,
   "metadata": {
    "code_folding": []
   },
   "outputs": [],
   "source": [
    "# run this cell when needing to reload the classes CarbonEnv, BaselineNet, PolicyNet\n",
    "\n",
    "del sys.modules['models.models']\n",
    "del sys.modules['env.env']\n",
    "\n",
    "from env.env import CarbonEnv\n",
    "from models.models import BaselineNet, PolicyNet"
   ]
  },
  {
   "cell_type": "code",
   "execution_count": 30,
   "metadata": {
    "scrolled": true
   },
   "outputs": [],
   "source": [
    "envo = CarbonEnv()"
   ]
  },
  {
   "cell_type": "code",
   "execution_count": 36,
   "metadata": {},
   "outputs": [
    {
     "data": {
      "text/plain": [
       "13"
      ]
     },
     "execution_count": 36,
     "metadata": {},
     "output_type": "execute_result"
    }
   ],
   "source": [
    "envo.action_space_dim[0]"
   ]
  },
  {
   "cell_type": "code",
   "execution_count": 32,
   "metadata": {},
   "outputs": [
    {
     "data": {
      "text/plain": [
       "128"
      ]
     },
     "execution_count": 32,
     "metadata": {},
     "output_type": "execute_result"
    }
   ],
   "source": [
    "envo.embedding_size"
   ]
  },
  {
   "cell_type": "code",
   "execution_count": null,
   "metadata": {},
   "outputs": [],
   "source": []
  },
  {
   "cell_type": "code",
   "execution_count": 33,
   "metadata": {},
   "outputs": [],
   "source": [
    "initial_state = envo.state"
   ]
  },
  {
   "cell_type": "code",
   "execution_count": 34,
   "metadata": {},
   "outputs": [],
   "source": [
    "baseline_net = BaselineNet(embedding_size=envo.embedding_size)"
   ]
  },
  {
   "cell_type": "code",
   "execution_count": 39,
   "metadata": {},
   "outputs": [],
   "source": [
    "policy_net = PolicyNet(embedding_size=envo.embedding_size,output_size=envo.action_space_dim[0])"
   ]
  },
  {
   "cell_type": "code",
   "execution_count": 40,
   "metadata": {},
   "outputs": [
    {
     "ename": "KeyError",
     "evalue": "'contracts_tensor'",
     "output_type": "error",
     "traceback": [
      "\u001b[0;31m---------------------------------------------------------------------------\u001b[0m",
      "\u001b[0;31mKeyError\u001b[0m                                  Traceback (most recent call last)",
      "\u001b[0;32m/tmp/ipykernel_34681/4165360642.py\u001b[0m in \u001b[0;36m<module>\u001b[0;34m\u001b[0m\n\u001b[0;32m----> 1\u001b[0;31m \u001b[0mcategorical_distribution\u001b[0m \u001b[0;34m=\u001b[0m \u001b[0mpolicy_net\u001b[0m\u001b[0;34m.\u001b[0m\u001b[0maction_distribution\u001b[0m\u001b[0;34m(\u001b[0m\u001b[0minitial_state\u001b[0m\u001b[0;34m)\u001b[0m\u001b[0;34m\u001b[0m\u001b[0;34m\u001b[0m\u001b[0m\n\u001b[0m",
      "\u001b[0;32m~/Desktop/carbon-trading/code/models/models.py\u001b[0m in \u001b[0;36maction_distribution\u001b[0;34m(self, state_dict)\u001b[0m\n\u001b[1;32m    146\u001b[0m \u001b[0;34m\u001b[0m\u001b[0m\n\u001b[1;32m    147\u001b[0m     \u001b[0;32mdef\u001b[0m \u001b[0maction_distribution\u001b[0m\u001b[0;34m(\u001b[0m\u001b[0mself\u001b[0m\u001b[0;34m,\u001b[0m \u001b[0mstate_dict\u001b[0m\u001b[0;34m)\u001b[0m\u001b[0;34m:\u001b[0m\u001b[0;34m\u001b[0m\u001b[0;34m\u001b[0m\u001b[0m\n\u001b[0;32m--> 148\u001b[0;31m         \u001b[0mlogits\u001b[0m \u001b[0;34m=\u001b[0m \u001b[0mself\u001b[0m\u001b[0;34m.\u001b[0m\u001b[0mpolicy_model\u001b[0m\u001b[0;34m(\u001b[0m\u001b[0mstate_dict\u001b[0m\u001b[0;34m)\u001b[0m\u001b[0;34m\u001b[0m\u001b[0;34m\u001b[0m\u001b[0m\n\u001b[0m\u001b[1;32m    149\u001b[0m         \u001b[0;32mreturn\u001b[0m \u001b[0mtfp\u001b[0m\u001b[0;34m.\u001b[0m\u001b[0mdistributions\u001b[0m\u001b[0;34m.\u001b[0m\u001b[0mCategorical\u001b[0m\u001b[0;34m(\u001b[0m\u001b[0mlogits\u001b[0m\u001b[0;34m=\u001b[0m\u001b[0mlogits\u001b[0m\u001b[0;34m)\u001b[0m\u001b[0;34m\u001b[0m\u001b[0;34m\u001b[0m\u001b[0m\n\u001b[1;32m    150\u001b[0m \u001b[0;34m\u001b[0m\u001b[0m\n",
      "\u001b[0;32m~/anaconda3/envs/rl/lib/python3.9/site-packages/keras/engine/base_layer.py\u001b[0m in \u001b[0;36m__call__\u001b[0;34m(self, *args, **kwargs)\u001b[0m\n\u001b[1;32m   1035\u001b[0m         with autocast_variable.enable_auto_cast_variables(\n\u001b[1;32m   1036\u001b[0m             self._compute_dtype_object):\n\u001b[0;32m-> 1037\u001b[0;31m           \u001b[0moutputs\u001b[0m \u001b[0;34m=\u001b[0m \u001b[0mcall_fn\u001b[0m\u001b[0;34m(\u001b[0m\u001b[0minputs\u001b[0m\u001b[0;34m,\u001b[0m \u001b[0;34m*\u001b[0m\u001b[0margs\u001b[0m\u001b[0;34m,\u001b[0m \u001b[0;34m**\u001b[0m\u001b[0mkwargs\u001b[0m\u001b[0;34m)\u001b[0m\u001b[0;34m\u001b[0m\u001b[0;34m\u001b[0m\u001b[0m\n\u001b[0m\u001b[1;32m   1038\u001b[0m \u001b[0;34m\u001b[0m\u001b[0m\n\u001b[1;32m   1039\u001b[0m         \u001b[0;32mif\u001b[0m \u001b[0mself\u001b[0m\u001b[0;34m.\u001b[0m\u001b[0m_activity_regularizer\u001b[0m\u001b[0;34m:\u001b[0m\u001b[0;34m\u001b[0m\u001b[0;34m\u001b[0m\u001b[0m\n",
      "\u001b[0;32m~/Desktop/carbon-trading/code/models/models.py\u001b[0m in \u001b[0;36mcall\u001b[0;34m(self, state_dict)\u001b[0m\n\u001b[1;32m     71\u001b[0m         \"\"\"\n\u001b[1;32m     72\u001b[0m \u001b[0;34m\u001b[0m\u001b[0m\n\u001b[0;32m---> 73\u001b[0;31m         \u001b[0mself\u001b[0m\u001b[0;34m.\u001b[0m\u001b[0mcontracts_tensor\u001b[0m \u001b[0;34m=\u001b[0m \u001b[0mstate_dict\u001b[0m\u001b[0;34m[\u001b[0m\u001b[0;34m\"contracts_tensor\"\u001b[0m\u001b[0;34m]\u001b[0m\u001b[0;34m\u001b[0m\u001b[0;34m\u001b[0m\u001b[0m\n\u001b[0m\u001b[1;32m     74\u001b[0m         \u001b[0mself\u001b[0m\u001b[0;34m.\u001b[0m\u001b[0mfleet_tensor\u001b[0m \u001b[0;34m=\u001b[0m \u001b[0mstate_dict\u001b[0m\u001b[0;34m[\u001b[0m\u001b[0;34m\"fleet_tensor\"\u001b[0m\u001b[0;34m]\u001b[0m\u001b[0;34m\u001b[0m\u001b[0;34m\u001b[0m\u001b[0m\n\u001b[1;32m     75\u001b[0m         \u001b[0mself\u001b[0m\u001b[0;34m.\u001b[0m\u001b[0mcontracts_mask\u001b[0m \u001b[0;34m=\u001b[0m \u001b[0mstate_dict\u001b[0m\u001b[0;34m[\u001b[0m\u001b[0;34m\"contracts_mask\"\u001b[0m\u001b[0;34m]\u001b[0m\u001b[0;34m\u001b[0m\u001b[0;34m\u001b[0m\u001b[0m\n",
      "\u001b[0;31mKeyError\u001b[0m: 'contracts_tensor'"
     ]
    }
   ],
   "source": [
    "categorical_distribution = policy_net.action_distribution(initial_state)"
   ]
  },
  {
   "cell_type": "code",
   "execution_count": 41,
   "metadata": {},
   "outputs": [
    {
     "data": {
      "text/plain": [
       "{'contracts_state': <tf.Tensor: shape=(4, 10), dtype=float32, numpy=\n",
       " array([[7.0000e+00, 1.0000e+00, 4.0000e+00, 0.0000e+00, 5.0000e+00,\n",
       "         7.8081e+04, 6.0000e+00, 1.0000e+00, 4.9200e+02, 6.0000e+00],\n",
       "        [2.0000e+00, 1.0000e+00, 4.0000e+00, 0.0000e+00, 1.1000e+01,\n",
       "         7.6281e+04, 1.2000e+01, 1.0000e+00, 2.2370e+03, 1.4000e+01],\n",
       "        [9.0000e+00, 5.0000e+00, 3.0000e+00, 0.0000e+00, 8.0000e+00,\n",
       "         6.4569e+04, 9.0000e+00, 1.0000e+00, 1.4800e+03, 1.1000e+01],\n",
       "        [2.0000e+00, 9.0000e+00, 3.0000e+00, 0.0000e+00, 1.3000e+01,\n",
       "         6.6132e+04, 1.4000e+01, 1.0000e+00, 2.7640e+03, 1.3000e+01]],\n",
       "       dtype=float32)>,\n",
       " 'ships_state': <tf.Tensor: shape=(4, 11), dtype=float32, numpy=\n",
       " array([[1.0000000e+00, 5.0000000e+04, 5.3851833e+00, 0.0000000e+00,\n",
       "         3.0000000e+00, 0.0000000e+00, 1.0000000e+00, 8.8600000e+02,\n",
       "         1.6530000e+03, 1.1470000e+03, 1.6530000e+03],\n",
       "        [2.0000000e+00, 6.0000000e+04, 4.8078370e+00, 0.0000000e+00,\n",
       "         8.0000000e+00, 0.0000000e+00, 1.0000000e+00, 1.1400000e+03,\n",
       "         1.4600000e+03, 2.8700000e+02, 1.4600000e+03],\n",
       "        [3.0000000e+00, 7.0000000e+04, 4.3682637e+00, 0.0000000e+00,\n",
       "         4.0000000e+00, 0.0000000e+00, 1.0000000e+00, 5.4300000e+02,\n",
       "         2.6190000e+03, 1.9800000e+02, 2.6190000e+03],\n",
       "        [4.0000000e+00, 8.0000000e+04, 4.0201092e+00, 0.0000000e+00,\n",
       "         1.0000000e+00, 0.0000000e+00, 1.0000000e+00, 4.9200000e+02,\n",
       "         2.2370000e+03, 6.9600000e+02, 2.2370000e+03]], dtype=float32)>,\n",
       " 'contracts_mask': <tf.Tensor: shape=(4, 1), dtype=float32, numpy=\n",
       " array([[1.],\n",
       "        [1.],\n",
       "        [1.],\n",
       "        [1.]], dtype=float32)>,\n",
       " 'ships_mask': <tf.Tensor: shape=(4, 1), dtype=float32, numpy=\n",
       " array([[1.],\n",
       "        [1.],\n",
       "        [1.],\n",
       "        [1.]], dtype=float32)>}"
      ]
     },
     "execution_count": 41,
     "metadata": {},
     "output_type": "execute_result"
    }
   ],
   "source": [
    "initial_state"
   ]
  },
  {
   "cell_type": "code",
   "execution_count": null,
   "metadata": {},
   "outputs": [],
   "source": [
    "value = baseline_net.forward(initial_state)"
   ]
  },
  {
   "cell_type": "code",
   "execution_count": null,
   "metadata": {},
   "outputs": [],
   "source": []
  },
  {
   "cell_type": "code",
   "execution_count": null,
   "metadata": {},
   "outputs": [],
   "source": [
    "baseline_net = BaselineNet()"
   ]
  },
  {
   "cell_type": "code",
   "execution_count": null,
   "metadata": {},
   "outputs": [],
   "source": [
    "envo.observation_space_dim"
   ]
  },
  {
   "cell_type": "code",
   "execution_count": null,
   "metadata": {},
   "outputs": [],
   "source": [
    "envo.action_space_dim"
   ]
  },
  {
   "cell_type": "code",
   "execution_count": null,
   "metadata": {},
   "outputs": [],
   "source": [
    "envo.action_space[\"actions\"].shape"
   ]
  },
  {
   "cell_type": "code",
   "execution_count": null,
   "metadata": {},
   "outputs": [],
   "source": [
    "envo.observation_space[\"contracts_state\"].shape"
   ]
  },
  {
   "cell_type": "code",
   "execution_count": null,
   "metadata": {},
   "outputs": [],
   "source": [
    "envo.observation_space[\"ships_state\"].shape"
   ]
  },
  {
   "cell_type": "code",
   "execution_count": null,
   "metadata": {},
   "outputs": [],
   "source": [
    "envo.observation_space[\"contracts_mask\"].shape"
   ]
  },
  {
   "cell_type": "code",
   "execution_count": null,
   "metadata": {},
   "outputs": [],
   "source": [
    "envo.observation_space[\"ships_mask\"].shape"
   ]
  },
  {
   "cell_type": "code",
   "execution_count": null,
   "metadata": {},
   "outputs": [],
   "source": [
    "ships = envo.create_contracts_tensor()"
   ]
  },
  {
   "cell_type": "code",
   "execution_count": null,
   "metadata": {},
   "outputs": [],
   "source": [
    "ships[0]"
   ]
  },
  {
   "cell_type": "code",
   "execution_count": null,
   "metadata": {},
   "outputs": [],
   "source": [
    "ships[1][:, 4] - 1"
   ]
  },
  {
   "cell_type": "code",
   "execution_count": null,
   "metadata": {},
   "outputs": [],
   "source": []
  },
  {
   "cell_type": "code",
   "execution_count": null,
   "metadata": {},
   "outputs": [],
   "source": []
  },
  {
   "cell_type": "code",
   "execution_count": null,
   "metadata": {},
   "outputs": [],
   "source": [
    "for i in range(0, 8):\n",
    "\n",
    "    day = i // 4\n",
    "    print(day)"
   ]
  },
  {
   "cell_type": "code",
   "execution_count": null,
   "metadata": {},
   "outputs": [],
   "source": []
  },
  {
   "cell_type": "code",
   "execution_count": null,
   "metadata": {},
   "outputs": [],
   "source": []
  },
  {
   "cell_type": "code",
   "execution_count": null,
   "metadata": {},
   "outputs": [],
   "source": []
  },
  {
   "cell_type": "code",
   "execution_count": null,
   "metadata": {},
   "outputs": [],
   "source": []
  },
  {
   "cell_type": "code",
   "execution_count": null,
   "metadata": {},
   "outputs": [],
   "source": []
  },
  {
   "cell_type": "code",
   "execution_count": null,
   "metadata": {},
   "outputs": [],
   "source": []
  },
  {
   "cell_type": "code",
   "execution_count": null,
   "metadata": {},
   "outputs": [],
   "source": []
  },
  {
   "cell_type": "code",
   "execution_count": null,
   "metadata": {},
   "outputs": [],
   "source": []
  },
  {
   "cell_type": "code",
   "execution_count": null,
   "metadata": {},
   "outputs": [],
   "source": [
    "# encoder mlp\n",
    "\n",
    "# see https://keras.io/examples/structured_data/structured_data_classification_from_scratch/\n",
    "# see https://www.tensorflow.org/tutorials/generative/autoencoder\n",
    "# Create an Integer Categorical Feature for contract_type"
   ]
  },
  {
   "cell_type": "code",
   "execution_count": null,
   "metadata": {
    "code_folding": [
     0
    ]
   },
   "outputs": [],
   "source": [
    "# Delay\n",
    "\n",
    "contracts = create_contrs(seed=56)\n",
    "agent_speed = 10\n",
    "agent_ship = 2\n",
    "ship_current_port = 4\n",
    "contract = contracts.loc[0]\n",
    "start_port_number = contract.start_port_number\n",
    "end_port_number = contract.end_port_number\n",
    "trip_1_hours = find_distance(ship_current_port,start_port_number) / agent_speed\n",
    "print(dt_1_hours)\n",
    "trip_2_hours = find_distance(start_port_number,end_port_number) / agent_speed\n",
    "print(dt_2_hours)\n",
    "trip_total_hours = trip_1_hours + trip_2_hours\n",
    "\n",
    "\n",
    "trip_total_days = round(trip_total_hours / 24)\n",
    "print(trip_total_days)\n",
    "\n",
    "contract_duration = contract.contract_duration\n",
    "delay = trip_total_days - contract_duration\n",
    "delay_penalty_factor_per_day = 10\n",
    "\n",
    "reward = 0\n",
    "penalty = 0 \n",
    "if delay <= 0:\n",
    "    # I arrived on time\n",
    "    # provide a constant reward > 0 \n",
    "    reward = 10\n",
    "    # \n",
    "else:\n",
    "    # I arrived late \n",
    "    # penalty < 0\n",
    "    delay_in_days = -delay\n",
    "    penalty = delay_penalty_factor_per_day * delay_in_days\n",
    "\n",
    "print(f\"The delay is {delay} days\")\n",
    "print(f\"The reward is {reward}\")\n",
    "print(f\"The penalty is {penalty}\")\n",
    "\n",
    "# cargo_size vs ship_shize\n",
    "\n",
    "contracts = create_contrs(seed=56)\n",
    "\n",
    "# gia ka8e contract se spawned contracts\n",
    "\n",
    "contract = contracts.loc[0]\n",
    "\n",
    "fleet_df\n",
    "# elegxw ka8e ploio pou einai available dhladh exei availability 1 \n",
    "mask_of_available_ships = fleet_df['ship_availability'] == 1\n",
    "\n",
    "available_ships = fleet_df[mask_of_available_ships]\n",
    "\n",
    "available_ships_numbers = available_ships.ship_number\n",
    "\n",
    "available_ships_numbers\n",
    "\n",
    "\n",
    "\n",
    "# checkare sto masking an kaneis mask out tous assous h ta mhdenika\n",
    "\n",
    "# gia ka8e tetoio ploio\n",
    "\n",
    "\n",
    "# get ship_number\n",
    "\n",
    "ship_numbers = \n",
    "agent_ship_selection = 2\n",
    "\n",
    "# get ship info\n",
    "ship_mask = fleet_df['ship_number'] == agent_ship_selection\n",
    "\n",
    "ship_info = fleet_df[ship_mask]\n",
    "print(ship_info)\n",
    "\n",
    "ship_current_port = ship_info.current_port\n",
    "print(ship_current_port)\n",
    "\n",
    "\n",
    "\n",
    "\n",
    "\n",
    "\n",
    "start_port_number = contract.start_port_number\n",
    "end_port_number = contract.end_port_number\n",
    "trip_1_distance = find_distance(ship_current_port,start_port_number)\n",
    "print(trip_1_distance)\n",
    "trip_2_distance = find_distance(start_port_number,end_port_number)\n",
    "print(trip_2_distance)\n",
    "trip_total_distance = trip_1_distance + trip_2_distance\n",
    "\n",
    "\n",
    "\n",
    "\n",
    "trip_total_days = round(trip_total_hours / 24)\n",
    "print(trip_total_days)\n",
    "\n",
    "contract_duration = contract.contract_duration\n",
    "delay = trip_total_days - contract_duration\n",
    "delay_penalty_factor_per_day = 10\n",
    "\n",
    "reward = 0\n",
    "penalty = 0 \n",
    "if delay <= 0:\n",
    "    # I arrived on time\n",
    "    # provide a constant reward > 0 \n",
    "    reward = 10\n",
    "    # \n",
    "else:\n",
    "    # I arrived late \n",
    "    # penalty < 0\n",
    "    delay_in_days = -delay\n",
    "    penalty = delay_penalty_factor_per_day * delay_in_days\n",
    "\n",
    "print(f\"The delay is {delay} days\")\n",
    "print(f\"The reward is {reward}\")\n",
    "print(f\"The penalty is {penalty}\")\n"
   ]
  },
  {
   "cell_type": "code",
   "execution_count": null,
   "metadata": {},
   "outputs": [],
   "source": []
  },
  {
   "cell_type": "code",
   "execution_count": null,
   "metadata": {},
   "outputs": [],
   "source": []
  }
 ],
 "metadata": {
  "interpreter": {
   "hash": "b0ef8fd9461b8a7174e04371100f893194f575b4895c82467862fe3595d34e0f"
  },
  "kernelspec": {
   "display_name": "Python 3.9.7 64-bit ('rl': conda)",
   "language": "python",
   "name": "python397jvsc74a57bd0aab302a361633d0f4220ac63331fe65e9bd63faf3f5b6c8e967bb743dd0eb01b"
  },
  "language_info": {
   "codemirror_mode": {
    "name": "ipython",
    "version": 3
   },
   "file_extension": ".py",
   "mimetype": "text/x-python",
   "name": "python",
   "nbconvert_exporter": "python",
   "pygments_lexer": "ipython3",
   "version": "3.9.7"
  },
  "latex_envs": {
   "LaTeX_envs_menu_present": true,
   "autoclose": false,
   "autocomplete": true,
   "bibliofile": "biblio.bib",
   "cite_by": "apalike",
   "current_citInitial": 1,
   "eqLabelWithNumbers": true,
   "eqNumInitial": 1,
   "hotkeys": {
    "equation": "Ctrl-E",
    "itemize": "Ctrl-I"
   },
   "labels_anchors": false,
   "latex_user_defs": false,
   "report_style_numbering": false,
   "user_envs_cfg": false
  },
  "toc": {
   "base_numbering": 1,
   "nav_menu": {
    "height": "114px",
    "width": "231px"
   },
   "number_sections": false,
   "sideBar": true,
   "skip_h1_title": false,
   "title_cell": "Table of Contents",
   "title_sidebar": "Contents",
   "toc_cell": false,
   "toc_position": {
    "height": "calc(100% - 180px)",
    "left": "10px",
    "top": "150px",
    "width": "165px"
   },
   "toc_section_display": true,
   "toc_window_display": true
  },
  "varInspector": {
   "cols": {
    "lenName": 16,
    "lenType": 16,
    "lenVar": 40
   },
   "kernels_config": {
    "python": {
     "delete_cmd_postfix": "",
     "delete_cmd_prefix": "del ",
     "library": "var_list.py",
     "varRefreshCmd": "print(var_dic_list())"
    },
    "r": {
     "delete_cmd_postfix": ") ",
     "delete_cmd_prefix": "rm(",
     "library": "var_list.r",
     "varRefreshCmd": "cat(var_dic_list()) "
    }
   },
   "types_to_exclude": [
    "module",
    "function",
    "builtin_function_or_method",
    "instance",
    "_Feature"
   ],
   "window_display": false
  }
 },
 "nbformat": 4,
 "nbformat_minor": 2
}
