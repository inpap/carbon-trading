{
 "cells": [
  {
   "cell_type": "code",
   "execution_count": 2,
   "metadata": {},
   "outputs": [],
   "source": [
    "import gym\n",
    "import tensorflow as tf\n",
    "from tensorflow import keras\n",
    "import numpy as np\n",
    "import pandas as pd\n",
    "import matplotlib.pyplot as plt\n",
    "\n",
    "\n"
   ]
  },
  {
   "cell_type": "code",
   "execution_count": 3,
   "metadata": {},
   "outputs": [],
   "source": [
    "# load data\n",
    "data_dict = {\n",
    "    \"fleet_path\":'data/fleet_small.csv',\n",
    "    \"ports_path\":'data/ports_10.csv',\n",
    "    \"dm_path\" : 'data/distance_matrix.csv'\n",
    "}\n",
    "\n",
    "\n",
    "ports_df = pd.read_csv(data_dict['ports_path'])\n",
    "fleet_df = pd.read_csv(data_dict['fleet_path'])\n",
    "distance_matrix = pd.read_csv(data_dict['dm_path'])\n",
    "\n",
    "\n"
   ]
  },
  {
   "cell_type": "code",
   "execution_count": 4,
   "metadata": {},
   "outputs": [
    {
     "name": "stderr",
     "output_type": "stream",
     "text": [
      "2021-11-05 19:14:27.628596: I tensorflow/core/platform/cpu_feature_guard.cc:142] This TensorFlow binary is optimized with oneAPI Deep Neural Network Library (oneDNN) to use the following CPU instructions in performance-critical operations:  SSE4.1 SSE4.2 AVX\n",
      "To enable them in other operations, rebuild TensorFlow with the appropriate compiler flags.\n",
      "2021-11-05 19:14:27.629794: I tensorflow/core/common_runtime/process_util.cc:146] Creating new thread pool with default inter op setting: 2. Tune using inter_op_parallelism_threads for best performance.\n"
     ]
    }
   ],
   "source": [
    "from env.env import CarbonEnv\n",
    "from utils.utils import func_ballast\n",
    "\n",
    "envo = CarbonEnv()\n",
    "con_df, con_tensor = envo.create_contracts_tensor()"
   ]
  },
  {
   "cell_type": "code",
   "execution_count": 5,
   "metadata": {},
   "outputs": [
    {
     "data": {
      "text/plain": [
       "{'contracts_state': <tf.Tensor: shape=(1, 4, 10), dtype=float32, numpy=\n",
       " array([[[3.0000e+00, 8.0000e+00, 2.0000e+00, 0.0000e+00, 4.0000e+00,\n",
       "          5.4474e+04, 5.0000e+00, 1.0000e+00, 2.8700e+02, 3.0000e+00],\n",
       "         [2.0000e+00, 8.0000e+00, 4.0000e+00, 0.0000e+00, 9.0000e+00,\n",
       "          7.4757e+04, 1.0000e+01, 1.0000e+00, 1.4600e+03, 1.1000e+01],\n",
       "         [1.0000e+01, 5.0000e+00, 2.0000e+00, 0.0000e+00, 5.0000e+00,\n",
       "          5.0991e+04, 6.0000e+00, 1.0000e+00, 4.2500e+02, 4.0000e+00],\n",
       "         [1.0000e+00, 1.0000e+01, 4.0000e+00, 0.0000e+00, 5.0000e+00,\n",
       "          7.5529e+04, 6.0000e+00, 1.0000e+00, 6.0000e+02, 8.0000e+00]]],\n",
       "       dtype=float32)>,\n",
       " 'ships_state': <tf.Tensor: shape=(1, 4, 11), dtype=float32, numpy=\n",
       " array([[[1.0000000e+00, 5.0000000e+04, 5.3851833e+00, 0.0000000e+00,\n",
       "          3.0000000e+00, 0.0000000e+00, 1.0000000e+00, 0.0000000e+00,\n",
       "          1.6530000e+03, 1.2400000e+02, 5.8500000e+02],\n",
       "         [2.0000000e+00, 6.0000000e+04, 4.8078370e+00, 0.0000000e+00,\n",
       "          7.0000000e+00, 0.0000000e+00, 1.0000000e+00, 8.8600000e+02,\n",
       "          2.5030000e+03, 9.0800000e+02, 4.9200000e+02],\n",
       "         [3.0000000e+00, 7.0000000e+04, 4.3682637e+00, 0.0000000e+00,\n",
       "          6.0000000e+00, 0.0000000e+00, 1.0000000e+00, 8.4600000e+02,\n",
       "          2.4630000e+03, 8.7600000e+02, 3.9900000e+02],\n",
       "         [4.0000000e+00, 8.0000000e+04, 4.0201092e+00, 0.0000000e+00,\n",
       "          9.0000000e+00, 0.0000000e+00, 1.0000000e+00, 1.1470000e+03,\n",
       "          2.7640000e+03, 1.1740000e+03, 6.9600000e+02]]], dtype=float32)>,\n",
       " 'contracts_mask': <tf.Tensor: shape=(32, 4), dtype=float32, numpy=\n",
       " array([[0., 0., 0., 0.],\n",
       "        [0., 0., 0., 0.],\n",
       "        [0., 0., 0., 0.],\n",
       "        [0., 0., 0., 0.],\n",
       "        [0., 0., 0., 0.],\n",
       "        [0., 0., 0., 0.],\n",
       "        [0., 0., 0., 0.],\n",
       "        [0., 0., 0., 0.],\n",
       "        [0., 0., 0., 0.],\n",
       "        [0., 0., 0., 0.],\n",
       "        [0., 0., 0., 0.],\n",
       "        [0., 0., 0., 0.],\n",
       "        [0., 0., 0., 0.],\n",
       "        [0., 0., 0., 0.],\n",
       "        [0., 0., 0., 0.],\n",
       "        [0., 0., 0., 0.],\n",
       "        [0., 0., 0., 0.],\n",
       "        [0., 0., 0., 0.],\n",
       "        [0., 0., 0., 0.],\n",
       "        [0., 0., 0., 0.],\n",
       "        [0., 0., 0., 0.],\n",
       "        [0., 0., 0., 0.],\n",
       "        [0., 0., 0., 0.],\n",
       "        [0., 0., 0., 0.],\n",
       "        [0., 0., 0., 0.],\n",
       "        [0., 0., 0., 0.],\n",
       "        [0., 0., 0., 0.],\n",
       "        [0., 0., 0., 0.],\n",
       "        [0., 0., 0., 0.],\n",
       "        [0., 0., 0., 0.],\n",
       "        [0., 0., 0., 0.],\n",
       "        [0., 0., 0., 0.]], dtype=float32)>,\n",
       " 'ships_mask': <tf.Tensor: shape=(32, 4), dtype=float32, numpy=\n",
       " array([[0., 0., 0., 0.],\n",
       "        [0., 0., 0., 0.],\n",
       "        [0., 0., 0., 0.],\n",
       "        [0., 0., 0., 0.],\n",
       "        [0., 0., 0., 0.],\n",
       "        [0., 0., 0., 0.],\n",
       "        [0., 0., 0., 0.],\n",
       "        [0., 0., 0., 0.],\n",
       "        [0., 0., 0., 0.],\n",
       "        [0., 0., 0., 0.],\n",
       "        [0., 0., 0., 0.],\n",
       "        [0., 0., 0., 0.],\n",
       "        [0., 0., 0., 0.],\n",
       "        [0., 0., 0., 0.],\n",
       "        [0., 0., 0., 0.],\n",
       "        [0., 0., 0., 0.],\n",
       "        [0., 0., 0., 0.],\n",
       "        [0., 0., 0., 0.],\n",
       "        [0., 0., 0., 0.],\n",
       "        [0., 0., 0., 0.],\n",
       "        [0., 0., 0., 0.],\n",
       "        [0., 0., 0., 0.],\n",
       "        [0., 0., 0., 0.],\n",
       "        [0., 0., 0., 0.],\n",
       "        [0., 0., 0., 0.],\n",
       "        [0., 0., 0., 0.],\n",
       "        [0., 0., 0., 0.],\n",
       "        [0., 0., 0., 0.],\n",
       "        [0., 0., 0., 0.],\n",
       "        [0., 0., 0., 0.],\n",
       "        [0., 0., 0., 0.],\n",
       "        [0., 0., 0., 0.]], dtype=float32)>}"
      ]
     },
     "execution_count": 5,
     "metadata": {},
     "output_type": "execute_result"
    }
   ],
   "source": [
    "envo.state"
   ]
  },
  {
   "cell_type": "code",
   "execution_count": 5,
   "metadata": {},
   "outputs": [],
   "source": [
    "from utils.utils import cii_expected"
   ]
  },
  {
   "cell_type": "code",
   "execution_count": 6,
   "metadata": {},
   "outputs": [],
   "source": [
    "fl['cii_threshold'] = fl['dwt'].map(cii_expected)"
   ]
  },
  {
   "cell_type": "code",
   "execution_count": 7,
   "metadata": {},
   "outputs": [],
   "source": [
    "fl['current_port'] = np.random.randint(1,11,4)"
   ]
  },
  {
   "cell_type": "code",
   "execution_count": null,
   "metadata": {},
   "outputs": [],
   "source": [
    "\n",
    "\n",
    "\n",
    "\n",
    "\n",
    "\n",
    "\n",
    "\n",
    "\n",
    "\n",
    "\n",
    "\n",
    "\n",
    "\n",
    "\n",
    "\n",
    "\n",
    "\n",
    "\n",
    "\n"
   ]
  },
  {
   "cell_type": "code",
   "execution_count": 3,
   "metadata": {},
   "outputs": [
    {
     "name": "stdout",
     "output_type": "stream",
     "text": [
      "0\n",
      "0\n",
      "0\n",
      "0\n",
      "1\n",
      "1\n",
      "1\n",
      "1\n"
     ]
    }
   ],
   "source": [
    "for i in range(0,8):\n",
    "    \n",
    "    day = i // 4\n",
    "    print(day)"
   ]
  },
  {
   "cell_type": "code",
   "execution_count": null,
   "metadata": {},
   "outputs": [],
   "source": []
  },
  {
   "cell_type": "code",
   "execution_count": null,
   "metadata": {},
   "outputs": [],
   "source": []
  },
  {
   "cell_type": "code",
   "execution_count": null,
   "metadata": {},
   "outputs": [],
   "source": []
  },
  {
   "cell_type": "code",
   "execution_count": null,
   "metadata": {},
   "outputs": [],
   "source": []
  },
  {
   "cell_type": "code",
   "execution_count": null,
   "metadata": {},
   "outputs": [],
   "source": []
  },
  {
   "cell_type": "code",
   "execution_count": null,
   "metadata": {},
   "outputs": [],
   "source": []
  },
  {
   "cell_type": "code",
   "execution_count": null,
   "metadata": {},
   "outputs": [],
   "source": [
    "# encoder mlp\n",
    "\n",
    "# see https://keras.io/examples/structured_data/structured_data_classification_from_scratch/\n",
    "# see https://www.tensorflow.org/tutorials/generative/autoencoder\n",
    "# Create an Integer Categorical Feature for contract_type"
   ]
  },
  {
   "cell_type": "code",
   "execution_count": null,
   "metadata": {
    "code_folding": [
     0
    ]
   },
   "outputs": [],
   "source": [
    "# Delay\n",
    "\n",
    "contracts = create_contrs(seed=56)\n",
    "agent_speed = 10\n",
    "agent_ship = 2\n",
    "ship_current_port = 4\n",
    "contract = contracts.loc[0]\n",
    "start_port_number = contract.start_port_number\n",
    "end_port_number = contract.end_port_number\n",
    "trip_1_hours = find_distance(ship_current_port,start_port_number) / agent_speed\n",
    "print(dt_1_hours)\n",
    "trip_2_hours = find_distance(start_port_number,end_port_number) / agent_speed\n",
    "print(dt_2_hours)\n",
    "trip_total_hours = trip_1_hours + trip_2_hours\n",
    "\n",
    "\n",
    "trip_total_days = round(trip_total_hours / 24)\n",
    "print(trip_total_days)\n",
    "\n",
    "contract_duration = contract.contract_duration\n",
    "delay = trip_total_days - contract_duration\n",
    "delay_penalty_factor_per_day = 10\n",
    "\n",
    "reward = 0\n",
    "penalty = 0 \n",
    "if delay <= 0:\n",
    "    # I arrived on time\n",
    "    # provide a constant reward > 0 \n",
    "    reward = 10\n",
    "    # \n",
    "else:\n",
    "    # I arrived late \n",
    "    # penalty < 0\n",
    "    delay_in_days = -delay\n",
    "    penalty = delay_penalty_factor_per_day * delay_in_days\n",
    "\n",
    "print(f\"The delay is {delay} days\")\n",
    "print(f\"The reward is {reward}\")\n",
    "print(f\"The penalty is {penalty}\")\n",
    "\n",
    "# cargo_size vs ship_shize\n",
    "\n",
    "contracts = create_contrs(seed=56)\n",
    "\n",
    "# gia ka8e contract se spawned contracts\n",
    "\n",
    "contract = contracts.loc[0]\n",
    "\n",
    "fleet_df\n",
    "# elegxw ka8e ploio pou einai available dhladh exei availability 1 \n",
    "mask_of_available_ships = fleet_df['ship_availability'] == 1\n",
    "\n",
    "available_ships = fleet_df[mask_of_available_ships]\n",
    "\n",
    "available_ships_numbers = available_ships.ship_number\n",
    "\n",
    "available_ships_numbers\n",
    "\n",
    "\n",
    "\n",
    "# checkare sto masking an kaneis mask out tous assous h ta mhdenika\n",
    "\n",
    "# gia ka8e tetoio ploio\n",
    "\n",
    "\n",
    "# get ship_number\n",
    "\n",
    "ship_numbers = \n",
    "agent_ship_selection = 2\n",
    "\n",
    "# get ship info\n",
    "ship_mask = fleet_df['ship_number'] == agent_ship_selection\n",
    "\n",
    "ship_info = fleet_df[ship_mask]\n",
    "print(ship_info)\n",
    "\n",
    "ship_current_port = ship_info.current_port\n",
    "print(ship_current_port)\n",
    "\n",
    "\n",
    "\n",
    "\n",
    "\n",
    "\n",
    "start_port_number = contract.start_port_number\n",
    "end_port_number = contract.end_port_number\n",
    "trip_1_distance = find_distance(ship_current_port,start_port_number)\n",
    "print(trip_1_distance)\n",
    "trip_2_distance = find_distance(start_port_number,end_port_number)\n",
    "print(trip_2_distance)\n",
    "trip_total_distance = trip_1_distance + trip_2_distance\n",
    "\n",
    "\n",
    "\n",
    "\n",
    "trip_total_days = round(trip_total_hours / 24)\n",
    "print(trip_total_days)\n",
    "\n",
    "contract_duration = contract.contract_duration\n",
    "delay = trip_total_days - contract_duration\n",
    "delay_penalty_factor_per_day = 10\n",
    "\n",
    "reward = 0\n",
    "penalty = 0 \n",
    "if delay <= 0:\n",
    "    # I arrived on time\n",
    "    # provide a constant reward > 0 \n",
    "    reward = 10\n",
    "    # \n",
    "else:\n",
    "    # I arrived late \n",
    "    # penalty < 0\n",
    "    delay_in_days = -delay\n",
    "    penalty = delay_penalty_factor_per_day * delay_in_days\n",
    "\n",
    "print(f\"The delay is {delay} days\")\n",
    "print(f\"The reward is {reward}\")\n",
    "print(f\"The penalty is {penalty}\")\n"
   ]
  }
 ],
 "metadata": {
  "interpreter": {
   "hash": "b0ef8fd9461b8a7174e04371100f893194f575b4895c82467862fe3595d34e0f"
  },
  "kernelspec": {
   "display_name": "Python 3.9.7 64-bit ('rl': conda)",
   "language": "python",
   "name": "python397jvsc74a57bd0aab302a361633d0f4220ac63331fe65e9bd63faf3f5b6c8e967bb743dd0eb01b"
  },
  "language_info": {
   "codemirror_mode": {
    "name": "ipython",
    "version": 3
   },
   "file_extension": ".py",
   "mimetype": "text/x-python",
   "name": "python",
   "nbconvert_exporter": "python",
   "pygments_lexer": "ipython3",
   "version": "3.9.7"
  },
  "latex_envs": {
   "LaTeX_envs_menu_present": true,
   "autoclose": false,
   "autocomplete": true,
   "bibliofile": "biblio.bib",
   "cite_by": "apalike",
   "current_citInitial": 1,
   "eqLabelWithNumbers": true,
   "eqNumInitial": 1,
   "hotkeys": {
    "equation": "Ctrl-E",
    "itemize": "Ctrl-I"
   },
   "labels_anchors": false,
   "latex_user_defs": false,
   "report_style_numbering": false,
   "user_envs_cfg": false
  },
  "toc": {
   "base_numbering": 1,
   "nav_menu": {
    "height": "114px",
    "width": "231px"
   },
   "number_sections": false,
   "sideBar": true,
   "skip_h1_title": false,
   "title_cell": "Table of Contents",
   "title_sidebar": "Contents",
   "toc_cell": false,
   "toc_position": {
    "height": "calc(100% - 180px)",
    "left": "10px",
    "top": "150px",
    "width": "384px"
   },
   "toc_section_display": true,
   "toc_window_display": true
  },
  "varInspector": {
   "cols": {
    "lenName": 16,
    "lenType": 16,
    "lenVar": 40
   },
   "kernels_config": {
    "python": {
     "delete_cmd_postfix": "",
     "delete_cmd_prefix": "del ",
     "library": "var_list.py",
     "varRefreshCmd": "print(var_dic_list())"
    },
    "r": {
     "delete_cmd_postfix": ") ",
     "delete_cmd_prefix": "rm(",
     "library": "var_list.r",
     "varRefreshCmd": "cat(var_dic_list()) "
    }
   },
   "types_to_exclude": [
    "module",
    "function",
    "builtin_function_or_method",
    "instance",
    "_Feature"
   ],
   "window_display": false
  }
 },
 "nbformat": 4,
 "nbformat_minor": 2
}
