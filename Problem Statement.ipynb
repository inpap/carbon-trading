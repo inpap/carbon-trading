{
 "cells": [
  {
   "cell_type": "markdown",
   "metadata": {},
   "source": [
    "# Maritime Fleet optimization under IMO 2023 Emission Trading Regulations using Reinforcement Learning\n",
    "\n",
    "## Problem formulation\n",
    "\n",
    "We have given: \n",
    "*  Fleet of V vessels $v = 1,..,V$\n",
    "*  Ports $p = 1,...,P$\n",
    "*  Contract $c = 1,...,C$ in terms of weight\n",
    "*  Discretized time steps $t = 1,...,T$\n",
    "\n",
    "We want to find routes / trajectories\n",
    "\n",
    "$Mparmpoutsala$\n",
    "\n",
    "That Minimize \n",
    "\n",
    "$ \\sum_{i,j,k \\in A} c_{ijk} * x_{ijk}$\n",
    "\n",
    "\n"
   ]
  }
 ],
 "metadata": {
  "kernelspec": {
   "display_name": "Python 3",
   "language": "python",
   "name": "python3"
  },
  "language_info": {
   "codemirror_mode": {
    "name": "ipython",
    "version": 3
   },
   "file_extension": ".py",
   "mimetype": "text/x-python",
   "name": "python",
   "nbconvert_exporter": "python",
   "pygments_lexer": "ipython3",
   "version": "3.7.5"
  }
 },
 "nbformat": 4,
 "nbformat_minor": 4
}
